{
  "nbformat": 4,
  "nbformat_minor": 0,
  "metadata": {
    "kernelspec": {
      "display_name": "Python 3",
      "language": "python",
      "name": "python3"
    },
    "language_info": {
      "codemirror_mode": {
        "name": "ipython",
        "version": 3
      },
      "file_extension": ".py",
      "mimetype": "text/x-python",
      "name": "python",
      "nbconvert_exporter": "python",
      "pygments_lexer": "ipython3",
      "version": "3.6.10"
    },
    "colab": {
      "name": "LAB6_TASK_B.ipynb",
      "provenance": []
    }
  },
  "cells": [
    {
      "cell_type": "code",
      "metadata": {
        "id": "nYHtu_zB_KAL",
        "colab_type": "code",
        "outputId": "92d87b17-49df-4044-92c8-94935c3fcc9c",
        "colab": {
          "base_uri": "https://localhost:8080/",
          "height": 34
        }
      },
      "source": [
        "!pip install emoji"
      ],
      "execution_count": 0,
      "outputs": [
        {
          "output_type": "stream",
          "text": [
            "Requirement already satisfied: emoji in /usr/local/lib/python3.6/dist-packages (0.5.4)\n"
          ],
          "name": "stdout"
        }
      ]
    },
    {
      "cell_type": "code",
      "metadata": {
        "id": "uhJduOzM-5f9",
        "colab_type": "code",
        "outputId": "4d5a2c39-25f1-438a-a86f-48aed09dc009",
        "colab": {
          "base_uri": "https://localhost:8080/",
          "height": 79
        }
      },
      "source": [
        "import string #preprocess\n",
        "import csv   #reading files\n",
        "import emoji #to convert emojis to words using demojize function\n",
        "import keras\n",
        "from keras.layers import Lambda, GlobalAveragePooling1D, Dense, Embedding\n",
        "#preprocess function\n",
        "import string\n",
        "def preprocess(list_of_tweets):\n",
        "  normalised_corpus =[]\n",
        "  for tweet in list_of_tweets:\n",
        "    words =[]\n",
        "    for word in tweet:\n",
        "      word = word.lower()\n",
        "      word = word.strip(string.punctuation)\n",
        "      word = word.strip(string.digits)\n",
        "      if word not in string.punctuation and word != \"url\": \n",
        "        words.append(word)\n",
        "    normalised_corpus.append(words)\n",
        "  return normalised_corpus  "
      ],
      "execution_count": 0,
      "outputs": [
        {
          "output_type": "stream",
          "text": [
            "Using TensorFlow backend.\n"
          ],
          "name": "stderr"
        },
        {
          "output_type": "display_data",
          "data": {
            "text/html": [
              "<p style=\"color: red;\">\n",
              "The default version of TensorFlow in Colab will soon switch to TensorFlow 2.x.<br>\n",
              "We recommend you <a href=\"https://www.tensorflow.org/guide/migrate\" target=\"_blank\">upgrade</a> now \n",
              "or ensure your notebook will continue to use TensorFlow 1.x via the <code>%tensorflow_version 1.x</code> magic:\n",
              "<a href=\"https://colab.research.google.com/notebooks/tensorflow_version.ipynb\" target=\"_blank\">more info</a>.</p>\n"
            ],
            "text/plain": [
              "<IPython.core.display.HTML object>"
            ]
          },
          "metadata": {
            "tags": []
          }
        }
      ]
    },
    {
      "cell_type": "code",
      "metadata": {
        "id": "c6fvoMIC-5gD",
        "colab_type": "code",
        "colab": {}
      },
      "source": [
        ""
      ],
      "execution_count": 0,
      "outputs": []
    },
    {
      "cell_type": "code",
      "metadata": {
        "id": "y6_5OGu5-5gG",
        "colab_type": "code",
        "colab": {}
      },
      "source": [
        "#getting train data\n",
        "from keras.preprocessing.text import Tokenizer\n",
        "raw_data =[] #stores all contents of tsv file as list of list [[id,tweet,A,B,C],[...]]\n",
        "with open(\"olid-training-v1.0.tsv\",encoding='UTF-8') as fd:\n",
        "    rd = csv.reader(fd, delimiter=\"\\t\", quotechar='\"')\n",
        "    for row in rd:\n",
        "        raw_data.append(row)\n",
        "\n",
        "raw_data.remove(raw_data[0]) #remove first list item since it contains headers\n",
        "\n",
        "#converts emoji to words and converts each tweet from string to list of words\n",
        "raw_tweets = []\n",
        "for tweet in raw_data:\n",
        "  tweet[1] = emoji.demojize(tweet[1])\n",
        "  temp = tweet[1].split()\n",
        "  raw_tweets.append(temp)\n",
        "\n",
        " #convert to lower, remove punctuation and digits and words like 'user' and 'url' \n",
        "clean_tweets = preprocess(raw_tweets)\n",
        "\n",
        "num_words=20000  #optional UNIQUE WORDS around 22156\n",
        "tokenizer = Tokenizer()\n",
        "tokenizer.fit_on_texts(clean_tweets)\n",
        "\n",
        "word2idx = tokenizer.word_index\n",
        "idx2word = tokenizer.index_word\n",
        "sents_as_ids = tokenizer.texts_to_sequences(clean_tweets)\n",
        "\n",
        "\n",
        "from keras.preprocessing.sequence import pad_sequences\n",
        "MAXIMUM_LENGTH = 30 #checking\n",
        "processed_train_data = pad_sequences(sents_as_ids,MAXIMUM_LENGTH,truncating='post')\n"
      ],
      "execution_count": 0,
      "outputs": []
    },
    {
      "cell_type": "code",
      "metadata": {
        "id": "IWRtmsSt-5gK",
        "colab_type": "code",
        "colab": {}
      },
      "source": [
        "# GETTING ALL THE LABELS\n",
        "train_labels_A = [tweet[2] for tweet in raw_data ]\n",
        "train_labels_B = [tweet[3] for tweet in raw_data ]\n",
        "train_labels_C = [tweet[4] for tweet in raw_data ]\n",
        "combined_train_labels = []  #combining all labels \n",
        "\n",
        "#print(train_labels_A)\n",
        "preprocessed_label_A = []\n",
        "for labelA in train_labels_A:\n",
        "  if labelA ==\"OFF\":\n",
        "    preprocessed_label_A.append(1)\n",
        "  else:\n",
        "    preprocessed_label_A.append(0)\n",
        "\n",
        "for i in range(len(train_labels_A)):\n",
        "  if train_labels_A[i] ==\"OFF\":\n",
        "    if train_labels_C[i] !=\"NULL\":\n",
        "      temp = train_labels_A[i] + train_labels_B[i] + train_labels_C[i] \n",
        "    else:\n",
        "      temp = train_labels_A[i] + train_labels_B[i]\n",
        "  else:\n",
        "    temp = train_labels_A[i]\n",
        "  combined_train_labels.append(temp)\n",
        "\n",
        "#sanity check\n",
        "#print(\"first 10 combined train labels: \",combined_train_labels[:10])\n",
        "\n",
        "unique_labels = {}\n",
        "count =0\n",
        "for label in combined_train_labels:\n",
        "  if label not in unique_labels.keys():\n",
        "    unique_labels[label] = count\n",
        "    count+=1\n",
        "\n",
        "#print(unique_labels)\n",
        "\n",
        "labels_to_ids = []\n",
        "\n",
        "for label in combined_train_labels:\n",
        "  labels_to_ids.append(unique_labels[label])\n"
      ],
      "execution_count": 0,
      "outputs": []
    },
    {
      "cell_type": "code",
      "metadata": {
        "id": "sxzvsl_K-5gN",
        "colab_type": "code",
        "outputId": "89de4380-ae56-4820-9180-4293c7b4cc9a",
        "colab": {
          "base_uri": "https://localhost:8080/",
          "height": 202
        }
      },
      "source": [
        "#CONVERTS ALL LABELS TO ONE HOT ENCODING [1,0,0,0,0] for all 5 classes\n",
        "from sklearn.preprocessing import LabelEncoder\n",
        "from keras.utils import np_utils\n",
        "encoder = LabelEncoder()\n",
        "encoder.fit(labels_to_ids)\n",
        "encoded_Y = encoder.transform(labels_to_ids)\n",
        "# convert integers to dummy variables (i.e. one hot encoded)\n",
        "processed_train_labels = np_utils.to_categorical(encoded_Y)\n",
        "print(\"one hot encoded train labels \\n \",processed_train_labels[:10])"
      ],
      "execution_count": 0,
      "outputs": [
        {
          "output_type": "stream",
          "text": [
            "one hot encoded train labels \n",
            "  [[1. 0. 0. 0. 0.]\n",
            " [0. 1. 0. 0. 0.]\n",
            " [0. 0. 1. 0. 0.]\n",
            " [1. 0. 0. 0. 0.]\n",
            " [0. 0. 1. 0. 0.]\n",
            " [0. 0. 0. 1. 0.]\n",
            " [1. 0. 0. 0. 0.]\n",
            " [0. 0. 0. 0. 1.]\n",
            " [0. 0. 1. 0. 0.]\n",
            " [0. 1. 0. 0. 0.]]\n"
          ],
          "name": "stdout"
        }
      ]
    },
    {
      "cell_type": "code",
      "metadata": {
        "id": "NpM6Ag2qZyN9",
        "colab_type": "code",
        "colab": {}
      },
      "source": [
        "def readGloveFile(gloveFile):\n",
        "    with open(gloveFile, 'r') as f:\n",
        "        wordToGlove = {}  \n",
        "        wordToIndex = {}  \n",
        "        indexToWord = {}  \n",
        "\n",
        "        for line in f:\n",
        "            record = line.strip().split()\n",
        "            token = record[0] \n",
        "            wordToGlove[token] = np.array(record[1:], dtype=np.float64) \n",
        "            \n",
        "        tokens = sorted(wordToGlove.keys())\n",
        "        for idx, tok in enumerate(tokens):\n",
        "            kerasIdx = idx + 1  \n",
        "            wordToIndex[tok] = kerasIdx \n",
        "            indexToWord[kerasIdx] = tok \n",
        "\n",
        "    return wordToIndex, indexToWord, wordToGlove\n",
        "\n",
        "    \n",
        "from keras.initializers import Constant\n",
        "def createPretrainedEmbeddingLayer(wordToGlove, wordToIndex, isTrainable):\n",
        "    vocabLen = len(wordToIndex) + 1  \n",
        "    embDim = next(iter(wordToGlove.values())).shape[0]  \n",
        "   \n",
        "    embeddingMatrix = np.zeros((vocabLen, embDim))  \n",
        "    for word, index in wordToIndex.items():\n",
        "        embeddingMatrix[index, :] = wordToGlove[word] \n",
        "\n",
        "    embeddingLayer = Embedding(vocabLen, embDim, embeddings_initializer=Constant(embeddingMatrix), trainable=isTrainable)\n",
        "    return embeddingLayer"
      ],
      "execution_count": 0,
      "outputs": []
    },
    {
      "cell_type": "code",
      "metadata": {
        "id": "gWKO6vcBZ_9m",
        "colab_type": "code",
        "outputId": "b52743cc-f2d6-4754-ded9-c585c86c1b76",
        "colab": {
          "base_uri": "https://localhost:8080/",
          "height": 34
        }
      },
      "source": [
        "from google.colab import drive\n",
        "drive.mount('/content/drive')"
      ],
      "execution_count": 0,
      "outputs": [
        {
          "output_type": "stream",
          "text": [
            "Drive already mounted at /content/drive; to attempt to forcibly remount, call drive.mount(\"/content/drive\", force_remount=True).\n"
          ],
          "name": "stdout"
        }
      ]
    },
    {
      "cell_type": "code",
      "metadata": {
        "id": "J6eVqmyjaLUC",
        "colab_type": "code",
        "colab": {}
      },
      "source": [
        "import numpy as np\n",
        "wordToIndex, indexToWord, wordToGlove = readGloveFile('drive/My Drive/Colab Notebooks/glove.6B.300d.txt')  #glove.twitter.27B.200d.txt  glove.6B.300d.txt"
      ],
      "execution_count": 0,
      "outputs": []
    },
    {
      "cell_type": "code",
      "metadata": {
        "id": "XOnEjC1P-5gP",
        "colab_type": "code",
        "colab": {}
      },
      "source": [
        "VOCAB_SIZE = len(word2idx)+1  # 0 saved for padding so we add 1\n",
        "EMBD_SIZE =100\n",
        "output = len(unique_labels.keys())\n",
        "model2 = keras.Sequential()\n",
        "#model2.add(createPretrainedEmbeddingLayer(wordToGlove,wordToIndex,False)) #setting isTrainable to true \n",
        "model2.add(Embedding(VOCAB_SIZE,EMBD_SIZE))\n",
        "model2.add(keras.layers.Conv1D(filters=128,kernel_size=5,padding='SAME',activation='tanh'))\n",
        "#model2.add(keras.layers.Conv1D(filters=128,kernel_size=5,padding='VALID',activation='sigmoid'))\n",
        "#model2.add(keras.layers.GlobalAveragePooling1D())\n",
        "model2.add(keras.layers.GlobalMaxPooling1D())\n",
        "model2.add(keras.layers.Dense(16, activation='sigmoid'))\n",
        "model2.add(keras.layers.Dense(5, activation='softmax'))\n",
        "model2.compile(loss='categorical_crossentropy',optimizer='adam',metrics=['accuracy'])\n",
        "\n"
      ],
      "execution_count": 0,
      "outputs": []
    },
    {
      "cell_type": "code",
      "metadata": {
        "id": "AUQNJNTCXi5t",
        "colab_type": "code",
        "outputId": "f4a8f6dc-7265-426f-a121-72b4ffa519d6",
        "colab": {
          "base_uri": "https://localhost:8080/",
          "height": 319
        }
      },
      "source": [
        "model2.summary()"
      ],
      "execution_count": 0,
      "outputs": [
        {
          "output_type": "stream",
          "text": [
            "Model: \"sequential_2\"\n",
            "_________________________________________________________________\n",
            "Layer (type)                 Output Shape              Param #   \n",
            "=================================================================\n",
            "embedding_2 (Embedding)      (None, None, 100)         2215800   \n",
            "_________________________________________________________________\n",
            "conv1d_2 (Conv1D)            (None, None, 128)         64128     \n",
            "_________________________________________________________________\n",
            "global_max_pooling1d_1 (Glob (None, 128)               0         \n",
            "_________________________________________________________________\n",
            "dense_3 (Dense)              (None, 16)                2064      \n",
            "_________________________________________________________________\n",
            "dense_4 (Dense)              (None, 5)                 85        \n",
            "=================================================================\n",
            "Total params: 2,282,077\n",
            "Trainable params: 2,282,077\n",
            "Non-trainable params: 0\n",
            "_________________________________________________________________\n"
          ],
          "name": "stdout"
        }
      ]
    },
    {
      "cell_type": "code",
      "metadata": {
        "id": "xLYBUQvT-5gS",
        "colab_type": "code",
        "outputId": "cb8259ed-9eab-4eeb-fe6e-f1b90d525e57",
        "colab": {
          "base_uri": "https://localhost:8080/",
          "height": 235
        }
      },
      "source": [
        "partial_train_dataABC = processed_train_data[:10240]\n",
        "partial_val_dataABC = processed_train_data[10240:]\n",
        "\n",
        "partial_train_labels_ABC = processed_train_labels[:10240]\n",
        "partial_val_labels_ABC = processed_train_labels[10240:]\n",
        "\n",
        "history = model2.fit(partial_train_dataABC,partial_train_labels_ABC,batch_size=100,\n",
        "            epochs=6,validation_data=(partial_val_dataABC,partial_val_labels_ABC),verbose=1)\n"
      ],
      "execution_count": 0,
      "outputs": [
        {
          "output_type": "stream",
          "text": [
            "Train on 10240 samples, validate on 3000 samples\n",
            "Epoch 1/6\n",
            "10240/10240 [==============================] - 7s 655us/step - loss: 1.2318 - acc: 0.5484 - val_loss: 1.0194 - val_acc: 0.6683\n",
            "Epoch 2/6\n",
            "10240/10240 [==============================] - 6s 609us/step - loss: 1.0031 - acc: 0.6675 - val_loss: 0.9872 - val_acc: 0.6683\n",
            "Epoch 3/6\n",
            "10240/10240 [==============================] - 6s 604us/step - loss: 0.8709 - acc: 0.7142 - val_loss: 0.8884 - val_acc: 0.7103\n",
            "Epoch 4/6\n",
            "10240/10240 [==============================] - 6s 614us/step - loss: 0.6471 - acc: 0.8100 - val_loss: 0.9205 - val_acc: 0.6917\n",
            "Epoch 5/6\n",
            "10240/10240 [==============================] - 6s 614us/step - loss: 0.4748 - acc: 0.8660 - val_loss: 0.9758 - val_acc: 0.6807\n",
            "Epoch 6/6\n",
            "10240/10240 [==============================] - 6s 611us/step - loss: 0.3605 - acc: 0.8979 - val_loss: 1.0337 - val_acc: 0.6757\n"
          ],
          "name": "stdout"
        }
      ]
    },
    {
      "cell_type": "code",
      "metadata": {
        "id": "w7BOyiR8_nr-",
        "colab_type": "code",
        "outputId": "bcd5ca08-e1c0-4483-ab21-24b696a2760c",
        "colab": {
          "base_uri": "https://localhost:8080/",
          "height": 295
        }
      },
      "source": [
        "# PLOT of train and validation accuracy\n",
        "import matplotlib.pyplot as plt\n",
        "\n",
        "history_dict = history.history\n",
        "\n",
        "acc = history_dict['acc']\n",
        "val_acc = history_dict['val_acc']\n",
        "loss = history_dict['loss']\n",
        "val_loss = history_dict['val_loss']\n",
        "\n",
        "epochs = range(1, len(acc) + 1)\n",
        "\n",
        "plt.plot(epochs, acc, 'bo', label='Training acc')\n",
        "plt.plot(epochs, val_acc, 'b', label='Validation acc')\n",
        "plt.title('Training and validation accuracy')\n",
        "plt.xlabel('Epochs')\n",
        "plt.ylabel('Accuracy')\n",
        "plt.legend()\n",
        "\n",
        "plt.show()"
      ],
      "execution_count": 0,
      "outputs": [
        {
          "output_type": "display_data",
          "data": {
            "image/png": "[encoded data removed]",
            "text/plain": [
              "<Figure size 432x288 with 1 Axes>"
            ]
          },
          "metadata": {
            "tags": []
          }
        }
      ]
    },
    {
      "cell_type": "code",
      "metadata": {
        "id": "_Fgl3OnV-5gV",
        "colab_type": "code",
        "colab": {}
      },
      "source": [
        "#GET RAW TEST DATA AND CONVERT TO DICTIONERY WITH KEY (ID AS INT) AND VALUE =TWEET \n",
        "raw_test_data =[]\n",
        "\n",
        "with open(\"testset-levela.tsv\",encoding='UTF-8') as fd:\n",
        "    rd = csv.reader(fd, delimiter=\"\\t\", quotechar='\"')\n",
        "    for row in rd:\n",
        "        raw_test_data.append(row)\n",
        "        \n",
        "raw_test_data.remove(raw_test_data[0]) #remove first element since it contains headers       \n",
        "\n",
        "raw_test_data_dict =dict(raw_test_data)\n",
        "raw_test_data_dict = {int(k) : v for k,v in raw_test_data_dict.items()}\n"
      ],
      "execution_count": 0,
      "outputs": []
    },
    {
      "cell_type": "code",
      "metadata": {
        "id": "gOKntR93-5gX",
        "colab_type": "code",
        "colab": {}
      },
      "source": [
        "#processing the test labels\n",
        "#converting labels to key value pairs\n",
        "def get_test_labels(path):\n",
        "  raw_test_labels =[]\n",
        "  with open(path) as fd:\n",
        "    rd = csv.reader(fd, delimiter=\"\\t\", quotechar='\"')\n",
        "    for row in rd:\n",
        "        raw_test_labels.append(row)\n",
        "  temp_test_labels = [labels[0].split(',') for labels in raw_test_labels]\n",
        "  return temp_test_labels\n",
        "\n",
        "#get labels with IDs\n",
        "test_labels_A = get_test_labels('labels-levela.csv')\n",
        "test_labels_B = get_test_labels('labels-levelb.csv')\n",
        "test_labels_C = get_test_labels('labels-levelc.csv')\n",
        "\n",
        "dict1 =dict(test_labels_A)\n",
        "dict1 = {int(k) : v for k,v in dict1.items()}\n",
        "dict2 =dict(test_labels_B)\n",
        "dict2 = {int(k) : v for k,v in dict2.items()}\n",
        "dict3 =dict(test_labels_C)\n",
        "dict3 = {int(k) : v for k,v in dict3.items()}\n"
      ],
      "execution_count": 0,
      "outputs": []
    },
    {
      "cell_type": "code",
      "metadata": {
        "id": "NHWzuIGl-5gZ",
        "colab_type": "code",
        "outputId": "0314048d-f8d2-4e3a-faf6-4e47e4c46e34",
        "colab": {
          "base_uri": "https://localhost:8080/",
          "height": 218
        }
      },
      "source": [
        "from keras.preprocessing.sequence import pad_sequences\n",
        "#this list will store tweet and corrosponding concatenated labels so its a list of list containing tweet and label\n",
        "combined_test_data = [] \n",
        "for key in raw_test_data_dict.keys():\n",
        "    raw_test_data_dict[key] = emoji.demojize(raw_test_data_dict[key]) #demojize\n",
        "    l1 = raw_test_data_dict[key].split()\n",
        "    if key in dict3.keys():\n",
        "        label_temp = dict1[key]+dict2[key]+dict3[key]\n",
        "        tweet = [l1,label_temp]\n",
        "    elif key in dict2.keys():     \n",
        "        label_temp = dict1[key]+dict2[key]\n",
        "        tweet = [l1,label_temp]\n",
        "    elif key in dict1.keys():          \n",
        "        tweet = [l1,dict1[key]]\n",
        "    combined_test_data.append(tweet)\n",
        "\n",
        "raw_test_tweets =[]\n",
        "raw_test_labels =[]\n",
        "for list1 in combined_test_data:\n",
        "    raw_test_tweets.append(list1[0])\n",
        "    raw_test_labels.append(list1[1])\n",
        "\n",
        "clean_test_tweets = preprocess(raw_test_tweets)\n",
        "test_sents_as_ids = tokenizer.texts_to_sequences(clean_test_tweets)\n",
        "\n",
        "\n",
        "\n",
        "MAXIMUM_LENGTH = 30 #checking\n",
        "processed_test_data = pad_sequences(test_sents_as_ids,MAXIMUM_LENGTH,truncating='post')\n",
        "\n",
        "\n",
        "test_labels_to_ids = []\n",
        "\n",
        "for label in raw_test_labels:\n",
        "  test_labels_to_ids.append(unique_labels[label])\n",
        "\n",
        "\n",
        "#CONVERT TEST LABELS TO ONE HOT LABEL ENCODING\n",
        "encoded_testY = encoder.transform(test_labels_to_ids)\n",
        "processed_test_labels = np_utils.to_categorical(encoded_testY)\n",
        "\n",
        "#sanity check\n",
        "print(test_labels_to_ids[:10])\n",
        "print(\"one hot encoded test labels \\n \",processed_test_labels[:10])\n"
      ],
      "execution_count": 0,
      "outputs": [
        {
          "output_type": "stream",
          "text": [
            "[3, 2, 2, 2, 4, 1, 2, 3, 2, 2]\n",
            "one hot encoded test labels \n",
            "  [[0. 0. 0. 1. 0.]\n",
            " [0. 0. 1. 0. 0.]\n",
            " [0. 0. 1. 0. 0.]\n",
            " [0. 0. 1. 0. 0.]\n",
            " [0. 0. 0. 0. 1.]\n",
            " [0. 1. 0. 0. 0.]\n",
            " [0. 0. 1. 0. 0.]\n",
            " [0. 0. 0. 1. 0.]\n",
            " [0. 0. 1. 0. 0.]\n",
            " [0. 0. 1. 0. 0.]]\n"
          ],
          "name": "stdout"
        }
      ]
    },
    {
      "cell_type": "code",
      "metadata": {
        "id": "VQzOrJzG-5gc",
        "colab_type": "code",
        "outputId": "62079713-9975-4d28-9bbf-76d53f1f05e2",
        "colab": {
          "base_uri": "https://localhost:8080/",
          "height": 50
        }
      },
      "source": [
        "model2.evaluate(processed_test_data,processed_test_labels,batch_size=128)"
      ],
      "execution_count": 0,
      "outputs": [
        {
          "output_type": "stream",
          "text": [
            "860/860 [==============================] - 0s 106us/step\n"
          ],
          "name": "stdout"
        },
        {
          "output_type": "execute_result",
          "data": {
            "text/plain": [
              "[0.935906858776891, 0.7081395362698755]"
            ]
          },
          "metadata": {
            "tags": []
          },
          "execution_count": 22
        }
      ]
    }
  ]
}