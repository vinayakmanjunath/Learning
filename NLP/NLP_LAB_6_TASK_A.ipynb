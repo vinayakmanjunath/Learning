{
 "cells": [
  {
   "cell_type": "code",
   "execution_count": 1,
   "metadata": {},
   "outputs": [
    {
     "name": "stdout",
     "output_type": "stream",
     "text": [
      "Requirement already satisfied: emoji in c:\\users\\omkar\\anaconda3\\envs\\nlp5\\lib\\site-packages (0.5.4)\n"
     ]
    }
   ],
   "source": [
    "!pip install emoji   "
   ]
  },
  {
   "cell_type": "code",
   "execution_count": 2,
   "metadata": {},
   "outputs": [],
   "source": [
    "def preprocess(list_of_tweets):\n",
    "  normalised_corpus =[]\n",
    "  for tweet in list_of_tweets:\n",
    "    words =[]\n",
    "    for word in tweet:\n",
    "      word = word.lower()\n",
    "      word = word.strip(string.punctuation)\n",
    "      word = word.strip(string.digits)\n",
    "      if word not in string.punctuation and word != \"user\" and word !=\"url\": \n",
    "        words.append(word)\n",
    "    normalised_corpus.append(words)\n",
    "  return normalised_corpus  "
   ]
  },
  {
   "cell_type": "markdown",
   "metadata": {},
   "source": [
    "**preprocess training data**"
   ]
  },
  {
   "cell_type": "code",
   "execution_count": 3,
   "metadata": {},
   "outputs": [
    {
     "name": "stderr",
     "output_type": "stream",
     "text": [
      "Using TensorFlow backend.\n"
     ]
    }
   ],
   "source": [
    "import string #preprocess\n",
    "import csv   #reading files\n",
    "import emoji #to convert emojis to words using demojize function\n",
    "import keras\n",
    "\n",
    "raw_data =[] #stores all contents of tsv file as list of list [[id,tweet,A,B,C],[...]]\n",
    "with open(\"olid-training-v1.0.tsv\",encoding='UTF-8') as fd:\n",
    "    rd = csv.reader(fd, delimiter=\"\\t\", quotechar='\"')\n",
    "    for row in rd:\n",
    "        raw_data.append(row)\n",
    "\n",
    "raw_data.remove(raw_data[0]) #remove first list item since it contains headers\n",
    "\n",
    "#converts emoji to words and converts each tweet from string to list of words\n",
    "raw_tweets = []\n",
    "for tweet in raw_data:\n",
    "  tweet[1] = emoji.demojize(tweet[1])\n",
    "  temp = tweet[1].split()\n",
    "  raw_tweets.append(temp)\n",
    "\n",
    " #convert to lower, remove punctuation and digits and words like 'user' and 'url' \n",
    "clean_tweets = preprocess(raw_tweets)"
   ]
  },
  {
   "cell_type": "markdown",
   "metadata": {},
   "source": [
    "**getting all the labels**"
   ]
  },
  {
   "cell_type": "code",
   "execution_count": 4,
   "metadata": {
    "scrolled": true
   },
   "outputs": [],
   "source": [
    "train_labels_A = [tweet[2] for tweet in raw_data ] #label for task A\n",
    "\n",
    "preprocessed_label_A = []   #convert label to 1 or 0 \n",
    "for labelA in train_labels_A:\n",
    "  if labelA ==\"OFF\":\n",
    "    preprocessed_label_A.append(1)\n",
    "  else:\n",
    "    preprocessed_label_A.append(0)\n",
    "\n",
    "# print(train_labels_A)\n",
    "# print(preprocessed_label_A)\n"
   ]
  },
  {
   "cell_type": "code",
   "execution_count": 5,
   "metadata": {},
   "outputs": [],
   "source": [
    "from keras.preprocessing.text import Tokenizer\n",
    "\n",
    "num_words=20000  #optional UNIQUE WORDS around 22156\n",
    "tokenizer = Tokenizer()\n",
    "tokenizer.fit_on_texts(clean_tweets)\n",
    "\n",
    "word2idx = tokenizer.word_index\n",
    "idx2word = tokenizer.index_word\n",
    "sents_as_ids = tokenizer.texts_to_sequences(clean_tweets)\n",
    "VOCAB_SIZE = len(word2idx)+1  # 0 saved for padding so we add 1"
   ]
  },
  {
   "cell_type": "code",
   "execution_count": 6,
   "metadata": {},
   "outputs": [
    {
     "name": "stdout",
     "output_type": "stream",
     "text": [
      "22156\n",
      "[14, 77, 370, 4, 485, 2632, 291, 30, 57, 124, 17, 16, 2]\n",
      "she should ask a few native americans what their take on this is\n"
     ]
    }
   ],
   "source": [
    "#sanity check\n",
    "print(len(word2idx))  #UNIQUE WORDS around 22156\n",
    "print(sents_as_ids[0])\n",
    "print(' '.join(idx2word[idx] for idx in sents_as_ids[0]))"
   ]
  },
  {
   "cell_type": "code",
   "execution_count": 7,
   "metadata": {},
   "outputs": [],
   "source": [
    "from keras.preprocessing.sequence import pad_sequences\n",
    "MAXIMUM_LENGTH = 30 #checking\n",
    "processed_train_data = pad_sequences(sents_as_ids,MAXIMUM_LENGTH,truncating='post')\n"
   ]
  },
  {
   "cell_type": "markdown",
   "metadata": {},
   "source": [
    "**BUILDING THE MODEL**"
   ]
  },
  {
   "cell_type": "code",
   "execution_count": 83,
   "metadata": {},
   "outputs": [],
   "source": [
    "EMBD_SIZE =100\n",
    "model = keras.Sequential()\n",
    "model.add(keras.layers.Embedding(VOCAB_SIZE,EMBD_SIZE))\n",
    "model.add(keras.layers.Dropout(rate=0.5))\n",
    "model.add(keras.layers.LSTM(units=100,activation='sigmoid'))\n",
    "model.add(keras.layers.Dropout(0.3))\n",
    "model.add(keras.layers.Dense(1,activation='sigmoid'))\n",
    "model.compile(loss='binary_crossentropy',optimizer='adam',metrics=['accuracy'])"
   ]
  },
  {
   "cell_type": "code",
   "execution_count": 89,
   "metadata": {},
   "outputs": [
    {
     "name": "stdout",
     "output_type": "stream",
     "text": [
      "Model: \"sequential_20\"\n",
      "_________________________________________________________________\n",
      "Layer (type)                 Output Shape              Param #   \n",
      "=================================================================\n",
      "embedding_20 (Embedding)     (None, None, 100)         2215700   \n",
      "_________________________________________________________________\n",
      "dropout_30 (Dropout)         (None, None, 100)         0         \n",
      "_________________________________________________________________\n",
      "lstm_20 (LSTM)               (None, 100)               80400     \n",
      "_________________________________________________________________\n",
      "dropout_31 (Dropout)         (None, 100)               0         \n",
      "_________________________________________________________________\n",
      "dense_20 (Dense)             (None, 1)                 101       \n",
      "=================================================================\n",
      "Total params: 2,296,201\n",
      "Trainable params: 2,296,201\n",
      "Non-trainable params: 0\n",
      "_________________________________________________________________\n"
     ]
    }
   ],
   "source": [
    "model.summary()"
   ]
  },
  {
   "cell_type": "code",
   "execution_count": 84,
   "metadata": {},
   "outputs": [
    {
     "name": "stderr",
     "output_type": "stream",
     "text": [
      "C:\\Users\\Omkar\\Anaconda3\\envs\\nlp5\\lib\\site-packages\\tensorflow_core\\python\\framework\\indexed_slices.py:433: UserWarning: Converting sparse IndexedSlices to a dense Tensor of unknown shape. This may consume a large amount of memory.\n",
      "  \"Converting sparse IndexedSlices to a dense Tensor of unknown shape. \"\n"
     ]
    },
    {
     "name": "stdout",
     "output_type": "stream",
     "text": [
      "Train on 10240 samples, validate on 3000 samples\n",
      "Epoch 1/4\n",
      "10240/10240 [==============================] - 6s 574us/step - loss: 0.6442 - accuracy: 0.6625 - val_loss: 0.6231 - val_accuracy: 0.6683\n",
      "Epoch 2/4\n",
      "10240/10240 [==============================] - 5s 530us/step - loss: 0.5766 - accuracy: 0.7021 - val_loss: 0.5633 - val_accuracy: 0.7050\n",
      "Epoch 3/4\n",
      "10240/10240 [==============================] - 5s 535us/step - loss: 0.4016 - accuracy: 0.8218 - val_loss: 0.5573 - val_accuracy: 0.7467\n",
      "Epoch 4/4\n",
      "10240/10240 [==============================] - 5s 532us/step - loss: 0.2759 - accuracy: 0.8922 - val_loss: 0.6355 - val_accuracy: 0.7257\n"
     ]
    }
   ],
   "source": [
    "partial_train_data = processed_train_data[:10240]\n",
    "partial_val_data = processed_train_data[10240:]\n",
    "\n",
    "partial_train_labels = preprocessed_label_A[:10240]\n",
    "partial_val_labels = preprocessed_label_A[10240:]\n",
    "\n",
    "history = model.fit(partial_train_data,partial_train_labels,batch_size=50,\n",
    "                    epochs=4,validation_data=(partial_val_data,partial_val_labels),verbose=1)"
   ]
  },
  {
   "cell_type": "markdown",
   "metadata": {},
   "source": [
    "**train and validation plot**"
   ]
  },
  {
   "cell_type": "code",
   "execution_count": 85,
   "metadata": {},
   "outputs": [
    {
     "name": "stdout",
     "output_type": "stream",
     "text": [
      "{'val_loss': [0.6231497377157211, 0.5632989193002383, 0.5572801088293393, 0.6355028882622719], 'val_accuracy': [0.6683333516120911, 0.7049999833106995, 0.746666669845581, 0.7256666421890259], 'loss': [0.6441769044031389, 0.5766096757142805, 0.401550430979114, 0.27587776176369516], 'accuracy': [0.6625, 0.70214844, 0.82177734, 0.8921875]}\n"
     ]
    },
    {
     "data": {
      "image/png": "[encoded data removed]",
      "text/plain": [
       "<Figure size 432x288 with 1 Axes>"
      ]
     },
     "metadata": {
      "needs_background": "light"
     },
     "output_type": "display_data"
    }
   ],
   "source": [
    "import matplotlib.pyplot as plt\n",
    "\n",
    "history_dict = history.history\n",
    "print(history_dict)\n",
    "acc = history_dict['accuracy']\n",
    "val_acc = history_dict['val_accuracy']\n",
    "loss = history_dict['loss']\n",
    "val_loss = history_dict['val_loss']\n",
    "\n",
    "epochs = range(1, len(acc) + 1)\n",
    "\n",
    "plt.plot(epochs, acc, 'bo', label='Training acc')\n",
    "plt.plot(epochs, val_acc, 'b', label='Validation acc')\n",
    "plt.title('Training and validation accuracy')\n",
    "plt.xlabel('Epochs')\n",
    "plt.ylabel('Accuracy')\n",
    "plt.legend()\n",
    "\n",
    "plt.show()"
   ]
  },
  {
   "cell_type": "markdown",
   "metadata": {},
   "source": [
    "**prerpocessing test data and labels**"
   ]
  },
  {
   "cell_type": "code",
   "execution_count": 86,
   "metadata": {},
   "outputs": [
    {
     "name": "stdout",
     "output_type": "stream",
     "text": [
      "['biggbosstamil', 'janani', 'won', 'the', 'task', 'she', 'is', 'going', 'to', 'first', 'final', 'list:clapping_hands::clapping_hands::clapping_hands::clapping_hands']\n",
      "[    0     0     0     0     0     0     0     0     0     0     0     0\n",
      "     0     0     0     0     0     0     0     0 16817  1403     1  5529\n",
      "    14     2    91     3   198  2025]\n"
     ]
    }
   ],
   "source": [
    "raw_test_data =[]\n",
    "\n",
    "with open(\"testset-levela.tsv\",encoding='UTF-8') as fd:\n",
    "    rd = csv.reader(fd, delimiter=\"\\t\", quotechar='\"')\n",
    "    for row in rd:\n",
    "        raw_test_data.append(row)\n",
    "\n",
    "        \n",
    "raw_test_data.remove(raw_test_data[0]) #remove first element since it contains headers\n",
    "\n",
    "#print(raw_data)\n",
    "\n",
    "#converts emoji to words and converts each tweet from string to list of words\n",
    "raw_test_tweets = []\n",
    "for tweet in raw_test_data:\n",
    "  tweet[1] = emoji.demojize(tweet[1])\n",
    "  temp = tweet[1].split()\n",
    "  raw_test_tweets.append(temp)\n",
    "\n",
    "clean_test_tweets = preprocess(raw_test_tweets)\n",
    "test_sents_as_ids = tokenizer.texts_to_sequences(clean_test_tweets)\n",
    "\n",
    "processed_test_data = pad_sequences(test_sents_as_ids,MAXIMUM_LENGTH,truncating='post')\n",
    "\n",
    "print(clean_test_tweets[9])\n",
    "print(processed_test_data[9])\n"
   ]
  },
  {
   "cell_type": "code",
   "execution_count": 87,
   "metadata": {},
   "outputs": [],
   "source": [
    "def get_test_labels(path):\n",
    "  raw_test_labels =[]\n",
    "  with open(path) as fd:\n",
    "    rd = csv.reader(fd, delimiter=\"\\t\", quotechar='\"')\n",
    "    for row in rd:\n",
    "        raw_test_labels.append(row)\n",
    "  temp_test_labels = [labels[0].split(',') for labels in raw_test_labels]\n",
    "  return temp_test_labels\n",
    "\n",
    "#get labels with IDs\n",
    "raw_test_labels_A = get_test_labels('labels-levela.csv')\n",
    "\n",
    "processed_test_labels_A = []\n",
    "for label in raw_test_labels_A:\n",
    "    if label[1] ==\"OFF\":\n",
    "        processed_test_labels_A.append(1)\n",
    "    else:\n",
    "        processed_test_labels_A.append(0)\n",
    "    "
   ]
  },
  {
   "cell_type": "code",
   "execution_count": 88,
   "metadata": {},
   "outputs": [
    {
     "name": "stdout",
     "output_type": "stream",
     "text": [
      "860/860 [==============================] - 0s 56us/step\n",
      "[0.5760680054509363, 0.7848837375640869]\n"
     ]
    }
   ],
   "source": [
    "#evaluate the model\n",
    "result = model.evaluate(processed_test_data,processed_test_labels_A,batch_size=128)\n",
    "print(result)"
   ]
  },
  {
   "cell_type": "code",
   "execution_count": null,
   "metadata": {},
   "outputs": [],
   "source": []
  },
  {
   "cell_type": "code",
   "execution_count": null,
   "metadata": {},
   "outputs": [],
   "source": []
  }
 ],
 "metadata": {
  "kernelspec": {
   "display_name": "Python 3",
   "language": "python",
   "name": "python3"
  },
  "language_info": {
   "codemirror_mode": {
    "name": "ipython",
    "version": 3
   },
   "file_extension": ".py",
   "mimetype": "text/x-python",
   "name": "python",
   "nbconvert_exporter": "python",
   "pygments_lexer": "ipython3",
   "version": "3.6.10"
  }
 },
 "nbformat": 4,
 "nbformat_minor": 4
}
