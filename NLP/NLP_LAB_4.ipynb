{
  "nbformat": 4,
  "nbformat_minor": 0,
  "metadata": {
    "accelerator": "GPU",
    "colab": {
      "name": "lab4_text_classification(Completed).ipynb",
      "provenance": [],
      "collapsed_sections": []
    },
    "kernelspec": {
      "name": "python3",
      "display_name": "Python 3"
    },
    "language_info": {
      "codemirror_mode": {
        "name": "ipython",
        "version": 3
      },
      "file_extension": ".py",
      "mimetype": "text/x-python",
      "name": "python",
      "nbconvert_exporter": "python",
      "pygments_lexer": "ipython3",
      "version": "3.7.3"
    }
  },
  "cells": [
    {
      "cell_type": "markdown",
      "metadata": {
        "colab_type": "text",
        "id": "hExKCzh6doIW"
      },
      "source": [
        "# Lab 4 - Neural Network Classifier Using Simple Word Embeddings\n",
        "\n",
        "\n",
        "\n",
        "---\n",
        "\n",
        "\n",
        "\n",
        "\n",
        "\n",
        "\n",
        "\n",
        "\n",
        "\n",
        "\n",
        "\n",
        "\n",
        "\n"
      ]
    },
    {
      "cell_type": "markdown",
      "metadata": {
        "colab_type": "text",
        "id": "HixoFOoCIJ7V"
      },
      "source": [
        "In this session, we demonstrate how to solve a text classification task using simple \n",
        "feedforward neural network classifier. We will use IMDB Large Movie Review Dataset to train a binary classification model, able to predict whether a review is positive or negative. First, our network takes one-hot word vectors as input, averages them to make one vector and trains a \n",
        "fully-connected layer to predict the output. In the second part, we replace the one-hot vectors with the word embeddings and add a layer to see how much that improves the performance.\n",
        "\n",
        "We are going to use Keras Sequential API in this session. The Sequential API allows you to make models layer-by-layer. But it is not straightforward to define models where layers connect to more than just the previous and next layers. "
      ]
    },
    {
      "cell_type": "code",
      "metadata": {
        "colab_type": "code",
        "id": "m8fpBfhBpupy",
        "outputId": "e5e7e5d1-ed9b-40f0-9565-7801d21dfb9a",
        "colab": {
          "base_uri": "https://localhost:8080/",
          "height": 79
        }
      },
      "source": [
        "import keras\n",
        "import numpy as np\n",
        "from keras.layers import Lambda, GlobalAveragePooling1D, Dense, Embedding\n",
        "from keras import backend as K\n",
        "from keras.models import Sequential\n"
      ],
      "execution_count": 0,
      "outputs": [
        {
          "output_type": "stream",
          "text": [
            "Using TensorFlow backend.\n"
          ],
          "name": "stderr"
        },
        {
          "output_type": "display_data",
          "data": {
            "text/html": [
              "<p style=\"color: red;\">\n",
              "The default version of TensorFlow in Colab will soon switch to TensorFlow 2.x.<br>\n",
              "We recommend you <a href=\"https://www.tensorflow.org/guide/migrate\" target=\"_blank\">upgrade</a> now \n",
              "or ensure your notebook will continue to use TensorFlow 1.x via the <code>%tensorflow_version 1.x</code> magic:\n",
              "<a href=\"https://colab.research.google.com/notebooks/tensorflow_version.ipynb\" target=\"_blank\">more info</a>.</p>\n"
            ],
            "text/plain": [
              "<IPython.core.display.HTML object>"
            ]
          },
          "metadata": {
            "tags": []
          }
        }
      ]
    },
    {
      "cell_type": "markdown",
      "metadata": {
        "colab_type": "text",
        "id": "cqvPQvgvPv1W"
      },
      "source": [
        "### Downloading data"
      ]
    },
    {
      "cell_type": "markdown",
      "metadata": {
        "colab_type": "text",
        "id": "EundMtGPpCdf"
      },
      "source": [
        "The dataset we will be using is the IMDB Large Movie Review Dataset, which consists of 50000 labeled movie reviews. These are split into 25,000 reviews for training and 25,000 reviews for testing. The  dataset contains an even number of positive and negative reviews, so randomly guessing yields 50% accuracy. The data is preprocessed. For text classification, it is ususal to limit the size of the vocabulary to stop the dataset from becoming too sparse, creating possible overfitting. We keep the top 10,000 most frequently occurring words in the training data.\n"
      ]
    },
    {
      "cell_type": "code",
      "metadata": {
        "colab_type": "code",
        "id": "NyuSzkafqNca",
        "colab": {}
      },
      "source": [
        "imdb = keras.datasets.imdb\n",
        "(X_train, y_train), (X_test, y_test) = imdb.load_data(num_words=10000)"
      ],
      "execution_count": 0,
      "outputs": []
    },
    {
      "cell_type": "markdown",
      "metadata": {
        "colab_type": "text",
        "id": "6U4iCV9-rmay"
      },
      "source": [
        "We now can start playing around with the data, let’s first see the length:"
      ]
    },
    {
      "cell_type": "code",
      "metadata": {
        "colab_type": "code",
        "id": "h-gjWRAuqg5s",
        "outputId": "e63841c3-223f-4023-d2aa-1aa7d49b7ca5",
        "colab": {
          "base_uri": "https://localhost:8080/",
          "height": 34
        }
      },
      "source": [
        "print(\"Training entries: {}, labels: {}\".format(len(X_train), len(y_train)))"
      ],
      "execution_count": 0,
      "outputs": [
        {
          "output_type": "stream",
          "text": [
            "Training entries: 25000, labels: 25000\n"
          ],
          "name": "stdout"
        }
      ]
    },
    {
      "cell_type": "markdown",
      "metadata": {
        "colab_type": "text",
        "id": "MTRZrpcyr-4x"
      },
      "source": [
        "The  reviews have been converted to integers and each integer represents a  word in a dictionary. "
      ]
    },
    {
      "cell_type": "code",
      "metadata": {
        "colab_type": "code",
        "id": "79Ev72Kgq4XL",
        "outputId": "e2b3cf8b-9c1f-4ea2-8925-cc20d0cd11f6",
        "colab": {
          "base_uri": "https://localhost:8080/",
          "height": 1000
        }
      },
      "source": [
        " X_train[0]"
      ],
      "execution_count": 0,
      "outputs": [
        {
          "output_type": "execute_result",
          "data": {
            "text/plain": [
              "[1,\n",
              " 14,\n",
              " 22,\n",
              " 16,\n",
              " 43,\n",
              " 530,\n",
              " 973,\n",
              " 1622,\n",
              " 1385,\n",
              " 65,\n",
              " 458,\n",
              " 4468,\n",
              " 66,\n",
              " 3941,\n",
              " 4,\n",
              " 173,\n",
              " 36,\n",
              " 256,\n",
              " 5,\n",
              " 25,\n",
              " 100,\n",
              " 43,\n",
              " 838,\n",
              " 112,\n",
              " 50,\n",
              " 670,\n",
              " 2,\n",
              " 9,\n",
              " 35,\n",
              " 480,\n",
              " 284,\n",
              " 5,\n",
              " 150,\n",
              " 4,\n",
              " 172,\n",
              " 112,\n",
              " 167,\n",
              " 2,\n",
              " 336,\n",
              " 385,\n",
              " 39,\n",
              " 4,\n",
              " 172,\n",
              " 4536,\n",
              " 1111,\n",
              " 17,\n",
              " 546,\n",
              " 38,\n",
              " 13,\n",
              " 447,\n",
              " 4,\n",
              " 192,\n",
              " 50,\n",
              " 16,\n",
              " 6,\n",
              " 147,\n",
              " 2025,\n",
              " 19,\n",
              " 14,\n",
              " 22,\n",
              " 4,\n",
              " 1920,\n",
              " 4613,\n",
              " 469,\n",
              " 4,\n",
              " 22,\n",
              " 71,\n",
              " 87,\n",
              " 12,\n",
              " 16,\n",
              " 43,\n",
              " 530,\n",
              " 38,\n",
              " 76,\n",
              " 15,\n",
              " 13,\n",
              " 1247,\n",
              " 4,\n",
              " 22,\n",
              " 17,\n",
              " 515,\n",
              " 17,\n",
              " 12,\n",
              " 16,\n",
              " 626,\n",
              " 18,\n",
              " 2,\n",
              " 5,\n",
              " 62,\n",
              " 386,\n",
              " 12,\n",
              " 8,\n",
              " 316,\n",
              " 8,\n",
              " 106,\n",
              " 5,\n",
              " 4,\n",
              " 2223,\n",
              " 5244,\n",
              " 16,\n",
              " 480,\n",
              " 66,\n",
              " 3785,\n",
              " 33,\n",
              " 4,\n",
              " 130,\n",
              " 12,\n",
              " 16,\n",
              " 38,\n",
              " 619,\n",
              " 5,\n",
              " 25,\n",
              " 124,\n",
              " 51,\n",
              " 36,\n",
              " 135,\n",
              " 48,\n",
              " 25,\n",
              " 1415,\n",
              " 33,\n",
              " 6,\n",
              " 22,\n",
              " 12,\n",
              " 215,\n",
              " 28,\n",
              " 77,\n",
              " 52,\n",
              " 5,\n",
              " 14,\n",
              " 407,\n",
              " 16,\n",
              " 82,\n",
              " 2,\n",
              " 8,\n",
              " 4,\n",
              " 107,\n",
              " 117,\n",
              " 5952,\n",
              " 15,\n",
              " 256,\n",
              " 4,\n",
              " 2,\n",
              " 7,\n",
              " 3766,\n",
              " 5,\n",
              " 723,\n",
              " 36,\n",
              " 71,\n",
              " 43,\n",
              " 530,\n",
              " 476,\n",
              " 26,\n",
              " 400,\n",
              " 317,\n",
              " 46,\n",
              " 7,\n",
              " 4,\n",
              " 2,\n",
              " 1029,\n",
              " 13,\n",
              " 104,\n",
              " 88,\n",
              " 4,\n",
              " 381,\n",
              " 15,\n",
              " 297,\n",
              " 98,\n",
              " 32,\n",
              " 2071,\n",
              " 56,\n",
              " 26,\n",
              " 141,\n",
              " 6,\n",
              " 194,\n",
              " 7486,\n",
              " 18,\n",
              " 4,\n",
              " 226,\n",
              " 22,\n",
              " 21,\n",
              " 134,\n",
              " 476,\n",
              " 26,\n",
              " 480,\n",
              " 5,\n",
              " 144,\n",
              " 30,\n",
              " 5535,\n",
              " 18,\n",
              " 51,\n",
              " 36,\n",
              " 28,\n",
              " 224,\n",
              " 92,\n",
              " 25,\n",
              " 104,\n",
              " 4,\n",
              " 226,\n",
              " 65,\n",
              " 16,\n",
              " 38,\n",
              " 1334,\n",
              " 88,\n",
              " 12,\n",
              " 16,\n",
              " 283,\n",
              " 5,\n",
              " 16,\n",
              " 4472,\n",
              " 113,\n",
              " 103,\n",
              " 32,\n",
              " 15,\n",
              " 16,\n",
              " 5345,\n",
              " 19,\n",
              " 178,\n",
              " 32]"
            ]
          },
          "metadata": {
            "tags": []
          },
          "execution_count": 4
        }
      ]
    },
    {
      "cell_type": "markdown",
      "metadata": {
        "colab_type": "text",
        "id": "Tvuu4KhStqei"
      },
      "source": [
        "We can convert integers back to words by querying a dictionary object that contains the integer to string mapping:"
      ]
    },
    {
      "cell_type": "code",
      "metadata": {
        "colab_type": "code",
        "id": "gMCH1OoDrSNR",
        "colab": {}
      },
      "source": [
        "\n",
        "word_index = imdb.get_word_index()"
      ],
      "execution_count": 0,
      "outputs": []
    },
    {
      "cell_type": "markdown",
      "metadata": {
        "colab_type": "text",
        "id": "5IreFXgruZot"
      },
      "source": [
        "Index 1 represents the beginning of the sentence and the index 2 is assigned to all unknown tokens. Index 0 will be used for padding."
      ]
    },
    {
      "cell_type": "code",
      "metadata": {
        "colab_type": "code",
        "id": "abIb7Fe5u3GQ",
        "colab": {}
      },
      "source": [
        "\n",
        "word_index = {k:(v+3) for k,v in word_index.items()}\n",
        "word_index[\"<PAD>\"] = 0\n",
        "word_index[\"<START>\"] = 1\n",
        "word_index[\"<UNK>\"] = 2  \n",
        "word_index[\"<UNUSED>\"] = 3"
      ],
      "execution_count": 0,
      "outputs": []
    },
    {
      "cell_type": "markdown",
      "metadata": {
        "colab_type": "text",
        "id": "9TnnSuspvC5b"
      },
      "source": [
        "To reverse key and values in a dictionary:"
      ]
    },
    {
      "cell_type": "code",
      "metadata": {
        "colab_type": "code",
        "id": "nKOiVVXQu-_I",
        "colab": {}
      },
      "source": [
        "reverse_word_index = dict([(value, key) for (key, value) in word_index.items()])"
      ],
      "execution_count": 0,
      "outputs": []
    },
    {
      "cell_type": "markdown",
      "metadata": {
        "colab_type": "text",
        "id": "ZmTJEm8xvUvW"
      },
      "source": [
        "To view a word:"
      ]
    },
    {
      "cell_type": "code",
      "metadata": {
        "colab_type": "code",
        "id": "SqN5jgVKvJJZ",
        "outputId": "bc50a40a-83a3-41c2-c217-364bb6be8c5f",
        "colab": {
          "base_uri": "https://localhost:8080/",
          "height": 34
        }
      },
      "source": [
        "reverse_word_index[25]"
      ],
      "execution_count": 0,
      "outputs": [
        {
          "output_type": "execute_result",
          "data": {
            "text/plain": [
              "'you'"
            ]
          },
          "metadata": {
            "tags": []
          },
          "execution_count": 8
        }
      ]
    },
    {
      "cell_type": "markdown",
      "metadata": {
        "colab_type": "text",
        "id": "Q6QjrzgVvrYn"
      },
      "source": [
        "And to recreate the whole sentence from our training data we define decode_review:\n"
      ]
    },
    {
      "cell_type": "code",
      "metadata": {
        "colab_type": "code",
        "id": "wvrKeMgxvWlv",
        "colab": {}
      },
      "source": [
        "def decode_review(text):\n",
        "    return ' '.join([reverse_word_index.get(i, '?') for i in text])"
      ],
      "execution_count": 0,
      "outputs": []
    },
    {
      "cell_type": "code",
      "metadata": {
        "colab_type": "code",
        "id": "Sxg4YA_NvdRg",
        "outputId": "6a1204cd-63d0-4b87-b1c5-7b351d666bdd",
        "colab": {
          "base_uri": "https://localhost:8080/",
          "height": 54
        }
      },
      "source": [
        "decode_review(X_train[10])"
      ],
      "execution_count": 0,
      "outputs": [
        {
          "output_type": "execute_result",
          "data": {
            "text/plain": [
              "\"<START> french horror cinema has seen something of a revival over the last couple of years with great films such as inside and <UNK> romance <UNK> on to the scene <UNK> <UNK> the revival just slightly but stands head and shoulders over most modern horror titles and is surely one of the best french horror films ever made <UNK> was obviously shot on a low budget but this is made up for in far more ways than one by the originality of the film and this in turn is <UNK> by the excellent writing and acting that ensure the film is a winner the plot focuses on two main ideas prison and black magic the central character is a man named <UNK> sent to prison for fraud he is put in a cell with three others the quietly insane <UNK> body building <UNK> marcus and his retarded boyfriend daisy after a short while in the cell together they stumble upon a hiding place in the wall that contains an old <UNK> after <UNK> part of it they soon realise its magical powers and realise they may be able to use it to break through the prison walls br br black magic is a very interesting topic and i'm actually quite surprised that there aren't more films based on it as there's so much scope for things to do with it it's fair to say that <UNK> makes the best of it's <UNK> as despite it's <UNK> the film never actually feels restrained and manages to flow well throughout director eric <UNK> provides a great atmosphere for the film the fact that most of it takes place inside the central prison cell <UNK> that the film feels very claustrophobic and this immensely benefits the central idea of the prisoners wanting to use magic to break out of the cell it's very easy to get behind them it's often said that the unknown is the thing that really <UNK> people and this film proves that as the director <UNK> that we can never really be sure of exactly what is round the corner and this helps to ensure that <UNK> actually does manage to be quite frightening the film is memorable for a lot of reasons outside the central plot the characters are all very interesting in their own way and the fact that the book itself almost takes on its own character is very well done anyone worried that the film won't deliver by the end won't be disappointed either as the ending both makes sense and manages to be quite horrifying overall <UNK> is a truly great horror film and one of the best of the decade highly recommended viewing\""
            ]
          },
          "metadata": {
            "tags": []
          },
          "execution_count": 10
        }
      ]
    },
    {
      "cell_type": "markdown",
      "metadata": {
        "colab_type": "text",
        "id": "c8gIzXncfaJK"
      },
      "source": [
        "### Creating One-hot word vectors"
      ]
    },
    {
      "cell_type": "markdown",
      "metadata": {
        "colab_type": "text",
        "id": "B9W4yb3rv_E0"
      },
      "source": [
        "It is  common to use one-hot representation as input in Natural Language Processing tasks. In Keras, the Embedding layer takes an index as an input and convert it to one-hot vector with the length of the vocabulary size. Then multiplies these vectors by a normal weight matrix. But there is no way to only get a one-hot vector as the output of a layer in Keras. To solve this we use Lambda() layer and a function that creates the one-hot layer. "
      ]
    },
    {
      "cell_type": "code",
      "metadata": {
        "colab_type": "code",
        "id": "RPO_pK9zH4C5",
        "colab": {}
      },
      "source": [
        "def OneHot(input_dim=None, input_length=None):\n",
        "    \n",
        "    if input_dim is None or input_length is None:\n",
        "        raise TypeError(\"input_dim or input_length is not set\")\n",
        "\n",
        "    \n",
        "    def _one_hot(x, num_classes):\n",
        "        return K.one_hot(K.cast(x, 'uint8'),\n",
        "                          num_classes=num_classes)\n",
        "\n",
        "    return Lambda(_one_hot,\n",
        "                  arguments={'num_classes': input_dim},\n",
        "                  input_shape=(input_length,))"
      ],
      "execution_count": 0,
      "outputs": []
    },
    {
      "cell_type": "markdown",
      "metadata": {
        "colab_type": "text",
        "id": "364d3MAw0ez9"
      },
      "source": [
        "input_dim refers to the length of the one-hot vector and input_length refers to the length of the input sequence. Since the input to K.one_hot should be an integer tensor, we cast x to one (Keras passes around float tensors by default).\n",
        "\n"
      ]
    },
    {
      "cell_type": "markdown",
      "metadata": {
        "colab_type": "text",
        "id": "VHz76GNA2M4r"
      },
      "source": [
        " Each text sequence has in most cases different length of words. Here, we fill sequences with a pad token (0) to fit the size. This special tokens is then masked not to be accounted in averaging, loss calculation etc. We set the maximum length to 256."
      ]
    },
    {
      "cell_type": "markdown",
      "metadata": {
        "colab_type": "text",
        "id": "9G_o7PsvgSFt"
      },
      "source": [
        "### Preparing input data"
      ]
    },
    {
      "cell_type": "code",
      "metadata": {
        "colab_type": "code",
        "id": "jiFn7sd_wF5j",
        "colab": {}
      },
      "source": [
        "VOCAB_SIZE = 10000\n",
        "MAX_SEQUENCE_LENGTH = 256\n",
        "\n",
        "X_train_enc = keras.preprocessing.sequence.pad_sequences(X_train,\n",
        "                                                        value=word_index[\"<PAD>\"],\n",
        "                                                        padding='post',\n",
        "                                                        maxlen=256)\n",
        "\n",
        "X_test_enc = keras.preprocessing.sequence.pad_sequences(X_test,\n",
        "                                                       value=word_index[\"<PAD>\"],\n",
        "                                                       padding='post',\n",
        "                                                       maxlen=256)"
      ],
      "execution_count": 0,
      "outputs": []
    },
    {
      "cell_type": "markdown",
      "metadata": {
        "colab_type": "text",
        "id": "kcjFH1wKF_7d"
      },
      "source": [
        "And to view a padded review:"
      ]
    },
    {
      "cell_type": "code",
      "metadata": {
        "colab_type": "code",
        "id": "zwH4dcfW_a18",
        "outputId": "38a743d6-8cdc-4383-b8c7-da425ae536fc",
        "colab": {
          "base_uri": "https://localhost:8080/",
          "height": 336
        }
      },
      "source": [
        "print(X_train_enc[1])\n"
      ],
      "execution_count": 0,
      "outputs": [
        {
          "output_type": "stream",
          "text": [
            "[   1  194 1153  194 8255   78  228    5    6 1463 4369 5012  134   26\n",
            "    4  715    8  118 1634   14  394   20   13  119  954  189  102    5\n",
            "  207  110 3103   21   14   69  188    8   30   23    7    4  249  126\n",
            "   93    4  114    9 2300 1523    5  647    4  116    9   35 8163    4\n",
            "  229    9  340 1322    4  118    9    4  130 4901   19    4 1002    5\n",
            "   89   29  952   46   37    4  455    9   45   43   38 1543 1905  398\n",
            "    4 1649   26 6853    5  163   11 3215    2    4 1153    9  194  775\n",
            "    7 8255    2  349 2637  148  605    2 8003   15  123  125   68    2\n",
            " 6853   15  349  165 4362   98    5    4  228    9   43    2 1157   15\n",
            "  299  120    5  120  174   11  220  175  136   50    9 4373  228 8255\n",
            "    5    2  656  245 2350    5    4 9837  131  152  491   18    2   32\n",
            " 7464 1212   14    9    6  371   78   22  625   64 1382    9    8  168\n",
            "  145   23    4 1690   15   16    4 1355    5   28    6   52  154  462\n",
            "   33   89   78  285   16  145   95    0    0    0    0    0    0    0\n",
            "    0    0    0    0    0    0    0    0    0    0    0    0    0    0\n",
            "    0    0    0    0    0    0    0    0    0    0    0    0    0    0\n",
            "    0    0    0    0    0    0    0    0    0    0    0    0    0    0\n",
            "    0    0    0    0    0    0    0    0    0    0    0    0    0    0\n",
            "    0    0    0    0]\n"
          ],
          "name": "stdout"
        }
      ]
    },
    {
      "cell_type": "markdown",
      "metadata": {
        "colab_type": "text",
        "id": "F1zcxFwNGepA"
      },
      "source": [
        "Now we want to build the neural network model. We  are going to have a hidden layer with 16 hidden units. \n",
        "\n",
        "First, we want to transform each index to an embedded vector and then average all vectors to a single one. It has been showed that unweighted average of word vectors outperforms many complicated networks that model semantic and syntactic compositionality. As an example you can take a look at this: (http://anthology.aclweb.org/P/P15/P15-1162.pdf)\n",
        "\n",
        "To average we need to ignore padded zeros:"
      ]
    },
    {
      "cell_type": "code",
      "metadata": {
        "colab_type": "code",
        "id": "Yi04MLIvJOGZ",
        "colab": {}
      },
      "source": [
        "class GlobalAveragePooling1DMasked(GlobalAveragePooling1D):\n",
        "    def call(self, x, mask=None):\n",
        "        if mask != None:\n",
        "            return K.sum(x, axis=1) / K.sum(mask, axis=1)\n",
        "        else:\n",
        "            return super().call(x)\n"
      ],
      "execution_count": 0,
      "outputs": []
    },
    {
      "cell_type": "markdown",
      "metadata": {
        "colab_type": "text",
        "id": "whgIIB5ggjna"
      },
      "source": [
        "### Neural Network model using one-hot vectors"
      ]
    },
    {
      "cell_type": "markdown",
      "metadata": {
        "colab_type": "text",
        "id": "jlOLnlnSJgrU"
      },
      "source": [
        "The first layer is an one-hot layer. The second layer is to compute average on all word vectors in a sentence without considering padding. The  output vector is piped through a fully-connected layer. The last layer is connected with a single output node with the sigmoid activation function. The final value is a float between 0 and 1. \n",
        "The vocabulary count of the movie reviews (10000) is used as the input shape. At the end we visualize the model summary."
      ]
    },
    {
      "cell_type": "code",
      "metadata": {
        "colab_type": "code",
        "id": "_Pn83gBbxiK7",
        "outputId": "672074db-6cf0-4141-9173-abf70f5d773f",
        "colab": {
          "base_uri": "https://localhost:8080/",
          "height": 138
        }
      },
      "source": [
        "# put your code here\n",
        "model = Sequential()\n",
        "model.add(OneHot(input_dim=VOCAB_SIZE,input_length=MAX_SEQUENCE_LENGTH))  #one hot layer\n",
        "model.add(GlobalAveragePooling1DMasked())   #average of word vector\n",
        "model.add(Dense(units=16))                  #fully conected layer with 16 units\n",
        "model.add(Dense(1,activation='sigmoid'))"
      ],
      "execution_count": 0,
      "outputs": [
        {
          "output_type": "stream",
          "text": [
            "WARNING:tensorflow:From /usr/local/lib/python3.6/dist-packages/keras/backend/tensorflow_backend.py:66: The name tf.get_default_graph is deprecated. Please use tf.compat.v1.get_default_graph instead.\n",
            "\n",
            "WARNING:tensorflow:From /usr/local/lib/python3.6/dist-packages/keras/backend/tensorflow_backend.py:541: The name tf.placeholder is deprecated. Please use tf.compat.v1.placeholder instead.\n",
            "\n",
            "WARNING:tensorflow:From /usr/local/lib/python3.6/dist-packages/keras/backend/tensorflow_backend.py:4432: The name tf.random_uniform is deprecated. Please use tf.random.uniform instead.\n",
            "\n"
          ],
          "name": "stdout"
        }
      ]
    },
    {
      "cell_type": "markdown",
      "metadata": {
        "colab_type": "text",
        "id": "_Mz96xpCgvTj"
      },
      "source": [
        "### Training the model"
      ]
    },
    {
      "cell_type": "markdown",
      "metadata": {
        "colab_type": "text",
        "id": "F3HbW_IKLqwT"
      },
      "source": [
        "To compile the model we need a loss function and an optimizer. We use binary_crossentropy loss function which is just a special case of categorical cross entropy. We also use Adam optimizer that can be used instead of the classical stochastic gradient descent procedure to update network weights iterative based in training data. You can read more about it here:\n",
        "(https://arxiv.org/abs/1412.6980v8\n",
        ")\n"
      ]
    },
    {
      "cell_type": "code",
      "metadata": {
        "colab_type": "code",
        "id": "qh1PWTNMxjUw",
        "outputId": "9881ac78-2e1f-4174-8d84-a93a756556b8",
        "colab": {
          "base_uri": "https://localhost:8080/",
          "height": 154
        }
      },
      "source": [
        "model.compile(optimizer='adam',\n",
        "              loss='binary_crossentropy',\n",
        "              metrics=['accuracy'])"
      ],
      "execution_count": 0,
      "outputs": [
        {
          "output_type": "stream",
          "text": [
            "WARNING:tensorflow:From /usr/local/lib/python3.6/dist-packages/keras/optimizers.py:793: The name tf.train.Optimizer is deprecated. Please use tf.compat.v1.train.Optimizer instead.\n",
            "\n",
            "WARNING:tensorflow:From /usr/local/lib/python3.6/dist-packages/keras/backend/tensorflow_backend.py:3657: The name tf.log is deprecated. Please use tf.math.log instead.\n",
            "\n",
            "WARNING:tensorflow:From /usr/local/lib/python3.6/dist-packages/tensorflow_core/python/ops/nn_impl.py:183: where (from tensorflow.python.ops.array_ops) is deprecated and will be removed in a future version.\n",
            "Instructions for updating:\n",
            "Use tf.where in 2.0, which has the same broadcast rule as np.where\n"
          ],
          "name": "stdout"
        }
      ]
    },
    {
      "cell_type": "markdown",
      "metadata": {
        "colab_type": "text",
        "id": "E1jwQQqCN5Ia"
      },
      "source": [
        "When training, we want to check the accuracy of the model on data it hasn't seen before. So we create a validation set:"
      ]
    },
    {
      "cell_type": "code",
      "metadata": {
        "colab_type": "code",
        "id": "f5lAqzQlxjSM",
        "colab": {}
      },
      "source": [
        "X_val = np.array(X_train_enc[:10000])\n",
        "partial_X_train = np.array(X_train_enc[10000:])\n",
        "\n",
        "y_val = np.array(y_train[:10000])\n",
        "partial_y_train = np.array(y_train[10000:])"
      ],
      "execution_count": 0,
      "outputs": []
    },
    {
      "cell_type": "markdown",
      "metadata": {
        "colab_type": "text",
        "id": "E8Kpo5G3OJEY"
      },
      "source": [
        "Then we start to train the model for 40 epochs in mini-batches of 512 samples and monitor the model's loss and accuracy on the validation set."
      ]
    },
    {
      "cell_type": "code",
      "metadata": {
        "colab_type": "code",
        "id": "99_z39KAxjPi",
        "outputId": "9056f8fa-489f-4d89-942d-8cd0bd377ed2",
        "colab": {
          "base_uri": "https://localhost:8080/",
          "height": 1000
        }
      },
      "source": [
        "history = model.fit(partial_X_train,\n",
        "                    partial_y_train,\n",
        "                    epochs=40,\n",
        "                    batch_size=512,\n",
        "                    validation_data=(X_val, y_val),\n",
        "                    verbose=1)"
      ],
      "execution_count": 0,
      "outputs": [
        {
          "output_type": "stream",
          "text": [
            "WARNING:tensorflow:From /usr/local/lib/python3.6/dist-packages/keras/backend/tensorflow_backend.py:1033: The name tf.assign_add is deprecated. Please use tf.compat.v1.assign_add instead.\n",
            "\n",
            "WARNING:tensorflow:From /usr/local/lib/python3.6/dist-packages/keras/backend/tensorflow_backend.py:1020: The name tf.assign is deprecated. Please use tf.compat.v1.assign instead.\n",
            "\n",
            "WARNING:tensorflow:From /usr/local/lib/python3.6/dist-packages/keras/backend/tensorflow_backend.py:3005: The name tf.Session is deprecated. Please use tf.compat.v1.Session instead.\n",
            "\n",
            "Train on 15000 samples, validate on 10000 samples\n",
            "Epoch 1/40\n",
            "WARNING:tensorflow:From /usr/local/lib/python3.6/dist-packages/keras/backend/tensorflow_backend.py:190: The name tf.get_default_session is deprecated. Please use tf.compat.v1.get_default_session instead.\n",
            "\n",
            "WARNING:tensorflow:From /usr/local/lib/python3.6/dist-packages/keras/backend/tensorflow_backend.py:197: The name tf.ConfigProto is deprecated. Please use tf.compat.v1.ConfigProto instead.\n",
            "\n",
            "WARNING:tensorflow:From /usr/local/lib/python3.6/dist-packages/keras/backend/tensorflow_backend.py:207: The name tf.global_variables is deprecated. Please use tf.compat.v1.global_variables instead.\n",
            "\n",
            "WARNING:tensorflow:From /usr/local/lib/python3.6/dist-packages/keras/backend/tensorflow_backend.py:216: The name tf.is_variable_initialized is deprecated. Please use tf.compat.v1.is_variable_initialized instead.\n",
            "\n",
            "WARNING:tensorflow:From /usr/local/lib/python3.6/dist-packages/keras/backend/tensorflow_backend.py:223: The name tf.variables_initializer is deprecated. Please use tf.compat.v1.variables_initializer instead.\n",
            "\n",
            "15000/15000 [==============================] - 16s 1ms/step - loss: 0.6921 - acc: 0.5441 - val_loss: 0.6911 - val_acc: 0.4991\n",
            "Epoch 2/40\n",
            "15000/15000 [==============================] - 6s 423us/step - loss: 0.6895 - acc: 0.5655 - val_loss: 0.6883 - val_acc: 0.6554\n",
            "Epoch 3/40\n",
            "15000/15000 [==============================] - 6s 423us/step - loss: 0.6865 - acc: 0.6395 - val_loss: 0.6852 - val_acc: 0.6579\n",
            "Epoch 4/40\n",
            "15000/15000 [==============================] - 6s 423us/step - loss: 0.6827 - acc: 0.6617 - val_loss: 0.6814 - val_acc: 0.6632\n",
            "Epoch 5/40\n",
            "15000/15000 [==============================] - 6s 419us/step - loss: 0.6783 - acc: 0.6745 - val_loss: 0.6768 - val_acc: 0.6700\n",
            "Epoch 6/40\n",
            "15000/15000 [==============================] - 6s 419us/step - loss: 0.6734 - acc: 0.6779 - val_loss: 0.6722 - val_acc: 0.6710\n",
            "Epoch 7/40\n",
            "15000/15000 [==============================] - 6s 419us/step - loss: 0.6679 - acc: 0.6827 - val_loss: 0.6670 - val_acc: 0.6726\n",
            "Epoch 8/40\n",
            "15000/15000 [==============================] - 6s 420us/step - loss: 0.6619 - acc: 0.6818 - val_loss: 0.6609 - val_acc: 0.6718\n",
            "Epoch 9/40\n",
            "15000/15000 [==============================] - 6s 419us/step - loss: 0.6560 - acc: 0.6858 - val_loss: 0.6552 - val_acc: 0.6831\n",
            "Epoch 10/40\n",
            "15000/15000 [==============================] - 6s 421us/step - loss: 0.6497 - acc: 0.6898 - val_loss: 0.6492 - val_acc: 0.6802\n",
            "Epoch 11/40\n",
            "15000/15000 [==============================] - 6s 422us/step - loss: 0.6434 - acc: 0.6923 - val_loss: 0.6438 - val_acc: 0.6884\n",
            "Epoch 12/40\n",
            "15000/15000 [==============================] - 6s 426us/step - loss: 0.6370 - acc: 0.6956 - val_loss: 0.6381 - val_acc: 0.6907\n",
            "Epoch 13/40\n",
            "15000/15000 [==============================] - 6s 428us/step - loss: 0.6310 - acc: 0.6968 - val_loss: 0.6324 - val_acc: 0.6925\n",
            "Epoch 14/40\n",
            "15000/15000 [==============================] - 6s 426us/step - loss: 0.6247 - acc: 0.6998 - val_loss: 0.6260 - val_acc: 0.6987\n",
            "Epoch 15/40\n",
            "15000/15000 [==============================] - 6s 426us/step - loss: 0.6184 - acc: 0.7027 - val_loss: 0.6204 - val_acc: 0.7018\n",
            "Epoch 16/40\n",
            "15000/15000 [==============================] - 6s 429us/step - loss: 0.6127 - acc: 0.7068 - val_loss: 0.6154 - val_acc: 0.7036\n",
            "Epoch 17/40\n",
            "15000/15000 [==============================] - 6s 430us/step - loss: 0.6070 - acc: 0.7085 - val_loss: 0.6097 - val_acc: 0.7084\n",
            "Epoch 18/40\n",
            "15000/15000 [==============================] - 6s 430us/step - loss: 0.6015 - acc: 0.7119 - val_loss: 0.6042 - val_acc: 0.7114\n",
            "Epoch 19/40\n",
            "15000/15000 [==============================] - 6s 429us/step - loss: 0.5958 - acc: 0.7157 - val_loss: 0.5991 - val_acc: 0.7130\n",
            "Epoch 20/40\n",
            "15000/15000 [==============================] - 6s 431us/step - loss: 0.5906 - acc: 0.7193 - val_loss: 0.5945 - val_acc: 0.7182\n",
            "Epoch 21/40\n",
            "15000/15000 [==============================] - 6s 431us/step - loss: 0.5856 - acc: 0.7230 - val_loss: 0.5894 - val_acc: 0.7179\n",
            "Epoch 22/40\n",
            "15000/15000 [==============================] - 6s 431us/step - loss: 0.5810 - acc: 0.7211 - val_loss: 0.5853 - val_acc: 0.7225\n",
            "Epoch 23/40\n",
            "15000/15000 [==============================] - 7s 434us/step - loss: 0.5761 - acc: 0.7267 - val_loss: 0.5813 - val_acc: 0.7228\n",
            "Epoch 24/40\n",
            "15000/15000 [==============================] - 6s 431us/step - loss: 0.5718 - acc: 0.7261 - val_loss: 0.5764 - val_acc: 0.7246\n",
            "Epoch 25/40\n",
            "15000/15000 [==============================] - 7s 434us/step - loss: 0.5675 - acc: 0.7283 - val_loss: 0.5727 - val_acc: 0.7225\n",
            "Epoch 26/40\n",
            "15000/15000 [==============================] - 7s 434us/step - loss: 0.5636 - acc: 0.7318 - val_loss: 0.5687 - val_acc: 0.7269\n",
            "Epoch 27/40\n",
            "15000/15000 [==============================] - 7s 434us/step - loss: 0.5596 - acc: 0.7331 - val_loss: 0.5651 - val_acc: 0.7287\n",
            "Epoch 28/40\n",
            "15000/15000 [==============================] - 7s 437us/step - loss: 0.5560 - acc: 0.7371 - val_loss: 0.5617 - val_acc: 0.7307\n",
            "Epoch 29/40\n",
            "15000/15000 [==============================] - 7s 436us/step - loss: 0.5526 - acc: 0.7381 - val_loss: 0.5585 - val_acc: 0.7324\n",
            "Epoch 30/40\n",
            "15000/15000 [==============================] - 7s 438us/step - loss: 0.5496 - acc: 0.7395 - val_loss: 0.5556 - val_acc: 0.7332\n",
            "Epoch 31/40\n",
            "15000/15000 [==============================] - 7s 438us/step - loss: 0.5464 - acc: 0.7420 - val_loss: 0.5527 - val_acc: 0.7370\n",
            "Epoch 32/40\n",
            "15000/15000 [==============================] - 7s 437us/step - loss: 0.5437 - acc: 0.7431 - val_loss: 0.5505 - val_acc: 0.7343\n",
            "Epoch 33/40\n",
            "15000/15000 [==============================] - 7s 440us/step - loss: 0.5412 - acc: 0.7421 - val_loss: 0.5483 - val_acc: 0.7370\n",
            "Epoch 34/40\n",
            "15000/15000 [==============================] - 7s 441us/step - loss: 0.5384 - acc: 0.7457 - val_loss: 0.5452 - val_acc: 0.7403\n",
            "Epoch 35/40\n",
            "15000/15000 [==============================] - 7s 439us/step - loss: 0.5364 - acc: 0.7466 - val_loss: 0.5431 - val_acc: 0.7413\n",
            "Epoch 36/40\n",
            "15000/15000 [==============================] - 7s 444us/step - loss: 0.5339 - acc: 0.7452 - val_loss: 0.5411 - val_acc: 0.7425\n",
            "Epoch 37/40\n",
            "15000/15000 [==============================] - 7s 443us/step - loss: 0.5320 - acc: 0.7480 - val_loss: 0.5396 - val_acc: 0.7401\n",
            "Epoch 38/40\n",
            "15000/15000 [==============================] - 7s 441us/step - loss: 0.5298 - acc: 0.7481 - val_loss: 0.5374 - val_acc: 0.7445\n",
            "Epoch 39/40\n",
            "15000/15000 [==============================] - 7s 443us/step - loss: 0.5281 - acc: 0.7489 - val_loss: 0.5360 - val_acc: 0.7446\n",
            "Epoch 40/40\n",
            "15000/15000 [==============================] - 7s 445us/step - loss: 0.5270 - acc: 0.7487 - val_loss: 0.5343 - val_acc: 0.7447\n"
          ],
          "name": "stdout"
        }
      ]
    },
    {
      "cell_type": "markdown",
      "metadata": {
        "colab_type": "text",
        "id": "i_9a_rybhG5J"
      },
      "source": [
        "### Evaluating the model"
      ]
    },
    {
      "cell_type": "markdown",
      "metadata": {
        "colab_type": "text",
        "id": "EYLH8kOgOo9W"
      },
      "source": [
        "To evaulate the model on test data:"
      ]
    },
    {
      "cell_type": "code",
      "metadata": {
        "colab_type": "code",
        "id": "CFMt2Q7b3taP",
        "outputId": "a0f6ca47-17fa-4f5f-f28d-5c8b6340ee32",
        "colab": {
          "base_uri": "https://localhost:8080/",
          "height": 34
        }
      },
      "source": [
        "results = model.evaluate(X_test_enc, y_test)"
      ],
      "execution_count": 0,
      "outputs": [
        {
          "output_type": "stream",
          "text": [
            "25000/25000 [==============================] - 7s 297us/step\n"
          ],
          "name": "stdout"
        }
      ]
    },
    {
      "cell_type": "code",
      "metadata": {
        "colab_type": "code",
        "id": "9RrKiPHcAmQU",
        "outputId": "2d05051f-97d2-43f0-aa90-e4c352a6e132",
        "colab": {
          "base_uri": "https://localhost:8080/",
          "height": 34
        }
      },
      "source": [
        "print(results)\n",
        "# loss, accuracay "
      ],
      "execution_count": 0,
      "outputs": [
        {
          "output_type": "stream",
          "text": [
            "[0.5341577560806274, 0.74236]\n"
          ],
          "name": "stdout"
        }
      ]
    },
    {
      "cell_type": "code",
      "metadata": {
        "id": "vrWNtROhusRg",
        "colab_type": "code",
        "outputId": "be5cf3c4-c677-4af3-a90b-73c1aac6ef9e",
        "colab": {
          "base_uri": "https://localhost:8080/",
          "height": 286
        }
      },
      "source": [
        "#sanity check\n",
        "model.summary()"
      ],
      "execution_count": 0,
      "outputs": [
        {
          "output_type": "stream",
          "text": [
            "Model: \"sequential_1\"\n",
            "_________________________________________________________________\n",
            "Layer (type)                 Output Shape              Param #   \n",
            "=================================================================\n",
            "lambda_1 (Lambda)            (None, 256, 10000)        0         \n",
            "_________________________________________________________________\n",
            "global_average_pooling1d_mas (None, 10000)             0         \n",
            "_________________________________________________________________\n",
            "dense_1 (Dense)              (None, 16)                160016    \n",
            "_________________________________________________________________\n",
            "dense_2 (Dense)              (None, 1)                 17        \n",
            "=================================================================\n",
            "Total params: 160,033\n",
            "Trainable params: 160,033\n",
            "Non-trainable params: 0\n",
            "_________________________________________________________________\n"
          ],
          "name": "stdout"
        }
      ]
    },
    {
      "cell_type": "markdown",
      "metadata": {
        "colab_type": "text",
        "id": "pW7IpHxMO6qp"
      },
      "source": [
        "Our first model accuracy using one-hot vectors is 0.742 (74%)\n",
        "\n",
        "\n",
        "\n",
        "\n"
      ]
    },
    {
      "cell_type": "markdown",
      "metadata": {
        "colab_type": "text",
        "id": "OwZk_yoWhPJB"
      },
      "source": [
        "### Plotting the accuracy graph"
      ]
    },
    {
      "cell_type": "markdown",
      "metadata": {
        "colab_type": "text",
        "id": "JIDPH1J7PMzN"
      },
      "source": [
        "To plot a graph of accuracy and loss over time we can use Matplotlib:"
      ]
    },
    {
      "cell_type": "code",
      "metadata": {
        "colab_type": "code",
        "id": "LS9k2vvSAqB7",
        "outputId": "4bb18f5d-c93c-4ea6-b66d-2a444436bc96",
        "colab": {
          "base_uri": "https://localhost:8080/",
          "height": 295
        }
      },
      "source": [
        "import matplotlib.pyplot as plt\n",
        "\n",
        "history_dict = history.history\n",
        "\n",
        "acc = history_dict['acc']\n",
        "val_acc = history_dict['val_acc']\n",
        "loss = history_dict['loss']\n",
        "val_loss = history_dict['val_loss']\n",
        "\n",
        "epochs = range(1, len(acc) + 1)\n",
        "\n",
        "plt.plot(epochs, acc, 'bo', label='Training acc')\n",
        "plt.plot(epochs, val_acc, 'b', label='Validation acc')\n",
        "plt.title('Training and validation accuracy')\n",
        "plt.xlabel('Epochs')\n",
        "plt.ylabel('Accuracy')\n",
        "plt.legend()\n",
        "\n",
        "plt.show()"
      ],
      "execution_count": 0,
      "outputs": [
        {
          "output_type": "display_data",
          "data": {
            "image/png": "[encoded data removed]",
            "text/plain": [
              "<Figure size 432x288 with 1 Axes>"
            ]
          },
          "metadata": {
            "tags": []
          }
        }
      ]
    },
    {
      "cell_type": "markdown",
      "metadata": {
        "colab_type": "text",
        "id": "a7OwOQw4h8RX"
      },
      "source": [
        "### Neural Network model using word embeddings"
      ]
    },
    {
      "cell_type": "markdown",
      "metadata": {
        "colab_type": "text",
        "id": "l-QzOMO_P4jc"
      },
      "source": [
        "Now instead of one-hot vectors, we want to use embedding. We change our first layer in model1 to an Embedding layer. This layer takes the integer-encoded vocabulary and looks up the embedding vector for each word-index. These vectors are learned as the model trains. The vectors add a dimension to the output array. The resulting dimensions are: (batch, sequence, embedding)."
      ]
    },
    {
      "cell_type": "code",
      "metadata": {
        "colab_type": "code",
        "id": "MFrCsL-NBFVL",
        "outputId": "c77b2947-351f-4cd9-b56a-f887b7160472",
        "colab": {
          "base_uri": "https://localhost:8080/",
          "height": 1000
        }
      },
      "source": [
        "VOCAB_SIZE= 10000\n",
        "\n",
        "# put the code here\n",
        "\n",
        "model2 = Sequential()\n",
        "model2.add(Embedding(VOCAB_SIZE,100))  #Embedding layer \n",
        "model2.add(GlobalAveragePooling1DMasked())   #average of word vector\n",
        "model2.add(Dense(units=16))                  #fully conected layer with 16 units\n",
        "model2.add(Dense(1,activation='sigmoid'))\n",
        "\n",
        "model2.compile(optimizer='adam',\n",
        "              loss='binary_crossentropy',\n",
        "              metrics=['accuracy'])\n",
        "\n",
        "X_val = np.array(X_train_enc[:10000])\n",
        "partial_X_train = np.array(X_train_enc[10000:])\n",
        "\n",
        "history2 = model2.fit(partial_X_train,\n",
        "                    partial_y_train,\n",
        "                    epochs=40,\n",
        "                    batch_size=512,\n",
        "                    validation_data=(X_val, y_val),\n",
        "                    verbose=1)\n",
        "\n",
        "results = model2.evaluate(X_test_enc, y_test)\n",
        "print(results)"
      ],
      "execution_count": 0,
      "outputs": [
        {
          "output_type": "stream",
          "text": [
            "Train on 15000 samples, validate on 10000 samples\n",
            "Epoch 1/40\n",
            "15000/15000 [==============================] - 1s 42us/step - loss: 0.6880 - acc: 0.6141 - val_loss: 0.6804 - val_acc: 0.6448\n",
            "Epoch 2/40\n",
            "15000/15000 [==============================] - 0s 23us/step - loss: 0.6616 - acc: 0.7122 - val_loss: 0.6394 - val_acc: 0.7414\n",
            "Epoch 3/40\n",
            "15000/15000 [==============================] - 0s 23us/step - loss: 0.5993 - acc: 0.7691 - val_loss: 0.5678 - val_acc: 0.7740\n",
            "Epoch 4/40\n",
            "15000/15000 [==============================] - 0s 22us/step - loss: 0.5123 - acc: 0.8093 - val_loss: 0.4844 - val_acc: 0.8100\n",
            "Epoch 5/40\n",
            "15000/15000 [==============================] - 0s 23us/step - loss: 0.4248 - acc: 0.8485 - val_loss: 0.4139 - val_acc: 0.8438\n",
            "Epoch 6/40\n",
            "15000/15000 [==============================] - 0s 23us/step - loss: 0.3566 - acc: 0.8745 - val_loss: 0.3685 - val_acc: 0.8580\n",
            "Epoch 7/40\n",
            "15000/15000 [==============================] - 0s 22us/step - loss: 0.3092 - acc: 0.8897 - val_loss: 0.3381 - val_acc: 0.8678\n",
            "Epoch 8/40\n",
            "15000/15000 [==============================] - 0s 23us/step - loss: 0.2729 - acc: 0.9029 - val_loss: 0.3194 - val_acc: 0.8731\n",
            "Epoch 9/40\n",
            "15000/15000 [==============================] - 0s 22us/step - loss: 0.2449 - acc: 0.9131 - val_loss: 0.3057 - val_acc: 0.8776\n",
            "Epoch 10/40\n",
            "15000/15000 [==============================] - 0s 23us/step - loss: 0.2219 - acc: 0.9215 - val_loss: 0.2973 - val_acc: 0.8814\n",
            "Epoch 11/40\n",
            "15000/15000 [==============================] - 0s 23us/step - loss: 0.2019 - acc: 0.9300 - val_loss: 0.2919 - val_acc: 0.8837\n",
            "Epoch 12/40\n",
            "15000/15000 [==============================] - 0s 22us/step - loss: 0.1840 - acc: 0.9377 - val_loss: 0.2884 - val_acc: 0.8840\n",
            "Epoch 13/40\n",
            "15000/15000 [==============================] - 0s 23us/step - loss: 0.1685 - acc: 0.9443 - val_loss: 0.2882 - val_acc: 0.8848\n",
            "Epoch 14/40\n",
            "15000/15000 [==============================] - 0s 22us/step - loss: 0.1551 - acc: 0.9502 - val_loss: 0.2890 - val_acc: 0.8842\n",
            "Epoch 15/40\n",
            "15000/15000 [==============================] - 0s 22us/step - loss: 0.1437 - acc: 0.9531 - val_loss: 0.2959 - val_acc: 0.8808\n",
            "Epoch 16/40\n",
            "15000/15000 [==============================] - 0s 22us/step - loss: 0.1319 - acc: 0.9595 - val_loss: 0.3020 - val_acc: 0.8794\n",
            "Epoch 17/40\n",
            "15000/15000 [==============================] - 0s 23us/step - loss: 0.1214 - acc: 0.9639 - val_loss: 0.2996 - val_acc: 0.8849\n",
            "Epoch 18/40\n",
            "15000/15000 [==============================] - 0s 22us/step - loss: 0.1112 - acc: 0.9687 - val_loss: 0.3054 - val_acc: 0.8839\n",
            "Epoch 19/40\n",
            "15000/15000 [==============================] - 0s 22us/step - loss: 0.1025 - acc: 0.9712 - val_loss: 0.3118 - val_acc: 0.8829\n",
            "Epoch 20/40\n",
            "15000/15000 [==============================] - 0s 24us/step - loss: 0.0946 - acc: 0.9743 - val_loss: 0.3189 - val_acc: 0.8820\n",
            "Epoch 21/40\n",
            "15000/15000 [==============================] - 0s 24us/step - loss: 0.0869 - acc: 0.9773 - val_loss: 0.3274 - val_acc: 0.8803\n",
            "Epoch 22/40\n",
            "15000/15000 [==============================] - 0s 25us/step - loss: 0.0800 - acc: 0.9809 - val_loss: 0.3356 - val_acc: 0.8794\n",
            "Epoch 23/40\n",
            "15000/15000 [==============================] - 0s 23us/step - loss: 0.0736 - acc: 0.9823 - val_loss: 0.3468 - val_acc: 0.8787\n",
            "Epoch 24/40\n",
            "15000/15000 [==============================] - 0s 22us/step - loss: 0.0682 - acc: 0.9839 - val_loss: 0.3550 - val_acc: 0.8770\n",
            "Epoch 25/40\n",
            "15000/15000 [==============================] - 0s 22us/step - loss: 0.0629 - acc: 0.9862 - val_loss: 0.3647 - val_acc: 0.8771\n",
            "Epoch 26/40\n",
            "15000/15000 [==============================] - 0s 22us/step - loss: 0.0576 - acc: 0.9885 - val_loss: 0.3759 - val_acc: 0.8769\n",
            "Epoch 27/40\n",
            "15000/15000 [==============================] - 0s 23us/step - loss: 0.0530 - acc: 0.9891 - val_loss: 0.3877 - val_acc: 0.8761\n",
            "Epoch 28/40\n",
            "15000/15000 [==============================] - 0s 22us/step - loss: 0.0492 - acc: 0.9907 - val_loss: 0.3986 - val_acc: 0.8747\n",
            "Epoch 29/40\n",
            "15000/15000 [==============================] - 0s 24us/step - loss: 0.0450 - acc: 0.9921 - val_loss: 0.4104 - val_acc: 0.8740\n",
            "Epoch 30/40\n",
            "15000/15000 [==============================] - 0s 23us/step - loss: 0.0413 - acc: 0.9925 - val_loss: 0.4253 - val_acc: 0.8715\n",
            "Epoch 31/40\n",
            "15000/15000 [==============================] - 0s 23us/step - loss: 0.0393 - acc: 0.9934 - val_loss: 0.4384 - val_acc: 0.8695\n",
            "Epoch 32/40\n",
            "15000/15000 [==============================] - 0s 23us/step - loss: 0.0353 - acc: 0.9945 - val_loss: 0.4478 - val_acc: 0.8701\n",
            "Epoch 33/40\n",
            "15000/15000 [==============================] - 0s 22us/step - loss: 0.0322 - acc: 0.9957 - val_loss: 0.4590 - val_acc: 0.8706\n",
            "Epoch 34/40\n",
            "15000/15000 [==============================] - 0s 22us/step - loss: 0.0297 - acc: 0.9962 - val_loss: 0.4723 - val_acc: 0.8684\n",
            "Epoch 35/40\n",
            "15000/15000 [==============================] - 0s 23us/step - loss: 0.0273 - acc: 0.9969 - val_loss: 0.4859 - val_acc: 0.8673\n",
            "Epoch 36/40\n",
            "15000/15000 [==============================] - 0s 23us/step - loss: 0.0256 - acc: 0.9968 - val_loss: 0.4986 - val_acc: 0.8678\n",
            "Epoch 37/40\n",
            "15000/15000 [==============================] - 0s 23us/step - loss: 0.0233 - acc: 0.9973 - val_loss: 0.5099 - val_acc: 0.8669\n",
            "Epoch 38/40\n",
            "15000/15000 [==============================] - 0s 23us/step - loss: 0.0214 - acc: 0.9978 - val_loss: 0.5181 - val_acc: 0.8659\n",
            "Epoch 39/40\n",
            "15000/15000 [==============================] - 0s 22us/step - loss: 0.0194 - acc: 0.9979 - val_loss: 0.5301 - val_acc: 0.8662\n",
            "Epoch 40/40\n",
            "15000/15000 [==============================] - 0s 22us/step - loss: 0.0181 - acc: 0.9985 - val_loss: 0.5422 - val_acc: 0.8658\n",
            "25000/25000 [==============================] - 1s 39us/step\n",
            "[0.5766747018527985, 0.85488]\n"
          ],
          "name": "stdout"
        }
      ]
    },
    {
      "cell_type": "code",
      "metadata": {
        "colab_type": "code",
        "id": "I4zIPJDcTPq3",
        "outputId": "ed712206-4d78-4399-c5f1-a25e3ef5720b",
        "colab": {
          "base_uri": "https://localhost:8080/",
          "height": 34
        }
      },
      "source": [
        "results = model2.evaluate(X_test_enc, y_test)"
      ],
      "execution_count": 0,
      "outputs": [
        {
          "output_type": "stream",
          "text": [
            "25000/25000 [==============================] - 1s 39us/step\n"
          ],
          "name": "stdout"
        }
      ]
    },
    {
      "cell_type": "code",
      "metadata": {
        "colab_type": "code",
        "id": "waS96edDTRyL",
        "outputId": "9cd3eb99-5b7b-4933-8d7a-fdfa29686f98",
        "colab": {
          "base_uri": "https://localhost:8080/",
          "height": 34
        }
      },
      "source": [
        "print (results)"
      ],
      "execution_count": 0,
      "outputs": [
        {
          "output_type": "stream",
          "text": [
            "[0.5766747018527985, 0.85488]\n"
          ],
          "name": "stdout"
        }
      ]
    },
    {
      "cell_type": "code",
      "metadata": {
        "id": "MRouY7EStzEi",
        "colab_type": "code",
        "outputId": "091a6676-2bed-4adf-e7d5-84ceb18c0352",
        "colab": {
          "base_uri": "https://localhost:8080/",
          "height": 286
        }
      },
      "source": [
        "model2.summary()"
      ],
      "execution_count": 0,
      "outputs": [
        {
          "output_type": "stream",
          "text": [
            "Model: \"sequential_2\"\n",
            "_________________________________________________________________\n",
            "Layer (type)                 Output Shape              Param #   \n",
            "=================================================================\n",
            "embedding_1 (Embedding)      (None, None, 100)         1000000   \n",
            "_________________________________________________________________\n",
            "global_average_pooling1d_mas (None, 100)               0         \n",
            "_________________________________________________________________\n",
            "dense_3 (Dense)              (None, 16)                1616      \n",
            "_________________________________________________________________\n",
            "dense_4 (Dense)              (None, 1)                 17        \n",
            "=================================================================\n",
            "Total params: 1,001,633\n",
            "Trainable params: 1,001,633\n",
            "Non-trainable params: 0\n",
            "_________________________________________________________________\n"
          ],
          "name": "stdout"
        }
      ]
    },
    {
      "cell_type": "code",
      "metadata": {
        "colab_type": "code",
        "id": "XB7aveVzTC5a",
        "outputId": "5d7593d9-0ec6-44a1-b2b4-632f48346f7b",
        "colab": {
          "base_uri": "https://localhost:8080/",
          "height": 295
        }
      },
      "source": [
        "import matplotlib.pyplot as plt\n",
        "\n",
        "history_dict = history2.history\n",
        "\n",
        "acc = history_dict['acc']\n",
        "val_acc = history_dict['val_acc']\n",
        "loss = history_dict['loss']\n",
        "val_loss = history_dict['val_loss']\n",
        "\n",
        "epochs = range(1, len(acc) + 1)\n",
        "\n",
        "plt.plot(epochs, acc, 'bo', label='Training acc')\n",
        "plt.plot(epochs, val_acc, 'b', label='Validation acc')\n",
        "plt.title('Training and validation accuracy')\n",
        "plt.xlabel('Epochs')\n",
        "plt.ylabel('Accuracy')\n",
        "plt.legend()\n",
        "\n",
        "plt.show()"
      ],
      "execution_count": 0,
      "outputs": [
        {
          "output_type": "display_data",
          "data": {
            "image/png": "[encoded data removed]",
            "text/plain": [
              "<Figure size 432x288 with 1 Axes>"
            ]
          },
          "metadata": {
            "tags": []
          }
        }
      ]
    },
    {
      "cell_type": "markdown",
      "metadata": {
        "colab_type": "text",
        "id": "7FBpTc_rXGvQ"
      },
      "source": [
        "The accuracy of model2 is 87%. Using Embedding layer instead of one-hot layer improved the performance."
      ]
    },
    {
      "cell_type": "markdown",
      "metadata": {
        "colab_type": "text",
        "id": "--020hfG6rN2"
      },
      "source": [
        "### Using pre-trained word embeddings"
      ]
    },
    {
      "cell_type": "markdown",
      "metadata": {
        "colab_type": "text",
        "id": "J4gBeOyi4gkM"
      },
      "source": [
        "The Embedding layer can be used to load a pre-trained word embedding model. We are going to use GloVe embeddings, which you can read about it here (https://nlp.stanford.edu/projects/glove/). GloVe stands for \"Global Vectors for Word Representation\". It's a somewhat popular embedding technique based on factorizing a matrix of word co-occurence statistics. You can download GloVe and we can seed the Keras Embedding layer with weights from the pre-trained embedding for the words in your dataset.\n",
        "First, we need to read GloVe and map words to GloVe:\n"
      ]
    },
    {
      "cell_type": "code",
      "metadata": {
        "colab_type": "code",
        "id": "f_PypdqG9Iis",
        "colab": {}
      },
      "source": [
        "def readGloveFile(gloveFile):\n",
        "    with open(gloveFile, 'r') as f:\n",
        "        wordToGlove = {}  \n",
        "        wordToIndex = {}  \n",
        "        indexToWord = {}  \n",
        "\n",
        "        for line in f:\n",
        "            record = line.strip().split()\n",
        "            token = record[0] \n",
        "            wordToGlove[token] = np.array(record[1:], dtype=np.float64) \n",
        "            \n",
        "        tokens = sorted(wordToGlove.keys())\n",
        "        for idx, tok in enumerate(tokens):\n",
        "            kerasIdx = idx + 1  \n",
        "            wordToIndex[tok] = kerasIdx \n",
        "            indexToWord[kerasIdx] = tok \n",
        "\n",
        "    return wordToIndex, indexToWord, wordToGlove"
      ],
      "execution_count": 0,
      "outputs": []
    },
    {
      "cell_type": "markdown",
      "metadata": {
        "colab_type": "text",
        "id": "ZcIZ3dq59bCh"
      },
      "source": [
        "Now, we create our pre-trained Embedding layer:"
      ]
    },
    {
      "cell_type": "code",
      "metadata": {
        "colab_type": "code",
        "id": "gembn7VM3ex8",
        "colab": {}
      },
      "source": [
        "from keras.initializers import Constant\n",
        "def createPretrainedEmbeddingLayer(wordToGlove, wordToIndex, isTrainable):\n",
        "    vocabLen = len(wordToIndex) + 1  \n",
        "    embDim = next(iter(wordToGlove.values())).shape[0]  \n",
        "   \n",
        "    embeddingMatrix = np.zeros((vocabLen, embDim))  \n",
        "    for word, index in wordToIndex.items():\n",
        "        embeddingMatrix[index, :] = wordToGlove[word] \n",
        "\n",
        "    embeddingLayer = Embedding(vocabLen, embDim, embeddings_initializer=Constant(embeddingMatrix), trainable=isTrainable)\n",
        "    return embeddingLayer"
      ],
      "execution_count": 0,
      "outputs": []
    },
    {
      "cell_type": "code",
      "metadata": {
        "id": "CwjuuS42rDF8",
        "colab_type": "code",
        "colab": {}
      },
      "source": [
        ""
      ],
      "execution_count": 0,
      "outputs": []
    },
    {
      "cell_type": "code",
      "metadata": {
        "id": "enWTwkperEPQ",
        "colab_type": "code",
        "outputId": "a12c4b33-ef64-4342-b0f9-a21580a7b019",
        "colab": {
          "base_uri": "https://localhost:8080/",
          "height": 34
        }
      },
      "source": [
        "from google.colab import drive\n",
        "drive.mount('/content/drive')"
      ],
      "execution_count": 0,
      "outputs": [
        {
          "output_type": "stream",
          "text": [
            "Drive already mounted at /content/drive; to attempt to forcibly remount, call drive.mount(\"/content/drive\", force_remount=True).\n"
          ],
          "name": "stdout"
        }
      ]
    },
    {
      "cell_type": "markdown",
      "metadata": {
        "colab_type": "text",
        "id": "HGxciLK4-xOr"
      },
      "source": [
        "We freeze the weights. To create the model:"
      ]
    },
    {
      "cell_type": "code",
      "metadata": {
        "colab_type": "code",
        "id": "PZCPUM0W_Drc",
        "colab": {}
      },
      "source": [
        "# put the code here\n",
        "wordToIndex, indexToWord, wordToGlove = readGloveFile('drive/My Drive/Colab Notebooks/glove.6B.300d.txt')\n",
        "model3 = Sequential()\n",
        "model3.add(createPretrainedEmbeddingLayer(wordToGlove,wordToIndex,False)) #setting isTrainable to true \n",
        "model3.add(GlobalAveragePooling1DMasked())   #average of word vector\n",
        "model3.add(Dense(units=16))                  #fully conected layer with 16 units"
      ],
      "execution_count": 0,
      "outputs": []
    },
    {
      "cell_type": "markdown",
      "metadata": {
        "colab_type": "text",
        "id": "M-bZ5SCHiIMl"
      },
      "source": [
        "### Adding another hidden layer to the network"
      ]
    },
    {
      "cell_type": "markdown",
      "metadata": {
        "colab_type": "text",
        "id": "ZbZ6UBDfbjea"
      },
      "source": [
        "In model3, we only add another dense layer to see if that improves the performance."
      ]
    },
    {
      "cell_type": "code",
      "metadata": {
        "colab_type": "code",
        "id": "Vw0le1YjDdCa",
        "outputId": "4ebba8e8-d00c-42a2-e995-70aa8e35c2c6",
        "colab": {
          "base_uri": "https://localhost:8080/",
          "height": 1000
        }
      },
      "source": [
        "# put your code here\n",
        "model3.add(Dense(16))   #adding extra layer \n",
        "model3.add(Dense(1,activation='sigmoid')) #output layer\n",
        "\n",
        "model3.compile(optimizer='adam',\n",
        "              loss='binary_crossentropy',\n",
        "              metrics=['accuracy'])\n",
        "\n",
        "history3 = model3.fit(partial_X_train,\n",
        "                    partial_y_train,\n",
        "                    epochs=40,\n",
        "                    batch_size=512,\n",
        "                    validation_data=(X_val, y_val),\n",
        "                    verbose=1)\n",
        "\n",
        "results = model3.evaluate(X_test_enc, y_test)\n",
        "print(results)"
      ],
      "execution_count": 0,
      "outputs": [
        {
          "output_type": "stream",
          "text": [
            "/usr/local/lib/python3.6/dist-packages/tensorflow_core/python/framework/indexed_slices.py:421: UserWarning: Converting sparse IndexedSlices to a dense Tensor with 120000300 elements. This may consume a large amount of memory.\n",
            "  num_elements)\n"
          ],
          "name": "stderr"
        },
        {
          "output_type": "stream",
          "text": [
            "Train on 15000 samples, validate on 10000 samples\n",
            "Epoch 1/40\n",
            "15000/15000 [==============================] - 10s 653us/step - loss: 0.6837 - acc: 0.5689 - val_loss: 0.6681 - val_acc: 0.6229\n",
            "Epoch 2/40\n",
            "15000/15000 [==============================] - 5s 308us/step - loss: 0.6378 - acc: 0.6712 - val_loss: 0.6015 - val_acc: 0.7008\n",
            "Epoch 3/40\n",
            "15000/15000 [==============================] - 5s 307us/step - loss: 0.5339 - acc: 0.7568 - val_loss: 0.4771 - val_acc: 0.7947\n",
            "Epoch 4/40\n",
            "15000/15000 [==============================] - 5s 307us/step - loss: 0.4085 - acc: 0.8345 - val_loss: 0.3834 - val_acc: 0.8435\n",
            "Epoch 5/40\n",
            "15000/15000 [==============================] - 5s 306us/step - loss: 0.3194 - acc: 0.8736 - val_loss: 0.3374 - val_acc: 0.8632\n",
            "Epoch 6/40\n",
            "15000/15000 [==============================] - 5s 306us/step - loss: 0.2632 - acc: 0.8974 - val_loss: 0.3170 - val_acc: 0.8709\n",
            "Epoch 7/40\n",
            "15000/15000 [==============================] - 5s 307us/step - loss: 0.2214 - acc: 0.9155 - val_loss: 0.3002 - val_acc: 0.8811\n",
            "Epoch 8/40\n",
            "15000/15000 [==============================] - 5s 308us/step - loss: 0.1899 - acc: 0.9294 - val_loss: 0.3013 - val_acc: 0.8819\n",
            "Epoch 9/40\n",
            "15000/15000 [==============================] - 5s 307us/step - loss: 0.1621 - acc: 0.9430 - val_loss: 0.3015 - val_acc: 0.8835\n",
            "Epoch 10/40\n",
            "15000/15000 [==============================] - 5s 307us/step - loss: 0.1395 - acc: 0.9529 - val_loss: 0.3113 - val_acc: 0.8833\n",
            "Epoch 11/40\n",
            "15000/15000 [==============================] - 5s 306us/step - loss: 0.1191 - acc: 0.9629 - val_loss: 0.3234 - val_acc: 0.8829\n",
            "Epoch 12/40\n",
            "15000/15000 [==============================] - 5s 306us/step - loss: 0.1003 - acc: 0.9699 - val_loss: 0.3448 - val_acc: 0.8792\n",
            "Epoch 13/40\n",
            "15000/15000 [==============================] - 5s 308us/step - loss: 0.0864 - acc: 0.9729 - val_loss: 0.3629 - val_acc: 0.8789\n",
            "Epoch 14/40\n",
            "15000/15000 [==============================] - 5s 308us/step - loss: 0.0725 - acc: 0.9799 - val_loss: 0.3862 - val_acc: 0.8771\n",
            "Epoch 15/40\n",
            "15000/15000 [==============================] - 5s 307us/step - loss: 0.0622 - acc: 0.9838 - val_loss: 0.4261 - val_acc: 0.8689\n",
            "Epoch 16/40\n",
            "15000/15000 [==============================] - 5s 308us/step - loss: 0.0518 - acc: 0.9889 - val_loss: 0.4462 - val_acc: 0.8726\n",
            "Epoch 17/40\n",
            "15000/15000 [==============================] - 5s 307us/step - loss: 0.0422 - acc: 0.9918 - val_loss: 0.4720 - val_acc: 0.8721\n",
            "Epoch 18/40\n",
            "15000/15000 [==============================] - 5s 307us/step - loss: 0.0354 - acc: 0.9940 - val_loss: 0.5031 - val_acc: 0.8696\n",
            "Epoch 19/40\n",
            "15000/15000 [==============================] - 5s 307us/step - loss: 0.0298 - acc: 0.9949 - val_loss: 0.5376 - val_acc: 0.8695\n",
            "Epoch 20/40\n",
            "15000/15000 [==============================] - 5s 306us/step - loss: 0.0251 - acc: 0.9959 - val_loss: 0.5684 - val_acc: 0.8665\n",
            "Epoch 21/40\n",
            "15000/15000 [==============================] - 5s 307us/step - loss: 0.0193 - acc: 0.9973 - val_loss: 0.6026 - val_acc: 0.8653\n",
            "Epoch 22/40\n",
            "15000/15000 [==============================] - 5s 307us/step - loss: 0.0171 - acc: 0.9978 - val_loss: 0.6267 - val_acc: 0.8653\n",
            "Epoch 23/40\n",
            "15000/15000 [==============================] - 5s 307us/step - loss: 0.0132 - acc: 0.9985 - val_loss: 0.6623 - val_acc: 0.8635\n",
            "Epoch 24/40\n",
            "15000/15000 [==============================] - 5s 307us/step - loss: 0.0109 - acc: 0.9991 - val_loss: 0.6843 - val_acc: 0.8638\n",
            "Epoch 25/40\n",
            "15000/15000 [==============================] - 5s 306us/step - loss: 0.0091 - acc: 0.9993 - val_loss: 0.7090 - val_acc: 0.8639\n",
            "Epoch 26/40\n",
            "15000/15000 [==============================] - 5s 309us/step - loss: 0.0075 - acc: 0.9996 - val_loss: 0.7374 - val_acc: 0.8626\n",
            "Epoch 27/40\n",
            "15000/15000 [==============================] - 5s 309us/step - loss: 0.0064 - acc: 0.9996 - val_loss: 0.7555 - val_acc: 0.8628\n",
            "Epoch 28/40\n",
            "15000/15000 [==============================] - 5s 307us/step - loss: 0.0054 - acc: 0.9997 - val_loss: 0.7756 - val_acc: 0.8629\n",
            "Epoch 29/40\n",
            "15000/15000 [==============================] - 5s 308us/step - loss: 0.0047 - acc: 0.9998 - val_loss: 0.7951 - val_acc: 0.8626\n",
            "Epoch 30/40\n",
            "15000/15000 [==============================] - 5s 307us/step - loss: 0.0040 - acc: 0.9999 - val_loss: 0.8136 - val_acc: 0.8624\n",
            "Epoch 31/40\n",
            "15000/15000 [==============================] - 5s 307us/step - loss: 0.0034 - acc: 0.9999 - val_loss: 0.8300 - val_acc: 0.8616\n",
            "Epoch 32/40\n",
            "15000/15000 [==============================] - 5s 308us/step - loss: 0.0033 - acc: 0.9998 - val_loss: 0.8479 - val_acc: 0.8613\n",
            "Epoch 33/40\n",
            "15000/15000 [==============================] - 5s 308us/step - loss: 0.0029 - acc: 0.9999 - val_loss: 0.8617 - val_acc: 0.8617\n",
            "Epoch 34/40\n",
            "15000/15000 [==============================] - 5s 308us/step - loss: 0.0025 - acc: 0.9999 - val_loss: 0.8734 - val_acc: 0.8612\n",
            "Epoch 35/40\n",
            "15000/15000 [==============================] - 5s 307us/step - loss: 0.0022 - acc: 0.9999 - val_loss: 0.8861 - val_acc: 0.8614\n",
            "Epoch 36/40\n",
            "15000/15000 [==============================] - 5s 307us/step - loss: 0.0020 - acc: 0.9999 - val_loss: 0.8985 - val_acc: 0.8608\n",
            "Epoch 37/40\n",
            "15000/15000 [==============================] - 5s 307us/step - loss: 0.0022 - acc: 0.9999 - val_loss: 0.9119 - val_acc: 0.8608\n",
            "Epoch 38/40\n",
            "15000/15000 [==============================] - 5s 306us/step - loss: 0.0017 - acc: 0.9999 - val_loss: 0.9241 - val_acc: 0.8598\n",
            "Epoch 39/40\n",
            "15000/15000 [==============================] - 5s 307us/step - loss: 0.0015 - acc: 0.9999 - val_loss: 0.9324 - val_acc: 0.8611\n",
            "Epoch 40/40\n",
            "15000/15000 [==============================] - 5s 307us/step - loss: 0.0014 - acc: 1.0000 - val_loss: 0.9452 - val_acc: 0.8594\n",
            "25000/25000 [==============================] - 1s 40us/step\n",
            "[1.0132289003276824, 0.8454]\n"
          ],
          "name": "stdout"
        }
      ]
    },
    {
      "cell_type": "code",
      "metadata": {
        "id": "7PRUBOcWtcWc",
        "colab_type": "code",
        "outputId": "7e9a9618-463d-4a38-ff77-1d96cfea92cc",
        "colab": {
          "base_uri": "https://localhost:8080/",
          "height": 319
        }
      },
      "source": [
        "model3.summary()\n"
      ],
      "execution_count": 0,
      "outputs": [
        {
          "output_type": "stream",
          "text": [
            "Model: \"sequential_3\"\n",
            "_________________________________________________________________\n",
            "Layer (type)                 Output Shape              Param #   \n",
            "=================================================================\n",
            "embedding_2 (Embedding)      (None, None, 300)         120000300 \n",
            "_________________________________________________________________\n",
            "global_average_pooling1d_mas (None, 300)               0         \n",
            "_________________________________________________________________\n",
            "dense_5 (Dense)              (None, 16)                4816      \n",
            "_________________________________________________________________\n",
            "dense_6 (Dense)              (None, 16)                272       \n",
            "_________________________________________________________________\n",
            "dense_7 (Dense)              (None, 1)                 17        \n",
            "=================================================================\n",
            "Total params: 120,005,405\n",
            "Trainable params: 120,005,405\n",
            "Non-trainable params: 0\n",
            "_________________________________________________________________\n"
          ],
          "name": "stdout"
        }
      ]
    },
    {
      "cell_type": "code",
      "metadata": {
        "colab_type": "code",
        "id": "QtsdVeW7UgCu",
        "outputId": "94078993-1453-492c-fecf-8b3682479752",
        "colab": {
          "base_uri": "https://localhost:8080/",
          "height": 295
        }
      },
      "source": [
        "import matplotlib.pyplot as plt\n",
        "\n",
        "history_dict = history3.history\n",
        "\n",
        "acc = history_dict['acc']\n",
        "val_acc = history_dict['val_acc']\n",
        "loss = history_dict['loss']\n",
        "val_loss = history_dict['val_loss']\n",
        "\n",
        "epochs = range(1, len(acc) + 1)\n",
        "\n",
        "plt.plot(epochs, acc, 'bo', label='Training acc')\n",
        "plt.plot(epochs, val_acc, 'b', label='Validation acc')\n",
        "plt.title('Training and validation accuracy')\n",
        "plt.xlabel('Epochs')\n",
        "plt.ylabel('Accuracy')\n",
        "plt.legend()\n",
        "\n",
        "plt.show()"
      ],
      "execution_count": 0,
      "outputs": [
        {
          "output_type": "display_data",
          "data": {
            "image/png": "[encoded data removed]",
            "text/plain": [
              "<Figure size 432x288 with 1 Axes>"
            ]
          },
          "metadata": {
            "tags": []
          }
        }
      ]
    },
    {
      "cell_type": "markdown",
      "metadata": {
        "colab_type": "text",
        "id": "Kx--Ytk3ZbLo"
      },
      "source": [
        "The accuracy of model3 with an additional layer is 85%. Adding more layers can help you to extract more features. But we can do that upto a certain extent. After some point, instead of extracting features, we tend to overfit the data. Overfitting can lead to errors in some or the other form like false positives. It is not easy to choose the number of units in a hidden layer or the number of hidden layers in a neural network. For many applications, one hidden layer is enough. As a general rule, the number of units in that hidden layer is between the number of inputs and the number of outputs.\n",
        " The best way to decide on the number of units and hidden layers is to try various parameters. Train several neural networks with different numbers of hidden layers and neurons, and monitor the performance of them. You will have to experiment using a series of different architectures. \n",
        "\n",
        "\n",
        "\n"
      ]
    },
    {
      "cell_type": "markdown",
      "metadata": {
        "colab_type": "text",
        "id": "gn2GSV4ioyO2"
      },
      "source": [
        "\n",
        "\n",
        "---\n",
        "\n"
      ]
    },
    {
      "cell_type": "code",
      "metadata": {
        "colab_type": "code",
        "id": "XYC6DykEox2w",
        "colab": {}
      },
      "source": [
        ""
      ],
      "execution_count": 0,
      "outputs": []
    },
    {
      "cell_type": "markdown",
      "metadata": {
        "colab_type": "text",
        "id": "GsCJ01StlgCx"
      },
      "source": [
        "This tutorial is substantially based on this document:\n",
        "https://www.tensorflow.org/tutorials/keras/basic_text_classification\n",
        "\n",
        "To read more about Sequential APIs you can go to: https://keras.io/getting-started/sequential-model-guide/\n",
        "\n",
        "The one-hot word vector layer is taken from:\n",
        "https://fdalvi.github.io/blog/2018-04-07-keras-sequential-onehot/\n"
      ]
    },
    {
      "cell_type": "code",
      "metadata": {
        "colab_type": "code",
        "id": "jL0UovfaE9GE",
        "colab": {}
      },
      "source": [
        ""
      ],
      "execution_count": 0,
      "outputs": []
    }
  ]
}