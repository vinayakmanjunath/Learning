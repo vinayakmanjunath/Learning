{
  "nbformat": 4,
  "nbformat_minor": 0,
  "metadata": {
    "colab": {
      "name": "NLP_LAB_3.ipynb",
      "provenance": []
    },
    "kernelspec": {
      "name": "python3",
      "display_name": "Python 3"
    },
    "accelerator": "GPU"
  },
  "cells": [
    {
      "cell_type": "markdown",
      "metadata": {
        "id": "BEbfQKlLbegR",
        "colab_type": "text"
      },
      "source": [
        "**1. Downloading the corpus**"
      ]
    },
    {
      "cell_type": "code",
      "metadata": {
        "id": "rSbjJgM8avXs",
        "colab_type": "code",
        "colab": {
          "base_uri": "https://localhost:8080/",
          "height": 163
        },
        "outputId": "7fd0326d-41e3-4697-ef2a-4f6b87ddb627"
      },
      "source": [
        "import keras\n",
        "import nltk\n",
        "nltk.download('punkt')\n",
        "nltk.download('gutenberg')\n",
        "from nltk.corpus import gutenberg\n",
        "austen = gutenberg.sents('austen-sense.txt') + gutenberg.sents('austen-emma.txt') + gutenberg.sents('austen-persuasion.txt')\n",
        "print(len(austen)) #sanity check"
      ],
      "execution_count": 1,
      "outputs": [
        {
          "output_type": "stream",
          "text": [
            "Using TensorFlow backend.\n"
          ],
          "name": "stderr"
        },
        {
          "output_type": "display_data",
          "data": {
            "text/html": [
              "<p style=\"color: red;\">\n",
              "The default version of TensorFlow in Colab will soon switch to TensorFlow 2.x.<br>\n",
              "We recommend you <a href=\"https://www.tensorflow.org/guide/migrate\" target=\"_blank\">upgrade</a> now \n",
              "or ensure your notebook will continue to use TensorFlow 1.x via the <code>%tensorflow_version 1.x</code> magic:\n",
              "<a href=\"https://colab.research.google.com/notebooks/tensorflow_version.ipynb\" target=\"_blank\">more info</a>.</p>\n"
            ],
            "text/plain": [
              "<IPython.core.display.HTML object>"
            ]
          },
          "metadata": {
            "tags": []
          }
        },
        {
          "output_type": "stream",
          "text": [
            "[nltk_data] Downloading package punkt to /root/nltk_data...\n",
            "[nltk_data]   Unzipping tokenizers/punkt.zip.\n",
            "[nltk_data] Downloading package gutenberg to /root/nltk_data...\n",
            "[nltk_data]   Unzipping corpora/gutenberg.zip.\n",
            "16498\n"
          ],
          "name": "stdout"
        }
      ]
    },
    {
      "cell_type": "code",
      "metadata": {
        "id": "MlvlK0zscXTa",
        "colab_type": "code",
        "colab": {
          "base_uri": "https://localhost:8080/",
          "height": 50
        },
        "outputId": "e22a5cef-211b-42a5-b8e3-1e9e73907d7b"
      },
      "source": [
        "from nltk.corpus import stopwords\n",
        "nltk.download('stopwords')\n",
        "stop_words = set(stopwords.words('english'))"
      ],
      "execution_count": 2,
      "outputs": [
        {
          "output_type": "stream",
          "text": [
            "[nltk_data] Downloading package stopwords to /root/nltk_data...\n",
            "[nltk_data]   Unzipping corpora/stopwords.zip.\n"
          ],
          "name": "stdout"
        }
      ]
    },
    {
      "cell_type": "markdown",
      "metadata": {
        "id": "7sWPJPHSbyCc",
        "colab_type": "text"
      },
      "source": [
        "**2.PREPROCESSING THE TRAINING CORPUS**"
      ]
    },
    {
      "cell_type": "code",
      "metadata": {
        "id": "YKUWAyhwb1Jb",
        "colab_type": "code",
        "colab": {
          "base_uri": "https://localhost:8080/",
          "height": 70
        },
        "outputId": "cb926a0b-6bc8-406f-cacc-d244c9066fb2"
      },
      "source": [
        "import string\n",
        "normalised_corpus =[]\n",
        "for sentence in austen:\n",
        "  sentences =[]\n",
        "  for word in sentence:\n",
        "    word = word.lower()\n",
        "    word = word.strip(string.punctuation)\n",
        "    word = word.strip(string.digits)\n",
        "    if word not in string.punctuation and word not in stop_words: \n",
        "      sentences.append(word)\n",
        "  if(len(sentences)>2):\n",
        "    normalised_corpus.append(sentences)\n",
        "\n",
        "#sanity check\n",
        "print(\"length of processed corpus: \",len(normalised_corpus))\n",
        "print(\" processed line: \",normalised_corpus[10])"
      ],
      "execution_count": 32,
      "outputs": [
        {
          "output_type": "stream",
          "text": [
            "length of processed corpus:  13927\n",
            " processed line:  ['therefore', 'succession', 'norland', 'estate', 'really', 'important', 'sisters', 'fortune', 'independent', 'might', 'arise', 'father', 'inheriting', 'property', 'could', 'small']\n"
          ],
          "name": "stdout"
        }
      ]
    },
    {
      "cell_type": "markdown",
      "metadata": {
        "id": "GNlYrEEudmAj",
        "colab_type": "text"
      },
      "source": [
        "**3.Corpus Vocabulary and preparing dataset**"
      ]
    },
    {
      "cell_type": "code",
      "metadata": {
        "id": "yzXqu-HmdrVl",
        "colab_type": "code",
        "colab": {}
      },
      "source": [
        "#creating word2idx, idx2word, sents_as_ids\n",
        "from keras.preprocessing.text import Tokenizer\n",
        "\n",
        "tokenizer = Tokenizer()\n",
        "tokenizer.fit_on_texts(normalised_corpus)\n",
        "\n",
        "word2idx = tokenizer.word_index\n",
        "idx2word = tokenizer.index_word\n",
        "sents_as_ids = tokenizer.texts_to_sequences(normalised_corpus)\n",
        "\n",
        "vocab_size = len(word2idx) + 1\n",
        "embed_size = 100"
      ],
      "execution_count": 0,
      "outputs": []
    },
    {
      "cell_type": "code",
      "metadata": {
        "id": "vcLcplrAe8wr",
        "colab_type": "code",
        "colab": {
          "base_uri": "https://localhost:8080/",
          "height": 121
        },
        "outputId": "21f22674-1238-4df1-ff92-54f202940565"
      },
      "source": [
        "#SANITY CHECK\n",
        "print(\"number of unique words: \",len(word2idx))\n",
        "print(\"word2idx: \",list(word2idx.items())[:10])\n",
        "print(\"idx2word: \",list(idx2word.items())[:10])\n",
        "print(\"normalised corpus: \",normalised_corpus[:3])\n",
        "print(\"lists_as_ids: \",sents_as_ids[:3])"
      ],
      "execution_count": 34,
      "outputs": [
        {
          "output_type": "stream",
          "text": [
            "number of unique words:  10098\n",
            "word2idx:  [('could', 1), ('would', 2), ('mr', 3), ('mrs', 4), ('must', 5), ('said', 6), ('one', 7), ('much', 8), ('miss', 9), ('every', 10)]\n",
            "idx2word:  [(1, 'could'), (2, 'would'), (3, 'mr'), (4, 'mrs'), (5, 'must'), (6, 'said'), (7, 'one'), (8, 'much'), (9, 'miss'), (10, 'every')]\n",
            "normalised corpus:  [['sense', 'sensibility', 'jane', 'austen'], ['family', 'dashwood', 'long', 'settled', 'sussex'], ['estate', 'large', 'residence', 'norland', 'park', 'centre', 'property', 'many', 'generations', 'lived', 'respectable', 'manner', 'engage', 'general', 'good', 'opinion', 'surrounding', 'acquaintance']]\n",
            "lists_as_ids:  [[305, 1379, 75, 4299], [108, 101, 57, 333, 2588], [1022, 405, 1627, 597, 554, 2784, 1023, 66, 4300, 512, 768, 160, 1164, 199, 15, 190, 3044, 147]]\n"
          ],
          "name": "stdout"
        }
      ]
    },
    {
      "cell_type": "markdown",
      "metadata": {
        "id": "T2zjFFmCf-IR",
        "colab_type": "text"
      },
      "source": [
        "**4.Generating training instances**"
      ]
    },
    {
      "cell_type": "code",
      "metadata": {
        "id": "IP5S9inygBSp",
        "colab_type": "code",
        "colab": {}
      },
      "source": [
        "from keras.preprocessing.sequence import skipgrams\n",
        "skip_grams = [skipgrams(sent, vocabulary_size=vocab_size, window_size=5) for sent in sents_as_ids]"
      ],
      "execution_count": 0,
      "outputs": []
    },
    {
      "cell_type": "code",
      "metadata": {
        "id": "m4Xxn3qqgGdL",
        "colab_type": "code",
        "colab": {
          "base_uri": "https://localhost:8080/",
          "height": 420
        },
        "outputId": "b90b68b4-fc0a-4a7c-e2c8-7a9ed2c15dcb"
      },
      "source": [
        "#sanity check\n",
        "pairs, labels = skip_grams[0][0], skip_grams[0][1]\n",
        "for i in range(len(pairs)):\n",
        "  print('({:s} ({:d}), {:s} ({:d})) -> {:d}'.format(\n",
        "# the first word and its index\n",
        "idx2word[pairs[i][0]], pairs[i][0],\n",
        "# the second word and its index\n",
        "idx2word[pairs[i][1]], pairs[i][1],\n",
        "# the label\n",
        "labels[i]))\n"
      ],
      "execution_count": 7,
      "outputs": [
        {
          "output_type": "stream",
          "text": [
            "(austen (4299), decisive (2984)) -> 0\n",
            "(sensibility (1379), claiming (4510)) -> 0\n",
            "(sense (305), austen (4299)) -> 1\n",
            "(austen (4299), sensibility (1379)) -> 1\n",
            "(jane (75), diminished (5116)) -> 0\n",
            "(austen (4299), robust (10011)) -> 0\n",
            "(sensibility (1379), insurmountable (7097)) -> 0\n",
            "(sensibility (1379), austen (4299)) -> 1\n",
            "(austen (4299), sense (305)) -> 1\n",
            "(sensibility (1379), seriously (997)) -> 0\n",
            "(jane (75), tenacious (9312)) -> 0\n",
            "(sense (305), sensibility (1379)) -> 1\n",
            "(jane (75), sensibility (1379)) -> 1\n",
            "(sense (305), derive (4661)) -> 0\n",
            "(sensibility (1379), sense (305)) -> 1\n",
            "(jane (75), appeal (2864)) -> 0\n",
            "(jane (75), sense (305)) -> 1\n",
            "(austen (4299), jane (75)) -> 1\n",
            "(sense (305), jane (75)) -> 1\n",
            "(sense (305), works (3105)) -> 0\n",
            "(sense (305), lists (4847)) -> 0\n",
            "(sensibility (1379), jane (75)) -> 1\n",
            "(jane (75), austen (4299)) -> 1\n",
            "(austen (4299), impassioned (9539)) -> 0\n"
          ],
          "name": "stdout"
        }
      ]
    },
    {
      "cell_type": "markdown",
      "metadata": {
        "id": "ggorUuIegW_G",
        "colab_type": "text"
      },
      "source": [
        "**5. Building the skip-gram Neural Network Architecture**"
      ]
    },
    {
      "cell_type": "code",
      "metadata": {
        "id": "bkmhl9CAgfRB",
        "colab_type": "code",
        "colab": {
          "base_uri": "https://localhost:8080/",
          "height": 138
        },
        "outputId": "78c2334f-4ee2-474e-8dd2-65ac10dadf48"
      },
      "source": [
        "# A INIT AND TRANSFORM FIRST INPUT \n",
        "from keras.layers import Dot, Input\n",
        "from keras.layers.core import Dense, Reshape\n",
        "from keras.layers.embeddings import Embedding\n",
        "from keras.models import Model\n",
        "from keras.utils import plot_model\n",
        "\n",
        "# The input is an array of target indices e.g. [2, 45, 7, 23,...9]\n",
        "target_word = Input((1,), dtype='int32')\n",
        "\n",
        "# feed the words into the model using the Keras <Embedding> layer. This is the hidden layer from whose weights we will get the word embeddings.\n",
        "target_embedding = Embedding(vocab_size, embed_size, name='target_embed_layer',embeddings_initializer='glorot_uniform',input_length=1)(target_word)\n",
        "\n",
        "# at this point, the input would of the shape (num_inputs x 1 x embed_size) and has to be flattened or reshaped into a (num_inputs x embed_size) tensor.\n",
        "target_input = Reshape((embed_size, ))(target_embedding)"
      ],
      "execution_count": 8,
      "outputs": [
        {
          "output_type": "stream",
          "text": [
            "WARNING:tensorflow:From /usr/local/lib/python3.6/dist-packages/keras/backend/tensorflow_backend.py:66: The name tf.get_default_graph is deprecated. Please use tf.compat.v1.get_default_graph instead.\n",
            "\n",
            "WARNING:tensorflow:From /usr/local/lib/python3.6/dist-packages/keras/backend/tensorflow_backend.py:541: The name tf.placeholder is deprecated. Please use tf.compat.v1.placeholder instead.\n",
            "\n",
            "WARNING:tensorflow:From /usr/local/lib/python3.6/dist-packages/keras/backend/tensorflow_backend.py:4432: The name tf.random_uniform is deprecated. Please use tf.random.uniform instead.\n",
            "\n"
          ],
          "name": "stdout"
        }
      ]
    },
    {
      "cell_type": "code",
      "metadata": {
        "id": "YHUIWtjIhAAz",
        "colab_type": "code",
        "colab": {}
      },
      "source": [
        "# B FOR CONTEXT WORD INPUT\n",
        "context_word = Input((1,), dtype='int32')\n",
        "context_embedding = Embedding(vocab_size, embed_size, name='Context_embed_layer',embeddings_initializer='glorot_uniform',input_length=1)(context_word)\n",
        "context_input = Reshape((embed_size, ))(context_embedding)\n"
      ],
      "execution_count": 0,
      "outputs": []
    },
    {
      "cell_type": "code",
      "metadata": {
        "id": "0iwM4e0HhlcJ",
        "colab_type": "code",
        "colab": {}
      },
      "source": [
        "# C MERGE INPUTS\n",
        "merged_inputs = Dot(axes=-1, normalize=False)([target_input, context_input])"
      ],
      "execution_count": 0,
      "outputs": []
    },
    {
      "cell_type": "code",
      "metadata": {
        "id": "SeB1dRlPhrBb",
        "colab_type": "code",
        "colab": {}
      },
      "source": [
        "# D PASS MERGED INPUTS INTO SIGMOID ACTIVATION LAYER\n",
        "label = Dense(1,activation='sigmoid',kernel_initializer='glorot_uniform') (merged_inputs)"
      ],
      "execution_count": 0,
      "outputs": []
    },
    {
      "cell_type": "code",
      "metadata": {
        "id": "Zuk23KGQigKd",
        "colab_type": "code",
        "colab": {}
      },
      "source": [
        "# E INIT THE MODEL\n",
        "model =Model(inputs =[target_word,context_word],outputs =[label])"
      ],
      "execution_count": 0,
      "outputs": []
    },
    {
      "cell_type": "code",
      "metadata": {
        "id": "WUvcTLf8izZG",
        "colab_type": "code",
        "colab": {
          "base_uri": "https://localhost:8080/",
          "height": 50
        },
        "outputId": "0ea96c77-0f2d-4091-b0bc-ffe96c030eaf"
      },
      "source": [
        "# F COMPILE THE MODEL\n",
        "model.compile(loss='mean_squared_error',optimizer='rmsprop')"
      ],
      "execution_count": 13,
      "outputs": [
        {
          "output_type": "stream",
          "text": [
            "WARNING:tensorflow:From /usr/local/lib/python3.6/dist-packages/keras/optimizers.py:793: The name tf.train.Optimizer is deprecated. Please use tf.compat.v1.train.Optimizer instead.\n",
            "\n"
          ],
          "name": "stdout"
        }
      ]
    },
    {
      "cell_type": "code",
      "metadata": {
        "id": "cv9lDCHei01E",
        "colab_type": "code",
        "colab": {
          "base_uri": "https://localhost:8080/",
          "height": 437
        },
        "outputId": "ab17d95a-0202-408e-aa47-9bafac41db53"
      },
      "source": [
        "model.summary()"
      ],
      "execution_count": 14,
      "outputs": [
        {
          "output_type": "stream",
          "text": [
            "Model: \"model_1\"\n",
            "__________________________________________________________________________________________________\n",
            "Layer (type)                    Output Shape         Param #     Connected to                     \n",
            "==================================================================================================\n",
            "input_1 (InputLayer)            (None, 1)            0                                            \n",
            "__________________________________________________________________________________________________\n",
            "input_2 (InputLayer)            (None, 1)            0                                            \n",
            "__________________________________________________________________________________________________\n",
            "target_embed_layer (Embedding)  (None, 1, 100)       1009900     input_1[0][0]                    \n",
            "__________________________________________________________________________________________________\n",
            "Context_embed_layer (Embedding) (None, 1, 100)       1009900     input_2[0][0]                    \n",
            "__________________________________________________________________________________________________\n",
            "reshape_1 (Reshape)             (None, 100)          0           target_embed_layer[0][0]         \n",
            "__________________________________________________________________________________________________\n",
            "reshape_2 (Reshape)             (None, 100)          0           Context_embed_layer[0][0]        \n",
            "__________________________________________________________________________________________________\n",
            "dot_1 (Dot)                     (None, 1)            0           reshape_1[0][0]                  \n",
            "                                                                 reshape_2[0][0]                  \n",
            "__________________________________________________________________________________________________\n",
            "dense_1 (Dense)                 (None, 1)            2           dot_1[0][0]                      \n",
            "==================================================================================================\n",
            "Total params: 2,019,802\n",
            "Trainable params: 2,019,802\n",
            "Non-trainable params: 0\n",
            "__________________________________________________________________________________________________\n"
          ],
          "name": "stdout"
        }
      ]
    },
    {
      "cell_type": "code",
      "metadata": {
        "id": "fW2XM8IOjfA3",
        "colab_type": "code",
        "colab": {
          "base_uri": "https://localhost:8080/",
          "height": 709
        },
        "outputId": "d8d5362d-076b-46d6-ed6e-56545bbe9fb7"
      },
      "source": [
        "# VISUALISE MODEL ARCHITECTURE\n",
        "from IPython.display import SVG\n",
        "from keras.utils import vis_utils\n",
        "SVG(vis_utils.model_to_dot(model, show_shapes=True,\n",
        "show_layer_names=True).create(prog='dot', format='svg'))"
      ],
      "execution_count": 15,
      "outputs": [
        {
          "output_type": "execute_result",
          "data": {
            "text/plain": [
              "<IPython.core.display.SVG object>"
            ],
            "image/svg+xml": "<svg height=\"516pt\" viewBox=\"0.00 0.00 768.00 387.00\" width=\"1024pt\" xmlns=\"http://www.w3.org/2000/svg\" xmlns:xlink=\"http://www.w3.org/1999/xlink\">\n<g class=\"graph\" id=\"graph0\" transform=\"scale(1.3333 1.3333) rotate(0) translate(4 383)\">\n<title>G</title>\n<polygon fill=\"#ffffff\" points=\"-4,4 -4,-383 764,-383 764,4 -4,4\" stroke=\"transparent\"/>\n<!-- 139712172236640 -->\n<g class=\"node\" id=\"node1\">\n<title>139712172236640</title>\n<polygon fill=\"none\" points=\"50.5,-332.5 50.5,-378.5 313.5,-378.5 313.5,-332.5 50.5,-332.5\" stroke=\"#000000\"/>\n<text fill=\"#000000\" font-family=\"Times,serif\" font-size=\"14.00\" text-anchor=\"middle\" x=\"117\" y=\"-351.8\">input_1: InputLayer</text>\n<polyline fill=\"none\" points=\"183.5,-332.5 183.5,-378.5 \" stroke=\"#000000\"/>\n<text fill=\"#000000\" font-family=\"Times,serif\" font-size=\"14.00\" text-anchor=\"middle\" x=\"212.5\" y=\"-363.3\">input:</text>\n<polyline fill=\"none\" points=\"183.5,-355.5 241.5,-355.5 \" stroke=\"#000000\"/>\n<text fill=\"#000000\" font-family=\"Times,serif\" font-size=\"14.00\" text-anchor=\"middle\" x=\"212.5\" y=\"-340.3\">output:</text>\n<polyline fill=\"none\" points=\"241.5,-332.5 241.5,-378.5 \" stroke=\"#000000\"/>\n<text fill=\"#000000\" font-family=\"Times,serif\" font-size=\"14.00\" text-anchor=\"middle\" x=\"277.5\" y=\"-363.3\">(None, 1)</text>\n<polyline fill=\"none\" points=\"241.5,-355.5 313.5,-355.5 \" stroke=\"#000000\"/>\n<text fill=\"#000000\" font-family=\"Times,serif\" font-size=\"14.00\" text-anchor=\"middle\" x=\"277.5\" y=\"-340.3\">(None, 1)</text>\n</g>\n<!-- 139712172236472 -->\n<g class=\"node\" id=\"node3\">\n<title>139712172236472</title>\n<polygon fill=\"none\" points=\"0,-249.5 0,-295.5 364,-295.5 364,-249.5 0,-249.5\" stroke=\"#000000\"/>\n<text fill=\"#000000\" font-family=\"Times,serif\" font-size=\"14.00\" text-anchor=\"middle\" x=\"102\" y=\"-268.8\">target_embed_layer: Embedding</text>\n<polyline fill=\"none\" points=\"204,-249.5 204,-295.5 \" stroke=\"#000000\"/>\n<text fill=\"#000000\" font-family=\"Times,serif\" font-size=\"14.00\" text-anchor=\"middle\" x=\"233\" y=\"-280.3\">input:</text>\n<polyline fill=\"none\" points=\"204,-272.5 262,-272.5 \" stroke=\"#000000\"/>\n<text fill=\"#000000\" font-family=\"Times,serif\" font-size=\"14.00\" text-anchor=\"middle\" x=\"233\" y=\"-257.3\">output:</text>\n<polyline fill=\"none\" points=\"262,-249.5 262,-295.5 \" stroke=\"#000000\"/>\n<text fill=\"#000000\" font-family=\"Times,serif\" font-size=\"14.00\" text-anchor=\"middle\" x=\"313\" y=\"-280.3\">(None, 1)</text>\n<polyline fill=\"none\" points=\"262,-272.5 364,-272.5 \" stroke=\"#000000\"/>\n<text fill=\"#000000\" font-family=\"Times,serif\" font-size=\"14.00\" text-anchor=\"middle\" x=\"313\" y=\"-257.3\">(None, 1, 100)</text>\n</g>\n<!-- 139712172236640&#45;&gt;139712172236472 -->\n<g class=\"edge\" id=\"edge1\">\n<title>139712172236640-&gt;139712172236472</title>\n<path d=\"M182,-332.3799C182,-324.1745 182,-314.7679 182,-305.8786\" fill=\"none\" stroke=\"#000000\"/>\n<polygon fill=\"#000000\" points=\"185.5001,-305.784 182,-295.784 178.5001,-305.784 185.5001,-305.784\" stroke=\"#000000\"/>\n</g>\n<!-- 139712185305968 -->\n<g class=\"node\" id=\"node2\">\n<title>139712185305968</title>\n<polygon fill=\"none\" points=\"439.5,-332.5 439.5,-378.5 702.5,-378.5 702.5,-332.5 439.5,-332.5\" stroke=\"#000000\"/>\n<text fill=\"#000000\" font-family=\"Times,serif\" font-size=\"14.00\" text-anchor=\"middle\" x=\"506\" y=\"-351.8\">input_2: InputLayer</text>\n<polyline fill=\"none\" points=\"572.5,-332.5 572.5,-378.5 \" stroke=\"#000000\"/>\n<text fill=\"#000000\" font-family=\"Times,serif\" font-size=\"14.00\" text-anchor=\"middle\" x=\"601.5\" y=\"-363.3\">input:</text>\n<polyline fill=\"none\" points=\"572.5,-355.5 630.5,-355.5 \" stroke=\"#000000\"/>\n<text fill=\"#000000\" font-family=\"Times,serif\" font-size=\"14.00\" text-anchor=\"middle\" x=\"601.5\" y=\"-340.3\">output:</text>\n<polyline fill=\"none\" points=\"630.5,-332.5 630.5,-378.5 \" stroke=\"#000000\"/>\n<text fill=\"#000000\" font-family=\"Times,serif\" font-size=\"14.00\" text-anchor=\"middle\" x=\"666.5\" y=\"-363.3\">(None, 1)</text>\n<polyline fill=\"none\" points=\"630.5,-355.5 702.5,-355.5 \" stroke=\"#000000\"/>\n<text fill=\"#000000\" font-family=\"Times,serif\" font-size=\"14.00\" text-anchor=\"middle\" x=\"666.5\" y=\"-340.3\">(None, 1)</text>\n</g>\n<!-- 139712185305856 -->\n<g class=\"node\" id=\"node4\">\n<title>139712185305856</title>\n<polygon fill=\"none\" points=\"382,-249.5 382,-295.5 760,-295.5 760,-249.5 382,-249.5\" stroke=\"#000000\"/>\n<text fill=\"#000000\" font-family=\"Times,serif\" font-size=\"14.00\" text-anchor=\"middle\" x=\"491\" y=\"-268.8\">Context_embed_layer: Embedding</text>\n<polyline fill=\"none\" points=\"600,-249.5 600,-295.5 \" stroke=\"#000000\"/>\n<text fill=\"#000000\" font-family=\"Times,serif\" font-size=\"14.00\" text-anchor=\"middle\" x=\"629\" y=\"-280.3\">input:</text>\n<polyline fill=\"none\" points=\"600,-272.5 658,-272.5 \" stroke=\"#000000\"/>\n<text fill=\"#000000\" font-family=\"Times,serif\" font-size=\"14.00\" text-anchor=\"middle\" x=\"629\" y=\"-257.3\">output:</text>\n<polyline fill=\"none\" points=\"658,-249.5 658,-295.5 \" stroke=\"#000000\"/>\n<text fill=\"#000000\" font-family=\"Times,serif\" font-size=\"14.00\" text-anchor=\"middle\" x=\"709\" y=\"-280.3\">(None, 1)</text>\n<polyline fill=\"none\" points=\"658,-272.5 760,-272.5 \" stroke=\"#000000\"/>\n<text fill=\"#000000\" font-family=\"Times,serif\" font-size=\"14.00\" text-anchor=\"middle\" x=\"709\" y=\"-257.3\">(None, 1, 100)</text>\n</g>\n<!-- 139712185305968&#45;&gt;139712185305856 -->\n<g class=\"edge\" id=\"edge2\">\n<title>139712185305968-&gt;139712185305856</title>\n<path d=\"M571,-332.3799C571,-324.1745 571,-314.7679 571,-305.8786\" fill=\"none\" stroke=\"#000000\"/>\n<polygon fill=\"#000000\" points=\"574.5001,-305.784 571,-295.784 567.5001,-305.784 574.5001,-305.784\" stroke=\"#000000\"/>\n</g>\n<!-- 139712185360960 -->\n<g class=\"node\" id=\"node5\">\n<title>139712185360960</title>\n<polygon fill=\"none\" points=\"77,-166.5 77,-212.5 367,-212.5 367,-166.5 77,-166.5\" stroke=\"#000000\"/>\n<text fill=\"#000000\" font-family=\"Times,serif\" font-size=\"14.00\" text-anchor=\"middle\" x=\"142\" y=\"-185.8\">reshape_1: Reshape</text>\n<polyline fill=\"none\" points=\"207,-166.5 207,-212.5 \" stroke=\"#000000\"/>\n<text fill=\"#000000\" font-family=\"Times,serif\" font-size=\"14.00\" text-anchor=\"middle\" x=\"236\" y=\"-197.3\">input:</text>\n<polyline fill=\"none\" points=\"207,-189.5 265,-189.5 \" stroke=\"#000000\"/>\n<text fill=\"#000000\" font-family=\"Times,serif\" font-size=\"14.00\" text-anchor=\"middle\" x=\"236\" y=\"-174.3\">output:</text>\n<polyline fill=\"none\" points=\"265,-166.5 265,-212.5 \" stroke=\"#000000\"/>\n<text fill=\"#000000\" font-family=\"Times,serif\" font-size=\"14.00\" text-anchor=\"middle\" x=\"316\" y=\"-197.3\">(None, 1, 100)</text>\n<polyline fill=\"none\" points=\"265,-189.5 367,-189.5 \" stroke=\"#000000\"/>\n<text fill=\"#000000\" font-family=\"Times,serif\" font-size=\"14.00\" text-anchor=\"middle\" x=\"316\" y=\"-174.3\">(None, 100)</text>\n</g>\n<!-- 139712172236472&#45;&gt;139712185360960 -->\n<g class=\"edge\" id=\"edge3\">\n<title>139712172236472-&gt;139712185360960</title>\n<path d=\"M193.1422,-249.3799C197.2256,-240.907 201.9262,-231.1531 206.3322,-222.0107\" fill=\"none\" stroke=\"#000000\"/>\n<polygon fill=\"#000000\" points=\"209.5903,-223.312 210.7788,-212.784 203.2844,-220.2729 209.5903,-223.312\" stroke=\"#000000\"/>\n</g>\n<!-- 139711929000176 -->\n<g class=\"node\" id=\"node6\">\n<title>139711929000176</title>\n<polygon fill=\"none\" points=\"405,-166.5 405,-212.5 695,-212.5 695,-166.5 405,-166.5\" stroke=\"#000000\"/>\n<text fill=\"#000000\" font-family=\"Times,serif\" font-size=\"14.00\" text-anchor=\"middle\" x=\"470\" y=\"-185.8\">reshape_2: Reshape</text>\n<polyline fill=\"none\" points=\"535,-166.5 535,-212.5 \" stroke=\"#000000\"/>\n<text fill=\"#000000\" font-family=\"Times,serif\" font-size=\"14.00\" text-anchor=\"middle\" x=\"564\" y=\"-197.3\">input:</text>\n<polyline fill=\"none\" points=\"535,-189.5 593,-189.5 \" stroke=\"#000000\"/>\n<text fill=\"#000000\" font-family=\"Times,serif\" font-size=\"14.00\" text-anchor=\"middle\" x=\"564\" y=\"-174.3\">output:</text>\n<polyline fill=\"none\" points=\"593,-166.5 593,-212.5 \" stroke=\"#000000\"/>\n<text fill=\"#000000\" font-family=\"Times,serif\" font-size=\"14.00\" text-anchor=\"middle\" x=\"644\" y=\"-197.3\">(None, 1, 100)</text>\n<polyline fill=\"none\" points=\"593,-189.5 695,-189.5 \" stroke=\"#000000\"/>\n<text fill=\"#000000\" font-family=\"Times,serif\" font-size=\"14.00\" text-anchor=\"middle\" x=\"644\" y=\"-174.3\">(None, 100)</text>\n</g>\n<!-- 139712185305856&#45;&gt;139711929000176 -->\n<g class=\"edge\" id=\"edge4\">\n<title>139712185305856-&gt;139711929000176</title>\n<path d=\"M565.1503,-249.3799C563.0517,-241.0854 560.6425,-231.5633 558.3719,-222.5889\" fill=\"none\" stroke=\"#000000\"/>\n<polygon fill=\"#000000\" points=\"561.7371,-221.62 555.8911,-212.784 554.951,-223.337 561.7371,-221.62\" stroke=\"#000000\"/>\n</g>\n<!-- 139712172236192 -->\n<g class=\"node\" id=\"node7\">\n<title>139712172236192</title>\n<polygon fill=\"none\" points=\"220,-83.5 220,-129.5 532,-129.5 532,-83.5 220,-83.5\" stroke=\"#000000\"/>\n<text fill=\"#000000\" font-family=\"Times,serif\" font-size=\"14.00\" text-anchor=\"middle\" x=\"260\" y=\"-102.8\">dot_1: Dot</text>\n<polyline fill=\"none\" points=\"300,-83.5 300,-129.5 \" stroke=\"#000000\"/>\n<text fill=\"#000000\" font-family=\"Times,serif\" font-size=\"14.00\" text-anchor=\"middle\" x=\"329\" y=\"-114.3\">input:</text>\n<polyline fill=\"none\" points=\"300,-106.5 358,-106.5 \" stroke=\"#000000\"/>\n<text fill=\"#000000\" font-family=\"Times,serif\" font-size=\"14.00\" text-anchor=\"middle\" x=\"329\" y=\"-91.3\">output:</text>\n<polyline fill=\"none\" points=\"358,-83.5 358,-129.5 \" stroke=\"#000000\"/>\n<text fill=\"#000000\" font-family=\"Times,serif\" font-size=\"14.00\" text-anchor=\"middle\" x=\"445\" y=\"-114.3\">[(None, 100), (None, 100)]</text>\n<polyline fill=\"none\" points=\"358,-106.5 532,-106.5 \" stroke=\"#000000\"/>\n<text fill=\"#000000\" font-family=\"Times,serif\" font-size=\"14.00\" text-anchor=\"middle\" x=\"445\" y=\"-91.3\">(None, 1)</text>\n</g>\n<!-- 139712185360960&#45;&gt;139712172236192 -->\n<g class=\"edge\" id=\"edge5\">\n<title>139712185360960-&gt;139712172236192</title>\n<path d=\"M264.8976,-166.3799C283.2602,-156.4832 304.8653,-144.8388 324.1178,-134.4625\" fill=\"none\" stroke=\"#000000\"/>\n<polygon fill=\"#000000\" points=\"325.9233,-137.4654 333.0656,-129.6399 322.6022,-131.3034 325.9233,-137.4654\" stroke=\"#000000\"/>\n</g>\n<!-- 139711929000176&#45;&gt;139712172236192 -->\n<g class=\"edge\" id=\"edge6\">\n<title>139711929000176-&gt;139712172236192</title>\n<path d=\"M501.5313,-166.3799C480.5023,-156.3488 455.7095,-144.5224 433.7358,-134.0406\" fill=\"none\" stroke=\"#000000\"/>\n<polygon fill=\"#000000\" points=\"435.0429,-130.7864 424.5103,-129.6399 432.0291,-137.1044 435.0429,-130.7864\" stroke=\"#000000\"/>\n</g>\n<!-- 139712172233616 -->\n<g class=\"node\" id=\"node8\">\n<title>139712172233616</title>\n<polygon fill=\"none\" points=\"257.5,-.5 257.5,-46.5 494.5,-46.5 494.5,-.5 257.5,-.5\" stroke=\"#000000\"/>\n<text fill=\"#000000\" font-family=\"Times,serif\" font-size=\"14.00\" text-anchor=\"middle\" x=\"311\" y=\"-19.8\">dense_1: Dense</text>\n<polyline fill=\"none\" points=\"364.5,-.5 364.5,-46.5 \" stroke=\"#000000\"/>\n<text fill=\"#000000\" font-family=\"Times,serif\" font-size=\"14.00\" text-anchor=\"middle\" x=\"393.5\" y=\"-31.3\">input:</text>\n<polyline fill=\"none\" points=\"364.5,-23.5 422.5,-23.5 \" stroke=\"#000000\"/>\n<text fill=\"#000000\" font-family=\"Times,serif\" font-size=\"14.00\" text-anchor=\"middle\" x=\"393.5\" y=\"-8.3\">output:</text>\n<polyline fill=\"none\" points=\"422.5,-.5 422.5,-46.5 \" stroke=\"#000000\"/>\n<text fill=\"#000000\" font-family=\"Times,serif\" font-size=\"14.00\" text-anchor=\"middle\" x=\"458.5\" y=\"-31.3\">(None, 1)</text>\n<polyline fill=\"none\" points=\"422.5,-23.5 494.5,-23.5 \" stroke=\"#000000\"/>\n<text fill=\"#000000\" font-family=\"Times,serif\" font-size=\"14.00\" text-anchor=\"middle\" x=\"458.5\" y=\"-8.3\">(None, 1)</text>\n</g>\n<!-- 139712172236192&#45;&gt;139712172233616 -->\n<g class=\"edge\" id=\"edge7\">\n<title>139712172236192-&gt;139712172233616</title>\n<path d=\"M376,-83.3799C376,-75.1745 376,-65.7679 376,-56.8786\" fill=\"none\" stroke=\"#000000\"/>\n<polygon fill=\"#000000\" points=\"379.5001,-56.784 376,-46.784 372.5001,-56.784 379.5001,-56.784\" stroke=\"#000000\"/>\n</g>\n</g>\n</svg>"
          },
          "metadata": {
            "tags": []
          },
          "execution_count": 15
        }
      ]
    },
    {
      "cell_type": "markdown",
      "metadata": {
        "id": "nd_FGb2ajopj",
        "colab_type": "text"
      },
      "source": [
        "**6. TRAINING THE MODEL**"
      ]
    },
    {
      "cell_type": "code",
      "metadata": {
        "id": "DvJ8THn9jrHs",
        "colab_type": "code",
        "colab": {
          "base_uri": "https://localhost:8080/",
          "height": 810
        },
        "outputId": "239bd878-71da-4840-e00c-597afb3185a6"
      },
      "source": [
        "import numpy as np\n",
        "for epoch in range(1, 6):\n",
        "  epoch_loss = 0\n",
        "# in each epoch, train all the sentences, one per iteration=> batch_size = num_sents\n",
        "  for i, sent_examples in enumerate(skip_grams):\n",
        "    target_wds = np.array([pair[0] for pair in sent_examples[0]], dtype='int32')\n",
        "    context_wds = np.array([pair[1] for pair in sent_examples[0]], dtype='int32')\n",
        "    labels = np.array(sent_examples[1], dtype='int32')\n",
        "    X = [target_wds, context_wds]\n",
        "    Y = labels\n",
        "    if i % 5000 == 0: # after 5000 sentences i.e. 5000 iterations\n",
        "      print('Processed %d sentences' %i)\n",
        "    epoch_loss += model.train_on_batch(X, Y)\n",
        "  print('Processed all %d sentences' %i)\n",
        "  print('Epoch:', epoch, 'Loss:', epoch_loss, '\\n')"
      ],
      "execution_count": 16,
      "outputs": [
        {
          "output_type": "stream",
          "text": [
            "Processed 0 sentences\n",
            "WARNING:tensorflow:From /usr/local/lib/python3.6/dist-packages/keras/backend/tensorflow_backend.py:1033: The name tf.assign_add is deprecated. Please use tf.compat.v1.assign_add instead.\n",
            "\n",
            "WARNING:tensorflow:From /usr/local/lib/python3.6/dist-packages/keras/backend/tensorflow_backend.py:1020: The name tf.assign is deprecated. Please use tf.compat.v1.assign instead.\n",
            "\n",
            "WARNING:tensorflow:From /usr/local/lib/python3.6/dist-packages/keras/backend/tensorflow_backend.py:3005: The name tf.Session is deprecated. Please use tf.compat.v1.Session instead.\n",
            "\n",
            "WARNING:tensorflow:From /usr/local/lib/python3.6/dist-packages/keras/backend/tensorflow_backend.py:190: The name tf.get_default_session is deprecated. Please use tf.compat.v1.get_default_session instead.\n",
            "\n",
            "WARNING:tensorflow:From /usr/local/lib/python3.6/dist-packages/keras/backend/tensorflow_backend.py:197: The name tf.ConfigProto is deprecated. Please use tf.compat.v1.ConfigProto instead.\n",
            "\n",
            "WARNING:tensorflow:From /usr/local/lib/python3.6/dist-packages/keras/backend/tensorflow_backend.py:207: The name tf.global_variables is deprecated. Please use tf.compat.v1.global_variables instead.\n",
            "\n",
            "WARNING:tensorflow:From /usr/local/lib/python3.6/dist-packages/keras/backend/tensorflow_backend.py:216: The name tf.is_variable_initialized is deprecated. Please use tf.compat.v1.is_variable_initialized instead.\n",
            "\n",
            "WARNING:tensorflow:From /usr/local/lib/python3.6/dist-packages/keras/backend/tensorflow_backend.py:223: The name tf.variables_initializer is deprecated. Please use tf.compat.v1.variables_initializer instead.\n",
            "\n",
            "Processed 5000 sentences\n",
            "Processed 10000 sentences\n",
            "Processed all 13926 sentences\n",
            "Epoch: 1 Loss: 2385.555643208325 \n",
            "\n",
            "Processed 0 sentences\n",
            "Processed 5000 sentences\n",
            "Processed 10000 sentences\n",
            "Processed all 13926 sentences\n",
            "Epoch: 2 Loss: 1953.0433087092824 \n",
            "\n",
            "Processed 0 sentences\n",
            "Processed 5000 sentences\n",
            "Processed 10000 sentences\n",
            "Processed all 13926 sentences\n",
            "Epoch: 3 Loss: 1872.2284584676381 \n",
            "\n",
            "Processed 0 sentences\n",
            "Processed 5000 sentences\n",
            "Processed 10000 sentences\n",
            "Processed all 13926 sentences\n",
            "Epoch: 4 Loss: 1828.892881149426 \n",
            "\n",
            "Processed 0 sentences\n",
            "Processed 5000 sentences\n",
            "Processed 10000 sentences\n",
            "Processed all 13926 sentences\n",
            "Epoch: 5 Loss: 1804.5949646137888 \n",
            "\n"
          ],
          "name": "stdout"
        }
      ]
    },
    {
      "cell_type": "markdown",
      "metadata": {
        "id": "I7uWyscnkBP6",
        "colab_type": "text"
      },
      "source": [
        "**7. GETTING WORD EMBEDDINGS**"
      ]
    },
    {
      "cell_type": "code",
      "metadata": {
        "id": "bDkkMRMgkE7L",
        "colab_type": "code",
        "colab": {
          "base_uri": "https://localhost:8080/",
          "height": 252
        },
        "outputId": "2147aa8a-fb97-47ea-a68a-8c0c253d5a8f"
      },
      "source": [
        "word_embeddings = model.get_layer('target_embed_layer').get_weights()[0][1:] # Recall that 0 was left for padding\n",
        "print(word_embeddings.shape)\n",
        "from pandas import DataFrame\n",
        "print(DataFrame(word_embeddings, index=idx2word.values()).head(10))\n"
      ],
      "execution_count": 24,
      "outputs": [
        {
          "output_type": "stream",
          "text": [
            "(10098, 100)\n",
            "             0         1         2   ...        97        98        99\n",
            "could -0.065566  0.241294  0.177027  ... -0.215455  0.088242  0.014046\n",
            "would  0.064859  0.099706  0.009521  ...  0.003234 -0.104908  0.173007\n",
            "mr     0.044055 -0.049779  0.085150  ... -0.243489 -0.147880  0.139317\n",
            "mrs   -0.048754  0.068824 -0.007522  ... -0.187436 -0.081103  0.091996\n",
            "must  -0.078067  0.014599  0.068045  ...  0.085418  0.178090  0.095712\n",
            "said   0.094996  0.139068  0.039910  ... -0.264173 -0.187151  0.107189\n",
            "one    0.115744 -0.019627  0.181293  ... -0.166394 -0.041761 -0.212671\n",
            "much   0.028916 -0.016565  0.025584  ...  0.105369 -0.084623  0.158464\n",
            "miss   0.121249 -0.084069 -0.180322  ... -0.108279 -0.146325  0.099114\n",
            "every -0.186453  0.009653  0.107580  ...  0.175436 -0.171226  0.019069\n",
            "\n",
            "[10 rows x 100 columns]\n"
          ],
          "name": "stdout"
        }
      ]
    },
    {
      "cell_type": "markdown",
      "metadata": {
        "id": "83eTJP4ukOPP",
        "colab_type": "text"
      },
      "source": [
        "**8. MEASURING SIMILARITY BETWEEN WORD PAIRS**"
      ]
    },
    {
      "cell_type": "code",
      "metadata": {
        "id": "xtyCoo8IkSbU",
        "colab_type": "code",
        "colab": {
          "base_uri": "https://localhost:8080/",
          "height": 34
        },
        "outputId": "d4b3409f-14c2-4f77-bc32-f572925a9f8c"
      },
      "source": [
        "from sklearn.metrics.pairwise import cosine_similarity\n",
        "similarity_matrix = cosine_similarity(word_embeddings)\n",
        "print(similarity_matrix.shape)"
      ],
      "execution_count": 26,
      "outputs": [
        {
          "output_type": "stream",
          "text": [
            "(10098, 10098)\n"
          ],
          "name": "stdout"
        }
      ]
    },
    {
      "cell_type": "markdown",
      "metadata": {
        "id": "QnO0KbaRkdsK",
        "colab_type": "text"
      },
      "source": [
        "**9. VISUALISE WORD EMBEDDINGS USING t-SNE**"
      ]
    },
    {
      "cell_type": "code",
      "metadata": {
        "id": "M1r7R9ATkjYV",
        "colab_type": "code",
        "colab": {}
      },
      "source": [
        "search_items = ['man', 'love', 'hatred', 'woman', 'wisdom', 'kindness', 'god', 'man', 'folly', 'fool']\n",
        "# Get the 5 words most similar to the search terms\n",
        "similar_words = {term: [idx2word[idx]\n",
        "for idx in (-1 * similarity_matrix[word2idx[term]-1]).argsort()[1:6] + 1] for term in search_items}"
      ],
      "execution_count": 0,
      "outputs": []
    },
    {
      "cell_type": "code",
      "metadata": {
        "id": "FxtkzTpUksAq",
        "colab_type": "code",
        "colab": {
          "base_uri": "https://localhost:8080/",
          "height": 503
        },
        "outputId": "38403777-1423-4cda-8978-e4a457ab8667"
      },
      "source": [
        ">>> from sklearn.manifold import TSNE\n",
        ">>> import matplotlib.pyplot as plt\n",
        ">>> tsne = TSNE(perplexity=3, n_components=2, init='pca', n_iter=5000, method='exact')\n",
        ">>> np.set_printoptions(suppress=True)\n",
        ">>> plot_only = 50\n",
        ">>> T = tsne.fit_transform(word_embeddings[:plot_only, :])\n",
        ">>> labels = [idx2word[i+1] for i in range(plot_only)]\n",
        ">>> plt.figure(figsize=(14, 8))\n",
        ">>> plt.scatter(T[:, 0], T[:, 1])\n",
        ">>> for label, x, y in zip(labels, T[:, 0], T[:, 1]):\n",
        "      plt.annotate(label, xy=(x+1, y+1), xytext=(0, 0), textcoords='offset points', ha='right', va='bottom')\n"
      ],
      "execution_count": 31,
      "outputs": [
        {
          "output_type": "display_data",
          "data": {
            "image/png": "[encoded data removed]",
            "text/plain": [
              "<Figure size 1008x576 with 1 Axes>"
            ]
          },
          "metadata": {
            "tags": []
          }
        }
      ]
    }
  ]
}