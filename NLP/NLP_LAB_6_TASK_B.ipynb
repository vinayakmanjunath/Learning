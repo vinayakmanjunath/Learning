{
  "nbformat": 4,
  "nbformat_minor": 0,
  "metadata": {
    "kernelspec": {
      "display_name": "Python 3",
      "language": "python",
      "name": "python3"
    },
    "language_info": {
      "codemirror_mode": {
        "name": "ipython",
        "version": 3
      },
      "file_extension": ".py",
      "mimetype": "text/x-python",
      "name": "python",
      "nbconvert_exporter": "python",
      "pygments_lexer": "ipython3",
      "version": "3.6.10"
    },
    "colab": {
      "name": "LAB6_TASK_B.ipynb",
      "provenance": []
    }
  },
  "cells": [
    {
      "cell_type": "code",
      "metadata": {
        "id": "nYHtu_zB_KAL",
        "colab_type": "code",
        "colab": {
          "base_uri": "https://localhost:8080/",
          "height": 185
        },
        "outputId": "ec3742f1-59f3-4c82-9e28-d5cca0c7c906"
      },
      "source": [
        "!pip install emoji"
      ],
      "execution_count": 5,
      "outputs": [
        {
          "output_type": "stream",
          "text": [
            "Collecting emoji\n",
            "\u001b[?25l  Downloading https://files.pythonhosted.org/packages/40/8d/521be7f0091fe0f2ae690cc044faf43e3445e0ff33c574eae752dd7e39fa/emoji-0.5.4.tar.gz (43kB)\n",
            "\r\u001b[K     |███████▌                        | 10kB 17.8MB/s eta 0:00:01\r\u001b[K     |███████████████                 | 20kB 3.3MB/s eta 0:00:01\r\u001b[K     |██████████████████████▋         | 30kB 4.7MB/s eta 0:00:01\r\u001b[K     |██████████████████████████████▏ | 40kB 6.1MB/s eta 0:00:01\r\u001b[K     |████████████████████████████████| 51kB 2.7MB/s \n",
            "\u001b[?25hBuilding wheels for collected packages: emoji\n",
            "  Building wheel for emoji (setup.py) ... \u001b[?25l\u001b[?25hdone\n",
            "  Created wheel for emoji: filename=emoji-0.5.4-cp36-none-any.whl size=42176 sha256=9a39d645d2514dce9e0cbf928571a011a0d78dc7d64442e5f6cabf04e7525702\n",
            "  Stored in directory: /root/.cache/pip/wheels/2a/a9/0a/4f8e8cce8074232aba240caca3fade315bb49fac68808d1a9c\n",
            "Successfully built emoji\n",
            "Installing collected packages: emoji\n",
            "Successfully installed emoji-0.5.4\n"
          ],
          "name": "stdout"
        }
      ]
    },
    {
      "cell_type": "code",
      "metadata": {
        "id": "uhJduOzM-5f9",
        "colab_type": "code",
        "colab": {}
      },
      "source": [
        "import string #preprocess\n",
        "import csv   #reading files\n",
        "import emoji #to convert emojis to words using demojize function\n",
        "import keras\n",
        "\n",
        "#preprocess function\n",
        "import string\n",
        "def preprocess(list_of_tweets):\n",
        "  normalised_corpus =[]\n",
        "  for tweet in list_of_tweets:\n",
        "    words =[]\n",
        "    for word in tweet:\n",
        "      word = word.lower()\n",
        "      word = word.strip(string.punctuation)\n",
        "      word = word.strip(string.digits)\n",
        "      if word not in string.punctuation and word != \"url\": \n",
        "        words.append(word)\n",
        "    normalised_corpus.append(words)\n",
        "  return normalised_corpus  "
      ],
      "execution_count": 0,
      "outputs": []
    },
    {
      "cell_type": "code",
      "metadata": {
        "id": "c6fvoMIC-5gD",
        "colab_type": "code",
        "colab": {}
      },
      "source": [
        ""
      ],
      "execution_count": 0,
      "outputs": []
    },
    {
      "cell_type": "code",
      "metadata": {
        "id": "y6_5OGu5-5gG",
        "colab_type": "code",
        "colab": {}
      },
      "source": [
        "#getting train data\n",
        "from keras.preprocessing.text import Tokenizer\n",
        "raw_data =[] #stores all contents of tsv file as list of list [[id,tweet,A,B,C],[...]]\n",
        "with open(\"olid-training-v1.0.tsv\",encoding='UTF-8') as fd:\n",
        "    rd = csv.reader(fd, delimiter=\"\\t\", quotechar='\"')\n",
        "    for row in rd:\n",
        "        raw_data.append(row)\n",
        "\n",
        "raw_data.remove(raw_data[0]) #remove first list item since it contains headers\n",
        "\n",
        "#converts emoji to words and converts each tweet from string to list of words\n",
        "raw_tweets = []\n",
        "for tweet in raw_data:\n",
        "  tweet[1] = emoji.demojize(tweet[1])\n",
        "  temp = tweet[1].split()\n",
        "  raw_tweets.append(temp)\n",
        "\n",
        " #convert to lower, remove punctuation and digits and words like 'user' and 'url' \n",
        "clean_tweets = preprocess(raw_tweets)\n",
        "\n",
        "num_words=20000  #optional UNIQUE WORDS around 22156\n",
        "tokenizer = Tokenizer()\n",
        "tokenizer.fit_on_texts(clean_tweets)\n",
        "\n",
        "word2idx = tokenizer.word_index\n",
        "idx2word = tokenizer.index_word\n",
        "sents_as_ids = tokenizer.texts_to_sequences(clean_tweets)\n",
        "\n",
        "\n",
        "from keras.preprocessing.sequence import pad_sequences\n",
        "MAXIMUM_LENGTH = 30 #checking\n",
        "processed_train_data = pad_sequences(sents_as_ids,MAXIMUM_LENGTH,truncating='post')\n"
      ],
      "execution_count": 0,
      "outputs": []
    },
    {
      "cell_type": "code",
      "metadata": {
        "id": "IWRtmsSt-5gK",
        "colab_type": "code",
        "colab": {}
      },
      "source": [
        "# GETTING ALL THE LABELS\n",
        "train_labels_A = [tweet[2] for tweet in raw_data ]\n",
        "train_labels_B = [tweet[3] for tweet in raw_data ]\n",
        "train_labels_C = [tweet[4] for tweet in raw_data ]\n",
        "combined_train_labels = []  #combining all labels \n",
        "\n",
        "#print(train_labels_A)\n",
        "preprocessed_label_A = []\n",
        "for labelA in train_labels_A:\n",
        "  if labelA ==\"OFF\":\n",
        "    preprocessed_label_A.append(1)\n",
        "  else:\n",
        "    preprocessed_label_A.append(0)\n",
        "\n",
        "for i in range(len(train_labels_A)):\n",
        "  if train_labels_A[i] ==\"OFF\":\n",
        "    if train_labels_C[i] !=\"NULL\":\n",
        "      temp = train_labels_A[i] + train_labels_B[i] + train_labels_C[i] \n",
        "    else:\n",
        "      temp = train_labels_A[i] + train_labels_B[i]\n",
        "  else:\n",
        "    temp = train_labels_A[i]\n",
        "  combined_train_labels.append(temp)\n",
        "\n",
        "#sanity check\n",
        "#print(\"first 10 combined train labels: \",combined_train_labels[:10])\n",
        "\n",
        "unique_labels = {}\n",
        "count =0\n",
        "for label in combined_train_labels:\n",
        "  if label not in unique_labels.keys():\n",
        "    unique_labels[label] = count\n",
        "    count+=1\n",
        "\n",
        "#print(unique_labels)\n",
        "\n",
        "labels_to_ids = []\n",
        "\n",
        "for label in combined_train_labels:\n",
        "  labels_to_ids.append(unique_labels[label])\n"
      ],
      "execution_count": 0,
      "outputs": []
    },
    {
      "cell_type": "code",
      "metadata": {
        "id": "sxzvsl_K-5gN",
        "colab_type": "code",
        "colab": {
          "base_uri": "https://localhost:8080/",
          "height": 202
        },
        "outputId": "e3bf6bfb-42a7-4386-e77b-245a69938507"
      },
      "source": [
        "#CONVERTS ALL LABELS TO ONE HOT ENCODING [1,0,0,0,0] for all 5 classes\n",
        "from sklearn.preprocessing import LabelEncoder\n",
        "from keras.utils import np_utils\n",
        "encoder = LabelEncoder()\n",
        "encoder.fit(labels_to_ids)\n",
        "encoded_Y = encoder.transform(labels_to_ids)\n",
        "# convert integers to dummy variables (i.e. one hot encoded)\n",
        "processed_train_labels = np_utils.to_categorical(encoded_Y)\n",
        "print(\"one hot encoded train labels \\n \",processed_train_labels[:10])"
      ],
      "execution_count": 9,
      "outputs": [
        {
          "output_type": "stream",
          "text": [
            "one hot encoded train labels \n",
            "  [[1. 0. 0. 0. 0.]\n",
            " [0. 1. 0. 0. 0.]\n",
            " [0. 0. 1. 0. 0.]\n",
            " [1. 0. 0. 0. 0.]\n",
            " [0. 0. 1. 0. 0.]\n",
            " [0. 0. 0. 1. 0.]\n",
            " [1. 0. 0. 0. 0.]\n",
            " [0. 0. 0. 0. 1.]\n",
            " [0. 0. 1. 0. 0.]\n",
            " [0. 1. 0. 0. 0.]]\n"
          ],
          "name": "stdout"
        }
      ]
    },
    {
      "cell_type": "code",
      "metadata": {
        "id": "XOnEjC1P-5gP",
        "colab_type": "code",
        "colab": {}
      },
      "source": [
        "VOCAB_SIZE = len(word2idx)+1  # 0 saved for padding so we add 1\n",
        "EMBD_SIZE =100\n",
        "output = len(unique_labels.keys())\n",
        "model2 = keras.Sequential()\n",
        "model2.add(keras.layers.Embedding(VOCAB_SIZE,EMBD_SIZE))\n",
        "model2.add(keras.layers.Dropout(rate=0.5))\n",
        "model2.add(keras.layers.LSTM(units=100,activation='tanh'))\n",
        "model2.add(keras.layers.Dropout(0.3))\n",
        "model2.add(keras.layers.Dense(output,activation='softmax'))\n",
        "model2.compile(loss='categorical_crossentropy',optimizer='adam',metrics=['accuracy'])"
      ],
      "execution_count": 0,
      "outputs": []
    },
    {
      "cell_type": "code",
      "metadata": {
        "id": "xLYBUQvT-5gS",
        "colab_type": "code",
        "colab": {
          "base_uri": "https://localhost:8080/",
          "height": 134
        },
        "outputId": "b26ceb5d-ead2-4d1a-b8dc-819b8d02100b"
      },
      "source": [
        "partial_train_dataABC = processed_train_data[:10240]\n",
        "partial_val_dataABC = processed_train_data[10240:]\n",
        "\n",
        "partial_train_labels_ABC = processed_train_labels[:10240]\n",
        "partial_val_labels_ABC = processed_train_labels[10240:]\n",
        "\n",
        "history = model2.fit(partial_train_dataABC,partial_train_labels_ABC,batch_size=100,\n",
        "            epochs=3,validation_data=(partial_val_dataABC,partial_val_labels_ABC),verbose=1)\n"
      ],
      "execution_count": 80,
      "outputs": [
        {
          "output_type": "stream",
          "text": [
            "Train on 10240 samples, validate on 3000 samples\n",
            "Epoch 1/3\n",
            "10240/10240 [==============================] - 15s 1ms/step - loss: 1.0745 - acc: 0.6562 - val_loss: 0.9818 - val_acc: 0.6683\n",
            "Epoch 2/3\n",
            "10240/10240 [==============================] - 11s 1ms/step - loss: 0.9072 - acc: 0.6826 - val_loss: 0.8874 - val_acc: 0.6873\n",
            "Epoch 3/3\n",
            "10240/10240 [==============================] - 11s 1ms/step - loss: 0.7037 - acc: 0.7530 - val_loss: 0.8959 - val_acc: 0.6983\n"
          ],
          "name": "stdout"
        }
      ]
    },
    {
      "cell_type": "code",
      "metadata": {
        "id": "w7BOyiR8_nr-",
        "colab_type": "code",
        "colab": {
          "base_uri": "https://localhost:8080/",
          "height": 295
        },
        "outputId": "dc868694-c0e8-4180-f9df-8545704380fc"
      },
      "source": [
        "# PLOT of train and validation accuracy\n",
        "import matplotlib.pyplot as plt\n",
        "\n",
        "history_dict = history.history\n",
        "\n",
        "acc = history_dict['acc']\n",
        "val_acc = history_dict['val_acc']\n",
        "loss = history_dict['loss']\n",
        "val_loss = history_dict['val_loss']\n",
        "\n",
        "epochs = range(1, len(acc) + 1)\n",
        "\n",
        "plt.plot(epochs, acc, 'bo', label='Training acc')\n",
        "plt.plot(epochs, val_acc, 'b', label='Validation acc')\n",
        "plt.title('Training and validation accuracy')\n",
        "plt.xlabel('Epochs')\n",
        "plt.ylabel('Accuracy')\n",
        "plt.legend()\n",
        "\n",
        "plt.show()"
      ],
      "execution_count": 81,
      "outputs": [
        {
          "output_type": "display_data",
          "data": {
            "image/png": "[encoded data removed]",
            "text/plain": [
              "<Figure size 432x288 with 1 Axes>"
            ]
          },
          "metadata": {
            "tags": []
          }
        }
      ]
    },
    {
      "cell_type": "code",
      "metadata": {
        "id": "_Fgl3OnV-5gV",
        "colab_type": "code",
        "colab": {}
      },
      "source": [
        "#GET RAW TEST DATA AND CONVERT TO DICTIONERY WITH KEY (ID AS INT) AND VALUE =TWEET \n",
        "raw_test_data =[]\n",
        "\n",
        "with open(\"testset-levela.tsv\",encoding='UTF-8') as fd:\n",
        "    rd = csv.reader(fd, delimiter=\"\\t\", quotechar='\"')\n",
        "    for row in rd:\n",
        "        raw_test_data.append(row)\n",
        "        \n",
        "raw_test_data.remove(raw_test_data[0]) #remove first element since it contains headers       \n",
        "\n",
        "raw_test_data_dict =dict(raw_test_data)\n",
        "raw_test_data_dict = {int(k) : v for k,v in raw_test_data_dict.items()}\n"
      ],
      "execution_count": 0,
      "outputs": []
    },
    {
      "cell_type": "code",
      "metadata": {
        "id": "gOKntR93-5gX",
        "colab_type": "code",
        "colab": {}
      },
      "source": [
        "#processing the test labels\n",
        "#converting labels to key value pairs\n",
        "def get_test_labels(path):\n",
        "  raw_test_labels =[]\n",
        "  with open(path) as fd:\n",
        "    rd = csv.reader(fd, delimiter=\"\\t\", quotechar='\"')\n",
        "    for row in rd:\n",
        "        raw_test_labels.append(row)\n",
        "  temp_test_labels = [labels[0].split(',') for labels in raw_test_labels]\n",
        "  return temp_test_labels\n",
        "\n",
        "#get labels with IDs\n",
        "test_labels_A = get_test_labels('labels-levela.csv')\n",
        "test_labels_B = get_test_labels('labels-levelb.csv')\n",
        "test_labels_C = get_test_labels('labels-levelc.csv')\n",
        "\n",
        "dict1 =dict(test_labels_A)\n",
        "dict1 = {int(k) : v for k,v in dict1.items()}\n",
        "dict2 =dict(test_labels_B)\n",
        "dict2 = {int(k) : v for k,v in dict2.items()}\n",
        "dict3 =dict(test_labels_C)\n",
        "dict3 = {int(k) : v for k,v in dict3.items()}\n"
      ],
      "execution_count": 0,
      "outputs": []
    },
    {
      "cell_type": "code",
      "metadata": {
        "id": "NHWzuIGl-5gZ",
        "colab_type": "code",
        "colab": {
          "base_uri": "https://localhost:8080/",
          "height": 218
        },
        "outputId": "08ac0be8-9c8d-4192-8e78-24477bd4f5c7"
      },
      "source": [
        "from keras.preprocessing.sequence import pad_sequences\n",
        "#this list will store tweet and corrosponding concatenated labels so its a list of list containing tweet and label\n",
        "combined_test_data = [] \n",
        "for key in raw_test_data_dict.keys():\n",
        "    raw_test_data_dict[key] = emoji.demojize(raw_test_data_dict[key]) #demojize\n",
        "    l1 = raw_test_data_dict[key].split()\n",
        "    if key in dict3.keys():\n",
        "        label_temp = dict1[key]+dict2[key]+dict3[key]\n",
        "        tweet = [l1,label_temp]\n",
        "    elif key in dict2.keys():     \n",
        "        label_temp = dict1[key]+dict2[key]\n",
        "        tweet = [l1,label_temp]\n",
        "    elif key in dict1.keys():          \n",
        "        tweet = [l1,dict1[key]]\n",
        "    combined_test_data.append(tweet)\n",
        "\n",
        "raw_test_tweets =[]\n",
        "raw_test_labels =[]\n",
        "for list1 in combined_test_data:\n",
        "    raw_test_tweets.append(list1[0])\n",
        "    raw_test_labels.append(list1[1])\n",
        "\n",
        "clean_test_tweets = preprocess(raw_test_tweets)\n",
        "test_sents_as_ids = tokenizer.texts_to_sequences(clean_test_tweets)\n",
        "\n",
        "\n",
        "\n",
        "MAXIMUM_LENGTH = 30 #checking\n",
        "processed_test_data = pad_sequences(test_sents_as_ids,MAXIMUM_LENGTH,truncating='post')\n",
        "\n",
        "\n",
        "test_labels_to_ids = []\n",
        "\n",
        "for label in raw_test_labels:\n",
        "  test_labels_to_ids.append(unique_labels[label])\n",
        "\n",
        "\n",
        "#CONVERT TEST LABELS TO ONE HOT LABEL ENCODING\n",
        "encoded_testY = encoder.transform(test_labels_to_ids)\n",
        "processed_test_labels = np_utils.to_categorical(encoded_testY)\n",
        "\n",
        "#sanity check\n",
        "print(test_labels_to_ids[:10])\n",
        "print(\"one hot encoded test labels \\n \",processed_test_labels[:10])\n"
      ],
      "execution_count": 84,
      "outputs": [
        {
          "output_type": "stream",
          "text": [
            "[3, 2, 2, 2, 4, 1, 2, 3, 2, 2]\n",
            "one hot encoded test labels \n",
            "  [[0. 0. 0. 1. 0.]\n",
            " [0. 0. 1. 0. 0.]\n",
            " [0. 0. 1. 0. 0.]\n",
            " [0. 0. 1. 0. 0.]\n",
            " [0. 0. 0. 0. 1.]\n",
            " [0. 1. 0. 0. 0.]\n",
            " [0. 0. 1. 0. 0.]\n",
            " [0. 0. 0. 1. 0.]\n",
            " [0. 0. 1. 0. 0.]\n",
            " [0. 0. 1. 0. 0.]]\n"
          ],
          "name": "stdout"
        }
      ]
    },
    {
      "cell_type": "code",
      "metadata": {
        "id": "VQzOrJzG-5gc",
        "colab_type": "code",
        "colab": {
          "base_uri": "https://localhost:8080/",
          "height": 50
        },
        "outputId": "6d4f77ca-971b-419e-d16b-86e045a5c929"
      },
      "source": [
        "model2.evaluate(processed_test_data,processed_test_labels,batch_size=128)"
      ],
      "execution_count": 85,
      "outputs": [
        {
          "output_type": "stream",
          "text": [
            "860/860 [==============================] - 0s 186us/step\n"
          ],
          "name": "stdout"
        },
        {
          "output_type": "execute_result",
          "data": {
            "text/plain": [
              "[0.8264578420062397, 0.7279069764669551]"
            ]
          },
          "metadata": {
            "tags": []
          },
          "execution_count": 85
        }
      ]
    }
  ]
}