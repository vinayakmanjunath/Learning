{
  "nbformat": 4,
  "nbformat_minor": 0,
  "metadata": {
    "colab": {
      "name": "NLP_LAB_5 (PARTIAL).ipynb",
      "provenance": []
    },
    "kernelspec": {
      "name": "python3",
      "display_name": "Python 3"
    },
    "accelerator": "GPU"
  },
  "cells": [
    {
      "cell_type": "markdown",
      "metadata": {
        "id": "I9jDwy8r2v1U",
        "colab_type": "text"
      },
      "source": [
        "**1. GETTING THE DATASET**"
      ]
    },
    {
      "cell_type": "code",
      "metadata": {
        "id": "Pg-TiXAu2zLe",
        "colab_type": "code",
        "outputId": "d01efc1f-016c-432e-d6bd-00f46dfff032",
        "colab": {
          "base_uri": "https://localhost:8080/",
          "height": 200
        }
      },
      "source": [
        "import keras\n",
        "imdb = keras.datasets.imdb\n",
        "\n",
        "# loading only the top 10000 words in the vocabulary like you did last week.\n",
        "VOCAB_SIZE = 10000\n",
        "# we reserve indices 0 for ‘<PAD>’, 1 for ‘<START>’ and 2 for ‘<UNK>’ i.e. words not in vocabulary\n",
        "INDEX_FROM = 2\n",
        "(train_data,train_labels),(test_data,test_labels) = imdb.load_data(num_words=VOCAB_SIZE, index_from=INDEX_FROM)\n",
        "\n",
        "#sanity check\n",
        "print('Sample review:', train_data[0])\n",
        "# and each label is 1 if that review is positive, else 0\n",
        "print('\\n Sample label:', test_labels[1])"
      ],
      "execution_count": 1,
      "outputs": [
        {
          "output_type": "stream",
          "text": [
            "Using TensorFlow backend.\n"
          ],
          "name": "stderr"
        },
        {
          "output_type": "display_data",
          "data": {
            "text/html": [
              "<p style=\"color: red;\">\n",
              "The default version of TensorFlow in Colab will soon switch to TensorFlow 2.x.<br>\n",
              "We recommend you <a href=\"https://www.tensorflow.org/guide/migrate\" target=\"_blank\">upgrade</a> now \n",
              "or ensure your notebook will continue to use TensorFlow 1.x via the <code>%tensorflow_version 1.x</code> magic:\n",
              "<a href=\"https://colab.research.google.com/notebooks/tensorflow_version.ipynb\" target=\"_blank\">more info</a>.</p>\n"
            ],
            "text/plain": [
              "<IPython.core.display.HTML object>"
            ]
          },
          "metadata": {
            "tags": []
          }
        },
        {
          "output_type": "stream",
          "text": [
            "Downloading data from https://s3.amazonaws.com/text-datasets/imdb.npz\n",
            "17465344/17464789 [==============================] - 3s 0us/step\n",
            "Sample review: [1, 13, 21, 15, 42, 529, 972, 1621, 1384, 64, 457, 4467, 65, 3940, 3, 172, 35, 255, 4, 24, 99, 42, 837, 111, 49, 669, 2, 8, 34, 479, 283, 4, 149, 3, 171, 111, 166, 2, 335, 384, 38, 3, 171, 4535, 1110, 16, 545, 37, 12, 446, 3, 191, 49, 15, 5, 146, 2024, 18, 13, 21, 3, 1919, 4612, 468, 3, 21, 70, 86, 11, 15, 42, 529, 37, 75, 14, 12, 1246, 3, 21, 16, 514, 16, 11, 15, 625, 17, 2, 4, 61, 385, 11, 7, 315, 7, 105, 4, 3, 2222, 5243, 15, 479, 65, 3784, 32, 3, 129, 11, 15, 37, 618, 4, 24, 123, 50, 35, 134, 47, 24, 1414, 32, 5, 21, 11, 214, 27, 76, 51, 4, 13, 406, 15, 81, 2, 7, 3, 106, 116, 5951, 14, 255, 3, 2, 6, 3765, 4, 722, 35, 70, 42, 529, 475, 25, 399, 316, 45, 6, 3, 2, 1028, 12, 103, 87, 3, 380, 14, 296, 97, 31, 2070, 55, 25, 140, 5, 193, 7485, 17, 3, 225, 21, 20, 133, 475, 25, 479, 4, 143, 29, 5534, 17, 50, 35, 27, 223, 91, 24, 103, 3, 225, 64, 15, 37, 1333, 87, 11, 15, 282, 4, 15, 4471, 112, 102, 31, 14, 15, 5344, 18, 177, 31]\n",
            "\n",
            " Sample label: 1\n"
          ],
          "name": "stdout"
        }
      ]
    },
    {
      "cell_type": "markdown",
      "metadata": {
        "id": "CkwipzP83sz_",
        "colab_type": "text"
      },
      "source": [
        "**2.Readying the inputs for LSTM**"
      ]
    },
    {
      "cell_type": "code",
      "metadata": {
        "id": "qGBNaK0j3wnm",
        "colab_type": "code",
        "outputId": "af158ad7-0158-43b5-cc77-ba317a0a8f98",
        "colab": {
          "base_uri": "https://localhost:8080/",
          "height": 50
        }
      },
      "source": [
        "from keras.preprocessing.sequence import pad_sequences\n",
        "MAXIMUM_LENGTH =500\n",
        "processed_train_data = pad_sequences(train_data,MAXIMUM_LENGTH)\n",
        "processed_test_data = pad_sequences(test_data,MAXIMUM_LENGTH)\n",
        "\n",
        "#sanity check\n",
        "print(\"length of sample before pre processing: \",len(train_data[0]))\n",
        "print(\"length of sample after pre processing: \",len(processed_train_data[0]))"
      ],
      "execution_count": 2,
      "outputs": [
        {
          "output_type": "stream",
          "text": [
            "length of sample before pre processing:  218\n",
            "length of sample after pre processing:  500\n"
          ],
          "name": "stdout"
        }
      ]
    },
    {
      "cell_type": "markdown",
      "metadata": {
        "id": "EZeflq0j5Lu0",
        "colab_type": "text"
      },
      "source": [
        "**3.BUILDING THE MODEL**"
      ]
    },
    {
      "cell_type": "code",
      "metadata": {
        "id": "3zb-YqcT5PM_",
        "colab_type": "code",
        "outputId": "07a0056b-a630-49c4-dec9-1c2a09f4ce77",
        "colab": {
          "base_uri": "https://localhost:8080/",
          "height": 255
        }
      },
      "source": [
        "EMBD_SIZE =100\n",
        "model = keras.Sequential()\n",
        "model.add(keras.layers.Embedding(VOCAB_SIZE,EMBD_SIZE))\n",
        "model.add(keras.layers.LSTM(units=100,activation='sigmoid'))\n",
        "model.add(keras.layers.Dense(1,activation='sigmoid'))\n",
        "model.compile(loss='binary_crossentropy',optimizer='adam',metrics=['accuracy'])\n"
      ],
      "execution_count": 3,
      "outputs": [
        {
          "output_type": "stream",
          "text": [
            "WARNING:tensorflow:From /usr/local/lib/python3.6/dist-packages/keras/backend/tensorflow_backend.py:66: The name tf.get_default_graph is deprecated. Please use tf.compat.v1.get_default_graph instead.\n",
            "\n",
            "WARNING:tensorflow:From /usr/local/lib/python3.6/dist-packages/keras/backend/tensorflow_backend.py:541: The name tf.placeholder is deprecated. Please use tf.compat.v1.placeholder instead.\n",
            "\n",
            "WARNING:tensorflow:From /usr/local/lib/python3.6/dist-packages/keras/backend/tensorflow_backend.py:4432: The name tf.random_uniform is deprecated. Please use tf.random.uniform instead.\n",
            "\n",
            "WARNING:tensorflow:From /usr/local/lib/python3.6/dist-packages/keras/optimizers.py:793: The name tf.train.Optimizer is deprecated. Please use tf.compat.v1.train.Optimizer instead.\n",
            "\n",
            "WARNING:tensorflow:From /usr/local/lib/python3.6/dist-packages/keras/backend/tensorflow_backend.py:3657: The name tf.log is deprecated. Please use tf.math.log instead.\n",
            "\n",
            "WARNING:tensorflow:From /usr/local/lib/python3.6/dist-packages/tensorflow_core/python/ops/nn_impl.py:183: where (from tensorflow.python.ops.array_ops) is deprecated and will be removed in a future version.\n",
            "Instructions for updating:\n",
            "Use tf.where in 2.0, which has the same broadcast rule as np.where\n"
          ],
          "name": "stdout"
        }
      ]
    },
    {
      "cell_type": "code",
      "metadata": {
        "id": "Vs0Mcv5P6ykk",
        "colab_type": "code",
        "outputId": "56788414-44e6-417b-8141-6ce8c2209f9e",
        "colab": {
          "base_uri": "https://localhost:8080/",
          "height": 252
        }
      },
      "source": [
        "#sanity check\n",
        "model.summary()"
      ],
      "execution_count": 4,
      "outputs": [
        {
          "output_type": "stream",
          "text": [
            "Model: \"sequential_1\"\n",
            "_________________________________________________________________\n",
            "Layer (type)                 Output Shape              Param #   \n",
            "=================================================================\n",
            "embedding_1 (Embedding)      (None, None, 100)         1000000   \n",
            "_________________________________________________________________\n",
            "lstm_1 (LSTM)                (None, 100)               80400     \n",
            "_________________________________________________________________\n",
            "dense_1 (Dense)              (None, 1)                 101       \n",
            "=================================================================\n",
            "Total params: 1,080,501\n",
            "Trainable params: 1,080,501\n",
            "Non-trainable params: 0\n",
            "_________________________________________________________________\n"
          ],
          "name": "stdout"
        }
      ]
    },
    {
      "cell_type": "code",
      "metadata": {
        "id": "OkbP4QaB7O9q",
        "colab_type": "code",
        "outputId": "d942e6e8-5268-4d3b-f039-5cd50d7fa415",
        "colab": {
          "base_uri": "https://localhost:8080/",
          "height": 581
        }
      },
      "source": [
        "# Visualizing the model Structure\n",
        "from keras.utils import plot_model\n",
        "from IPython.display import SVG\n",
        "from keras.utils import vis_utils\n",
        "SVG(vis_utils.model_to_dot(model, show_shapes=True, show_layer_names=True).create(prog='dot', format='jpg'))\n"
      ],
      "execution_count": 5,
      "outputs": [
        {
          "output_type": "execute_result",
          "data": {
            "text/plain": [
              "<IPython.core.display.SVG object>"
            ],
            "image/svg+xml": "<svg height=\"405pt\" viewBox=\"0.00 0.00 367.00 304.00\" width=\"489pt\" xmlns=\"http://www.w3.org/2000/svg\" xmlns:xlink=\"http://www.w3.org/1999/xlink\">\n<g class=\"graph\" id=\"graph0\" transform=\"scale(1.3333 1.3333) rotate(0) translate(4 300)\">\n<title>G</title>\n<polygon fill=\"#ffffff\" points=\"-4,4 -4,-300 363,-300 363,4 -4,4\" stroke=\"transparent\"/>\n<!-- 140565290067448 -->\n<g class=\"node\" id=\"node1\">\n<title>140565290067448</title>\n<polygon fill=\"none\" points=\"0,-249.5 0,-295.5 359,-295.5 359,-249.5 0,-249.5\" stroke=\"#000000\"/>\n<text fill=\"#000000\" font-family=\"Times,serif\" font-size=\"14.00\" text-anchor=\"middle\" x=\"102.5\" y=\"-268.8\">embedding_1_input: InputLayer</text>\n<polyline fill=\"none\" points=\"205,-249.5 205,-295.5 \" stroke=\"#000000\"/>\n<text fill=\"#000000\" font-family=\"Times,serif\" font-size=\"14.00\" text-anchor=\"middle\" x=\"234\" y=\"-280.3\">input:</text>\n<polyline fill=\"none\" points=\"205,-272.5 263,-272.5 \" stroke=\"#000000\"/>\n<text fill=\"#000000\" font-family=\"Times,serif\" font-size=\"14.00\" text-anchor=\"middle\" x=\"234\" y=\"-257.3\">output:</text>\n<polyline fill=\"none\" points=\"263,-249.5 263,-295.5 \" stroke=\"#000000\"/>\n<text fill=\"#000000\" font-family=\"Times,serif\" font-size=\"14.00\" text-anchor=\"middle\" x=\"311\" y=\"-280.3\">(None, None)</text>\n<polyline fill=\"none\" points=\"263,-272.5 359,-272.5 \" stroke=\"#000000\"/>\n<text fill=\"#000000\" font-family=\"Times,serif\" font-size=\"14.00\" text-anchor=\"middle\" x=\"311\" y=\"-257.3\">(None, None)</text>\n</g>\n<!-- 140565290067784 -->\n<g class=\"node\" id=\"node2\">\n<title>140565290067784</title>\n<polygon fill=\"none\" points=\"2,-166.5 2,-212.5 357,-212.5 357,-166.5 2,-166.5\" stroke=\"#000000\"/>\n<text fill=\"#000000\" font-family=\"Times,serif\" font-size=\"14.00\" text-anchor=\"middle\" x=\"87.5\" y=\"-185.8\">embedding_1: Embedding</text>\n<polyline fill=\"none\" points=\"173,-166.5 173,-212.5 \" stroke=\"#000000\"/>\n<text fill=\"#000000\" font-family=\"Times,serif\" font-size=\"14.00\" text-anchor=\"middle\" x=\"202\" y=\"-197.3\">input:</text>\n<polyline fill=\"none\" points=\"173,-189.5 231,-189.5 \" stroke=\"#000000\"/>\n<text fill=\"#000000\" font-family=\"Times,serif\" font-size=\"14.00\" text-anchor=\"middle\" x=\"202\" y=\"-174.3\">output:</text>\n<polyline fill=\"none\" points=\"231,-166.5 231,-212.5 \" stroke=\"#000000\"/>\n<text fill=\"#000000\" font-family=\"Times,serif\" font-size=\"14.00\" text-anchor=\"middle\" x=\"294\" y=\"-197.3\">(None, None)</text>\n<polyline fill=\"none\" points=\"231,-189.5 357,-189.5 \" stroke=\"#000000\"/>\n<text fill=\"#000000\" font-family=\"Times,serif\" font-size=\"14.00\" text-anchor=\"middle\" x=\"294\" y=\"-174.3\">(None, None, 100)</text>\n</g>\n<!-- 140565290067448&#45;&gt;140565290067784 -->\n<g class=\"edge\" id=\"edge1\">\n<title>140565290067448-&gt;140565290067784</title>\n<path d=\"M179.5,-249.3799C179.5,-241.1745 179.5,-231.7679 179.5,-222.8786\" fill=\"none\" stroke=\"#000000\"/>\n<polygon fill=\"#000000\" points=\"183.0001,-222.784 179.5,-212.784 176.0001,-222.784 183.0001,-222.784\" stroke=\"#000000\"/>\n</g>\n<!-- 140565290067224 -->\n<g class=\"node\" id=\"node3\">\n<title>140565290067224</title>\n<polygon fill=\"none\" points=\"36.5,-83.5 36.5,-129.5 322.5,-129.5 322.5,-83.5 36.5,-83.5\" stroke=\"#000000\"/>\n<text fill=\"#000000\" font-family=\"Times,serif\" font-size=\"14.00\" text-anchor=\"middle\" x=\"87.5\" y=\"-102.8\">lstm_1: LSTM</text>\n<polyline fill=\"none\" points=\"138.5,-83.5 138.5,-129.5 \" stroke=\"#000000\"/>\n<text fill=\"#000000\" font-family=\"Times,serif\" font-size=\"14.00\" text-anchor=\"middle\" x=\"167.5\" y=\"-114.3\">input:</text>\n<polyline fill=\"none\" points=\"138.5,-106.5 196.5,-106.5 \" stroke=\"#000000\"/>\n<text fill=\"#000000\" font-family=\"Times,serif\" font-size=\"14.00\" text-anchor=\"middle\" x=\"167.5\" y=\"-91.3\">output:</text>\n<polyline fill=\"none\" points=\"196.5,-83.5 196.5,-129.5 \" stroke=\"#000000\"/>\n<text fill=\"#000000\" font-family=\"Times,serif\" font-size=\"14.00\" text-anchor=\"middle\" x=\"259.5\" y=\"-114.3\">(None, None, 100)</text>\n<polyline fill=\"none\" points=\"196.5,-106.5 322.5,-106.5 \" stroke=\"#000000\"/>\n<text fill=\"#000000\" font-family=\"Times,serif\" font-size=\"14.00\" text-anchor=\"middle\" x=\"259.5\" y=\"-91.3\">(None, 100)</text>\n</g>\n<!-- 140565290067784&#45;&gt;140565290067224 -->\n<g class=\"edge\" id=\"edge2\">\n<title>140565290067784-&gt;140565290067224</title>\n<path d=\"M179.5,-166.3799C179.5,-158.1745 179.5,-148.7679 179.5,-139.8786\" fill=\"none\" stroke=\"#000000\"/>\n<polygon fill=\"#000000\" points=\"183.0001,-139.784 179.5,-129.784 176.0001,-139.784 183.0001,-139.784\" stroke=\"#000000\"/>\n</g>\n<!-- 140564306884984 -->\n<g class=\"node\" id=\"node4\">\n<title>140564306884984</title>\n<polygon fill=\"none\" points=\"53.5,-.5 53.5,-46.5 305.5,-46.5 305.5,-.5 53.5,-.5\" stroke=\"#000000\"/>\n<text fill=\"#000000\" font-family=\"Times,serif\" font-size=\"14.00\" text-anchor=\"middle\" x=\"107\" y=\"-19.8\">dense_1: Dense</text>\n<polyline fill=\"none\" points=\"160.5,-.5 160.5,-46.5 \" stroke=\"#000000\"/>\n<text fill=\"#000000\" font-family=\"Times,serif\" font-size=\"14.00\" text-anchor=\"middle\" x=\"189.5\" y=\"-31.3\">input:</text>\n<polyline fill=\"none\" points=\"160.5,-23.5 218.5,-23.5 \" stroke=\"#000000\"/>\n<text fill=\"#000000\" font-family=\"Times,serif\" font-size=\"14.00\" text-anchor=\"middle\" x=\"189.5\" y=\"-8.3\">output:</text>\n<polyline fill=\"none\" points=\"218.5,-.5 218.5,-46.5 \" stroke=\"#000000\"/>\n<text fill=\"#000000\" font-family=\"Times,serif\" font-size=\"14.00\" text-anchor=\"middle\" x=\"262\" y=\"-31.3\">(None, 100)</text>\n<polyline fill=\"none\" points=\"218.5,-23.5 305.5,-23.5 \" stroke=\"#000000\"/>\n<text fill=\"#000000\" font-family=\"Times,serif\" font-size=\"14.00\" text-anchor=\"middle\" x=\"262\" y=\"-8.3\">(None, 1)</text>\n</g>\n<!-- 140565290067224&#45;&gt;140564306884984 -->\n<g class=\"edge\" id=\"edge3\">\n<title>140565290067224-&gt;140564306884984</title>\n<path d=\"M179.5,-83.3799C179.5,-75.1745 179.5,-65.7679 179.5,-56.8786\" fill=\"none\" stroke=\"#000000\"/>\n<polygon fill=\"#000000\" points=\"183.0001,-56.784 179.5,-46.784 176.0001,-56.784 183.0001,-56.784\" stroke=\"#000000\"/>\n</g>\n</g>\n</svg>"
          },
          "metadata": {
            "tags": []
          },
          "execution_count": 5
        }
      ]
    },
    {
      "cell_type": "markdown",
      "metadata": {
        "id": "xzcLOHPN7asU",
        "colab_type": "text"
      },
      "source": [
        "**4. TRAINING THE MODEL**"
      ]
    },
    {
      "cell_type": "code",
      "metadata": {
        "id": "ZB2qco-I7dpM",
        "colab_type": "code",
        "outputId": "94ede21f-1c4e-42cb-c885-f1169a946cf2",
        "colab": {
          "base_uri": "https://localhost:8080/",
          "height": 423
        }
      },
      "source": [
        "partial_train_data = processed_train_data[:23000]\n",
        "partial_val_data = processed_train_data[23000:]\n",
        "\n",
        "partial_train_labels = train_labels[:23000]\n",
        "partial_val_labels = train_labels[23000:]\n",
        "\n",
        "history = model.fit(partial_train_data,partial_train_labels,batch_size=100,\n",
        "                    epochs=3,validation_data=(partial_val_data,partial_val_labels),verbose=1)"
      ],
      "execution_count": 6,
      "outputs": [
        {
          "output_type": "stream",
          "text": [
            "WARNING:tensorflow:From /usr/local/lib/python3.6/dist-packages/keras/backend/tensorflow_backend.py:1033: The name tf.assign_add is deprecated. Please use tf.compat.v1.assign_add instead.\n",
            "\n",
            "WARNING:tensorflow:From /usr/local/lib/python3.6/dist-packages/keras/backend/tensorflow_backend.py:1020: The name tf.assign is deprecated. Please use tf.compat.v1.assign instead.\n",
            "\n",
            "WARNING:tensorflow:From /usr/local/lib/python3.6/dist-packages/keras/backend/tensorflow_backend.py:3005: The name tf.Session is deprecated. Please use tf.compat.v1.Session instead.\n",
            "\n",
            "Train on 23000 samples, validate on 2000 samples\n",
            "Epoch 1/3\n",
            "WARNING:tensorflow:From /usr/local/lib/python3.6/dist-packages/keras/backend/tensorflow_backend.py:190: The name tf.get_default_session is deprecated. Please use tf.compat.v1.get_default_session instead.\n",
            "\n",
            "WARNING:tensorflow:From /usr/local/lib/python3.6/dist-packages/keras/backend/tensorflow_backend.py:197: The name tf.ConfigProto is deprecated. Please use tf.compat.v1.ConfigProto instead.\n",
            "\n",
            "WARNING:tensorflow:From /usr/local/lib/python3.6/dist-packages/keras/backend/tensorflow_backend.py:207: The name tf.global_variables is deprecated. Please use tf.compat.v1.global_variables instead.\n",
            "\n",
            "WARNING:tensorflow:From /usr/local/lib/python3.6/dist-packages/keras/backend/tensorflow_backend.py:216: The name tf.is_variable_initialized is deprecated. Please use tf.compat.v1.is_variable_initialized instead.\n",
            "\n",
            "WARNING:tensorflow:From /usr/local/lib/python3.6/dist-packages/keras/backend/tensorflow_backend.py:223: The name tf.variables_initializer is deprecated. Please use tf.compat.v1.variables_initializer instead.\n",
            "\n",
            "23000/23000 [==============================] - 166s 7ms/step - loss: 0.5983 - acc: 0.6537 - val_loss: 0.4143 - val_acc: 0.8185\n",
            "Epoch 2/3\n",
            "23000/23000 [==============================] - 154s 7ms/step - loss: 0.3046 - acc: 0.8737 - val_loss: 0.2904 - val_acc: 0.8820\n",
            "Epoch 3/3\n",
            "23000/23000 [==============================] - 156s 7ms/step - loss: 0.1969 - acc: 0.9268 - val_loss: 0.3546 - val_acc: 0.8485\n"
          ],
          "name": "stdout"
        }
      ]
    },
    {
      "cell_type": "code",
      "metadata": {
        "id": "AxpLrlDm_Pfn",
        "colab_type": "code",
        "outputId": "ff704b26-91f3-460a-f3ce-60b92c86eefd",
        "colab": {
          "base_uri": "https://localhost:8080/",
          "height": 295
        }
      },
      "source": [
        "# PLOT of train and validation accuracy\n",
        "import matplotlib.pyplot as plt\n",
        "\n",
        "history_dict = history.history\n",
        "\n",
        "acc = history_dict['acc']\n",
        "val_acc = history_dict['val_acc']\n",
        "loss = history_dict['loss']\n",
        "val_loss = history_dict['val_loss']\n",
        "\n",
        "epochs = range(1, len(acc) + 1)\n",
        "\n",
        "plt.plot(epochs, acc, 'bo', label='Training acc')\n",
        "plt.plot(epochs, val_acc, 'b', label='Validation acc')\n",
        "plt.title('Training and validation accuracy')\n",
        "plt.xlabel('Epochs')\n",
        "plt.ylabel('Accuracy')\n",
        "plt.legend()\n",
        "\n",
        "plt.show()"
      ],
      "execution_count": 7,
      "outputs": [
        {
          "output_type": "display_data",
          "data": {
            "image/png": "[encoded data removed]",
            "text/plain": [
              "<Figure size 432x288 with 1 Axes>"
            ]
          },
          "metadata": {
            "tags": []
          }
        }
      ]
    },
    {
      "cell_type": "markdown",
      "metadata": {
        "id": "4LVZRKpE_bVE",
        "colab_type": "text"
      },
      "source": [
        "**5. EVALUATING THE MODEL ON THE TEST DATA**\n"
      ]
    },
    {
      "cell_type": "code",
      "metadata": {
        "id": "Gt9iff11_fel",
        "colab_type": "code",
        "colab": {
          "base_uri": "https://localhost:8080/",
          "height": 34
        },
        "outputId": "5b4ed259-7c3c-4dcf-f3eb-06f9c97a7111"
      },
      "source": [
        "result = model.evaluate(processed_test_data,test_labels)\n",
        "\n"
      ],
      "execution_count": 8,
      "outputs": [
        {
          "output_type": "stream",
          "text": [
            "25000/25000 [==============================] - 92s 4ms/step\n"
          ],
          "name": "stdout"
        }
      ]
    },
    {
      "cell_type": "code",
      "metadata": {
        "id": "HBhp1YFfHGkM",
        "colab_type": "code",
        "outputId": "a852c49d-1431-419d-86d7-0fed17283711",
        "colab": {
          "base_uri": "https://localhost:8080/",
          "height": 34
        }
      },
      "source": [
        "print('test_loss:', result[0], 'test_accuracy:', result[1])"
      ],
      "execution_count": 9,
      "outputs": [
        {
          "output_type": "stream",
          "text": [
            "test_loss: 0.35204935298919676 test_accuracy: 0.8482\n"
          ],
          "name": "stdout"
        }
      ]
    },
    {
      "cell_type": "markdown",
      "metadata": {
        "id": "Gv5lmFW5AJmC",
        "colab_type": "text"
      },
      "source": [
        "**6. EXTRACTING THE WORD EMBEDDINGS**"
      ]
    },
    {
      "cell_type": "code",
      "metadata": {
        "id": "6z2AslNFAM7v",
        "colab_type": "code",
        "outputId": "7ef6602d-b0c3-4cf4-ad14-af135a298bef",
        "colab": {
          "base_uri": "https://localhost:8080/",
          "height": 34
        }
      },
      "source": [
        "word_embeddings = model.layers[0].get_weights()[0]\n",
        "print('Shape of word_embeddings: ', word_embeddings.shape)\n"
      ],
      "execution_count": 10,
      "outputs": [
        {
          "output_type": "stream",
          "text": [
            "Shape of word_embeddings:  (10000, 100)\n"
          ],
          "name": "stdout"
        }
      ]
    },
    {
      "cell_type": "markdown",
      "metadata": {
        "id": "cKbD_iC6AieK",
        "colab_type": "text"
      },
      "source": [
        "**7. VISUALISING THE REVIEWS**"
      ]
    },
    {
      "cell_type": "code",
      "metadata": {
        "id": "TFsWutZNAlIq",
        "colab_type": "code",
        "outputId": "9b1ce11b-d645-4630-df9f-b5a5cc4fac6e",
        "colab": {
          "base_uri": "https://localhost:8080/",
          "height": 104
        }
      },
      "source": [
        "word2idx = imdb.get_word_index()\n",
        "# 9998 since we only used top 1000 words of including ‘<PAD>’, ‘<START>’ and ‘<UNK>’\n",
        "word2idx = {k:(v+INDEX_FROM) for k,v in word2idx.items() if v < 9998}\n",
        "word2idx[\"<PAD>\"] = 0\n",
        "word2idx[\"<START>\"] = 1\n",
        "word2idx[\"<UNK>\"] = 2\n",
        "\n",
        "idx2word = {value:key for key,value in word2idx.items()}\n",
        "\n",
        "# View a sample review text using the lines of code below:\n",
        "print(' '.join(idx2word[idx] for idx in train_data[0]))\n",
        "# view the corresponding data\n",
        "print(train_data[0])"
      ],
      "execution_count": 11,
      "outputs": [
        {
          "output_type": "stream",
          "text": [
            "Downloading data from https://s3.amazonaws.com/text-datasets/imdb_word_index.json\n",
            "1646592/1641221 [==============================] - 2s 1us/step\n",
            "<START> this film was just brilliant casting location scenery story direction everyone's really suited the part they played and you could just imagine being there robert <UNK> is an amazing actor and now the same being director <UNK> father came from the same scottish island as myself so i loved the fact there was a real connection with this film the witty remarks throughout the film were great it was just brilliant so much that i bought the film as soon as it was released for <UNK> and would recommend it to everyone to watch and the fly fishing was amazing really cried at the end it was so sad and you know what they say if you cry at a film it must have been good and this definitely was also <UNK> to the two little boy's that played the <UNK> of norman and paul they were just brilliant children are often left out of the <UNK> list i think because the stars that play them all grown up are such a big profile for the whole film but these children are amazing and should be praised for what they have done don't you think the whole story was so lovely because it was true and was someone's life after all that was shared with us all\n",
            "[1, 13, 21, 15, 42, 529, 972, 1621, 1384, 64, 457, 4467, 65, 3940, 3, 172, 35, 255, 4, 24, 99, 42, 837, 111, 49, 669, 2, 8, 34, 479, 283, 4, 149, 3, 171, 111, 166, 2, 335, 384, 38, 3, 171, 4535, 1110, 16, 545, 37, 12, 446, 3, 191, 49, 15, 5, 146, 2024, 18, 13, 21, 3, 1919, 4612, 468, 3, 21, 70, 86, 11, 15, 42, 529, 37, 75, 14, 12, 1246, 3, 21, 16, 514, 16, 11, 15, 625, 17, 2, 4, 61, 385, 11, 7, 315, 7, 105, 4, 3, 2222, 5243, 15, 479, 65, 3784, 32, 3, 129, 11, 15, 37, 618, 4, 24, 123, 50, 35, 134, 47, 24, 1414, 32, 5, 21, 11, 214, 27, 76, 51, 4, 13, 406, 15, 81, 2, 7, 3, 106, 116, 5951, 14, 255, 3, 2, 6, 3765, 4, 722, 35, 70, 42, 529, 475, 25, 399, 316, 45, 6, 3, 2, 1028, 12, 103, 87, 3, 380, 14, 296, 97, 31, 2070, 55, 25, 140, 5, 193, 7485, 17, 3, 225, 21, 20, 133, 475, 25, 479, 4, 143, 29, 5534, 17, 50, 35, 27, 223, 91, 24, 103, 3, 225, 64, 15, 37, 1333, 87, 11, 15, 282, 4, 15, 4471, 112, 102, 31, 14, 15, 5344, 18, 177, 31]\n"
          ],
          "name": "stdout"
        }
      ]
    },
    {
      "cell_type": "markdown",
      "metadata": {
        "id": "W9bwN1zaA5YM",
        "colab_type": "text"
      },
      "source": [
        "**8. VISUALISNG THE WORD EMBEDDINGS**"
      ]
    },
    {
      "cell_type": "code",
      "metadata": {
        "id": "jMvvvjgxA8-T",
        "colab_type": "code",
        "outputId": "3967e242-96fc-4182-ac0f-760c6d667cd8",
        "colab": {
          "base_uri": "https://localhost:8080/",
          "height": 235
        }
      },
      "source": [
        "from pandas import DataFrame\n",
        "print(DataFrame(word_embeddings, index=idx2word.values()).head(10))"
      ],
      "execution_count": 12,
      "outputs": [
        {
          "output_type": "stream",
          "text": [
            "                 0         1         2   ...        97        98        99\n",
            "woods     -0.040819  0.019868  0.144417  ...  0.079724 -0.027147 -0.012789\n",
            "hanging   -0.217018  0.231255 -0.174362  ...  0.215486 -0.221188 -0.205536\n",
            "woody     -0.012598  0.032761  0.005580  ... -0.027793  0.008495 -0.002371\n",
            "arranged  -0.010151  0.036086 -0.052847  ... -0.073882  0.046371  0.055058\n",
            "bringing   0.057371  0.017449 -0.063346  ... -0.046725  0.039015  0.065893\n",
            "wooden    -0.015951 -0.040808 -0.015730  ...  0.085055  0.012435 -0.020078\n",
            "errors     0.039664  0.025045 -0.089195  ... -0.086633  0.017556  0.002958\n",
            "dialogs   -0.028181 -0.041261 -0.020299  ... -0.086060 -0.004722 -0.035048\n",
            "kids       0.010956  0.019345  0.004350  ... -0.056725  0.031815 -0.009406\n",
            "uplifting -0.001080  0.005963 -0.036363  ...  0.033514 -0.017964  0.032290\n",
            "\n",
            "[10 rows x 100 columns]\n"
          ],
          "name": "stdout"
        }
      ]
    },
    {
      "cell_type": "markdown",
      "metadata": {
        "id": "ezIba6LLBG7N",
        "colab_type": "text"
      },
      "source": [
        "**PLOT WORD EMBEDDINGS USING t-SNE**\n"
      ]
    },
    {
      "cell_type": "code",
      "metadata": {
        "id": "o3PTULy9BQKb",
        "colab_type": "code",
        "outputId": "b0d5932a-bdb7-4cfa-ee0c-f1f57dfd85a9",
        "colab": {
          "base_uri": "https://localhost:8080/",
          "height": 487
        }
      },
      "source": [
        "from sklearn.manifold import TSNE\n",
        "import matplotlib.pyplot as plt\n",
        "import numpy as np\n",
        "tsne = TSNE(perplexity=3, n_components=2, init='pca', n_iter=5000, method='exact')\n",
        "np.set_printoptions(suppress=True)\n",
        "# starting from the first word\n",
        "start = 3\n",
        "plot_only = 54\n",
        "T = tsne.fit_transform(word_embeddings[start:plot_only, :])\n",
        "labels = [idx2word[i] for i in range(start, plot_only)]\n",
        "plt.figure(figsize=(14, 8))\n",
        "plt.scatter(T[:, 0], T[:, 1])\n",
        "for label, x, y in zip(labels, T[:, 0], T[:, 1]):\n",
        "  plt.annotate(label, xy=(x+1, y+1), xytext=(0, 0), textcoords='offset points', ha='right',va='bottom')\n"
      ],
      "execution_count": 13,
      "outputs": [
        {
          "output_type": "display_data",
          "data": {
            "image/png": "[encoded data removed]",
            "text/plain": [
              "<Figure size 1008x576 with 1 Axes>"
            ]
          },
          "metadata": {
            "tags": []
          }
        }
      ]
    },
    {
      "cell_type": "markdown",
      "metadata": {
        "id": "HnhAttncBfI4",
        "colab_type": "text"
      },
      "source": [
        "**9. QUESTIONS**\n",
        "creating new LSTM model with two dropout layers: one inbetween embedding and LSTM layer and one between LSTM and output layer. Training for 3 epochs"
      ]
    },
    {
      "cell_type": "code",
      "metadata": {
        "id": "fO0LKcNvDFie",
        "colab_type": "code",
        "outputId": "b76b742e-69df-4ece-9942-cd060732e5cb",
        "colab": {
          "base_uri": "https://localhost:8080/",
          "height": 238
        }
      },
      "source": [
        "model2 = keras.Sequential()\n",
        "model2.add(keras.layers.Embedding(VOCAB_SIZE,EMBD_SIZE))\n",
        "model2.add(keras.layers.Dropout(rate=0.5))\n",
        "model2.add(keras.layers.LSTM(units=100,activation='sigmoid'))\n",
        "model2.add(keras.layers.Dropout(rate=0.5))\n",
        "model2.add(keras.layers.Dense(1,activation='sigmoid'))\n",
        "model2.compile(loss='binary_crossentropy',optimizer='adam',metrics=['accuracy'])\n",
        "history2 = model2.fit(partial_train_data,partial_train_labels,batch_size=100,\n",
        "                    epochs=3,validation_data=(partial_val_data,partial_val_labels),verbose=1)"
      ],
      "execution_count": 14,
      "outputs": [
        {
          "output_type": "stream",
          "text": [
            "WARNING:tensorflow:From /usr/local/lib/python3.6/dist-packages/keras/backend/tensorflow_backend.py:148: The name tf.placeholder_with_default is deprecated. Please use tf.compat.v1.placeholder_with_default instead.\n",
            "\n",
            "WARNING:tensorflow:From /usr/local/lib/python3.6/dist-packages/keras/backend/tensorflow_backend.py:3733: calling dropout (from tensorflow.python.ops.nn_ops) with keep_prob is deprecated and will be removed in a future version.\n",
            "Instructions for updating:\n",
            "Please use `rate` instead of `keep_prob`. Rate should be set to `rate = 1 - keep_prob`.\n",
            "Train on 23000 samples, validate on 2000 samples\n",
            "Epoch 1/3\n",
            "23000/23000 [==============================] - 155s 7ms/step - loss: 0.6935 - acc: 0.5360 - val_loss: 0.6168 - val_acc: 0.6530\n",
            "Epoch 2/3\n",
            "23000/23000 [==============================] - 152s 7ms/step - loss: 0.4728 - acc: 0.7810 - val_loss: 0.3919 - val_acc: 0.8340\n",
            "Epoch 3/3\n",
            "23000/23000 [==============================] - 149s 6ms/step - loss: 0.3258 - acc: 0.8686 - val_loss: 0.3432 - val_acc: 0.8590\n"
          ],
          "name": "stdout"
        }
      ]
    },
    {
      "cell_type": "code",
      "metadata": {
        "id": "aOZpH0qfVROE",
        "colab_type": "code",
        "outputId": "340aa2ce-66ef-4662-9138-5b57425cc33e",
        "colab": {
          "base_uri": "https://localhost:8080/",
          "height": 319
        }
      },
      "source": [
        "model2.summary()"
      ],
      "execution_count": 15,
      "outputs": [
        {
          "output_type": "stream",
          "text": [
            "Model: \"sequential_2\"\n",
            "_________________________________________________________________\n",
            "Layer (type)                 Output Shape              Param #   \n",
            "=================================================================\n",
            "embedding_2 (Embedding)      (None, None, 100)         1000000   \n",
            "_________________________________________________________________\n",
            "dropout_1 (Dropout)          (None, None, 100)         0         \n",
            "_________________________________________________________________\n",
            "lstm_2 (LSTM)                (None, 100)               80400     \n",
            "_________________________________________________________________\n",
            "dropout_2 (Dropout)          (None, 100)               0         \n",
            "_________________________________________________________________\n",
            "dense_2 (Dense)              (None, 1)                 101       \n",
            "=================================================================\n",
            "Total params: 1,080,501\n",
            "Trainable params: 1,080,501\n",
            "Non-trainable params: 0\n",
            "_________________________________________________________________\n"
          ],
          "name": "stdout"
        }
      ]
    },
    {
      "cell_type": "code",
      "metadata": {
        "id": "UiKMX--PGUid",
        "colab_type": "code",
        "outputId": "782edd3e-284a-4926-f850-8b387d9f6cd0",
        "colab": {
          "base_uri": "https://localhost:8080/",
          "height": 329
        }
      },
      "source": [
        "history_dict2 = history2.history\n",
        "\n",
        "acc2 = history_dict2['acc']\n",
        "val_acc2 = history_dict2['val_acc']\n",
        "loss2 = history_dict2['loss']\n",
        "val_loss2 = history_dict2['val_loss']\n",
        "\n",
        "epochs2 = range(1, len(acc2) + 1)\n",
        "\n",
        "plt.plot(epochs2, acc2, 'bo', label='Training acc')\n",
        "plt.plot(epochs2, val_acc2, 'b', label='Validation acc')\n",
        "plt.title('Training and validation accuracy')\n",
        "plt.xlabel('Epochs')\n",
        "plt.ylabel('Accuracy')\n",
        "plt.legend()\n",
        "\n",
        "plt.show()\n",
        "\n",
        "result2 = model2.evaluate(processed_test_data,test_labels)\n",
        "print('test_loss:', result2[0], 'test_accuracy:', result2[1])\n"
      ],
      "execution_count": 16,
      "outputs": [
        {
          "output_type": "display_data",
          "data": {
            "image/png": "[encoded data removed]",
            "text/plain": [
              "<Figure size 432x288 with 1 Axes>"
            ]
          },
          "metadata": {
            "tags": []
          }
        },
        {
          "output_type": "stream",
          "text": [
            "25000/25000 [==============================] - 89s 4ms/step\n",
            "test_loss: 0.34442995310783386 test_accuracy: 0.85528\n"
          ],
          "name": "stdout"
        }
      ]
    },
    {
      "cell_type": "markdown",
      "metadata": {
        "id": "IA0oytATEmWs",
        "colab_type": "text"
      },
      "source": [
        "Training for 6 epochs"
      ]
    },
    {
      "cell_type": "code",
      "metadata": {
        "id": "QqvFaIkgEjxu",
        "colab_type": "code",
        "outputId": "e1c21c74-63b4-4816-da4f-1f9022652f68",
        "colab": {
          "base_uri": "https://localhost:8080/",
          "height": 235
        }
      },
      "source": [
        "model3 = keras.Sequential()\n",
        "model3.add(keras.layers.Embedding(VOCAB_SIZE,EMBD_SIZE))\n",
        "model3.add(keras.layers.Dropout(rate=0.5))\n",
        "model3.add(keras.layers.LSTM(units=100,activation='sigmoid'))\n",
        "model3.add(keras.layers.Dropout(rate=0.5))\n",
        "model3.add(keras.layers.Dense(1,activation='sigmoid'))\n",
        "model3.compile(loss='binary_crossentropy',optimizer='adam',metrics=['accuracy'])\n",
        "history3 = model3.fit(partial_train_data,partial_train_labels,batch_size=100,\n",
        "                    epochs=6,validation_data=(partial_val_data,partial_val_labels),verbose=1)"
      ],
      "execution_count": 17,
      "outputs": [
        {
          "output_type": "stream",
          "text": [
            "Train on 23000 samples, validate on 2000 samples\n",
            "Epoch 1/6\n",
            "23000/23000 [==============================] - 165s 7ms/step - loss: 0.6968 - acc: 0.5339 - val_loss: 0.6156 - val_acc: 0.6530\n",
            "Epoch 2/6\n",
            "23000/23000 [==============================] - 170s 7ms/step - loss: 0.4313 - acc: 0.8045 - val_loss: 0.3326 - val_acc: 0.8710\n",
            "Epoch 3/6\n",
            "23000/23000 [==============================] - 169s 7ms/step - loss: 0.2683 - acc: 0.8960 - val_loss: 0.2926 - val_acc: 0.8910\n",
            "Epoch 4/6\n",
            "23000/23000 [==============================] - 169s 7ms/step - loss: 0.1996 - acc: 0.9277 - val_loss: 0.3249 - val_acc: 0.8820\n",
            "Epoch 5/6\n",
            "23000/23000 [==============================] - 169s 7ms/step - loss: 0.1597 - acc: 0.9428 - val_loss: 0.3285 - val_acc: 0.8820\n",
            "Epoch 6/6\n",
            "23000/23000 [==============================] - 166s 7ms/step - loss: 0.1443 - acc: 0.9489 - val_loss: 0.3721 - val_acc: 0.8765\n"
          ],
          "name": "stdout"
        }
      ]
    },
    {
      "cell_type": "code",
      "metadata": {
        "id": "h9GAUhrdRt0N",
        "colab_type": "code",
        "outputId": "20de7c94-9854-42a1-d71f-c1a592075af5",
        "colab": {
          "base_uri": "https://localhost:8080/",
          "height": 329
        }
      },
      "source": [
        "history_dict3 = history3.history\n",
        "\n",
        "acc3 = history_dict3['acc']\n",
        "val_acc3 = history_dict3['val_acc']\n",
        "loss3 = history_dict3['loss']\n",
        "val_loss3 = history_dict3['val_loss']\n",
        "\n",
        "epochs3 = range(1, len(acc3) + 1)\n",
        "\n",
        "plt.plot(epochs3, acc3, 'bo', label='Training acc')\n",
        "plt.plot(epochs3, val_acc3, 'b', label='Validation acc')\n",
        "plt.title('Training and validation accuracy')\n",
        "plt.xlabel('Epochs')\n",
        "plt.ylabel('Accuracy')\n",
        "plt.legend()\n",
        "\n",
        "plt.show()\n",
        "\n",
        "result3 = model3.evaluate(processed_test_data,test_labels)\n",
        "print('test_loss:', result3[0], 'test_accuracy:', result3[1])\n"
      ],
      "execution_count": 18,
      "outputs": [
        {
          "output_type": "display_data",
          "data": {
            "image/png": "[encoded data removed]",
            "text/plain": [
              "<Figure size 432x288 with 1 Axes>"
            ]
          },
          "metadata": {
            "tags": []
          }
        },
        {
          "output_type": "stream",
          "text": [
            "25000/25000 [==============================] - 98s 4ms/step\n",
            "test_loss: 0.4025273125386238 test_accuracy: 0.86196\n"
          ],
          "name": "stdout"
        }
      ]
    },
    {
      "cell_type": "code",
      "metadata": {
        "id": "DMjj0DkLWsmd",
        "colab_type": "code",
        "colab": {}
      },
      "source": [
        "history4 = model2.fit(partial_train_data,partial_train_labels,batch_size=1,\n",
        "        epochs=3,validation_data=(partial_val_data,partial_val_labels),verbose=1)"
      ],
      "execution_count": 0,
      "outputs": []
    },
    {
      "cell_type": "code",
      "metadata": {
        "id": "c-3NdeggzF2j",
        "colab_type": "code",
        "colab": {
          "base_uri": "https://localhost:8080/",
          "height": 134
        },
        "outputId": "c9483e99-cf4c-4c92-e04e-4f23cb69b957"
      },
      "source": [
        "history5 = model2.fit(partial_train_data,partial_train_labels,batch_size=32,\n",
        "        epochs=1,validation_data=(partial_val_data,partial_val_labels),verbose=1)"
      ],
      "execution_count": 21,
      "outputs": [
        {
          "output_type": "stream",
          "text": [
            "Train on 23000 samples, validate on 2000 samples\n",
            "Epoch 1/3\n",
            "23000/23000 [==============================] - 469s 20ms/step - loss: 0.2473 - acc: 0.9061 - val_loss: 0.2928 - val_acc: 0.8825\n",
            "Epoch 2/3\n",
            "23000/23000 [==============================] - 467s 20ms/step - loss: 0.1947 - acc: 0.9288 - val_loss: 0.2879 - val_acc: 0.8845\n",
            "Epoch 3/3\n",
            "23000/23000 [==============================] - 473s 21ms/step - loss: 0.1647 - acc: 0.9414 - val_loss: 0.3095 - val_acc: 0.8910\n"
          ],
          "name": "stdout"
        }
      ]
    }
  ]
}